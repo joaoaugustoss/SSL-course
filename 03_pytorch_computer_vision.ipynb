{
  "cells": [
    {
      "cell_type": "markdown",
      "id": "c2dc16c4-c7f4-4945-ba91-6430a51e6f5a",
      "metadata": {
        "id": "c2dc16c4-c7f4-4945-ba91-6430a51e6f5a"
      },
      "source": [
        "<a href=\"https://colab.research.google.com/github/eborin/SSL-course/blob/main/03_pytorch_computer_vision.ipynb\" target=\"_parent\"><img src=\"https://colab.research.google.com/assets/colab-badge.svg\" alt=\"Open In Colab\"/></a>\n",
        "\n",
        "[View Source Code](https://github.com/eborin/SSL-course/blob/main/03_pytorch_computer_vision.ipynb)"
      ]
    },
    {
      "cell_type": "markdown",
      "id": "08f47c6a-3318-4e3f-8bb3-c520e00e63dd",
      "metadata": {
        "id": "08f47c6a-3318-4e3f-8bb3-c520e00e63dd"
      },
      "source": [
        "# PyTorch Computer Vision\n",
        "\n",
        "This notebook is an adaptation of the `03_pytorch_computer_vision.ipynb` distributed by Daniel Bourke at [https://github.com/mrdbourke/pytorch-deep-learning](https://github.com/mrdbourke/pytorch-deep-learning).\n",
        "\n",
        "Feel free to explore either Daniel Burke's or my GitHub repository.\n",
        "If you find the material helpful, consider following or giving the projects a ⭐ to show your support!\n",
        "* <a href=\"https://github.com/mrdbourke/pytorch-deep-learning\" target=\"_parent\">Daniel Burke's PyTorch Deep Learning course on GitHub</a>\n",
        "* <a href=\"https://github.com/eborin/SSL-course\" target=\"_parent\">Edson Borin's SSL course on GitHub</a>"
      ]
    },
    {
      "cell_type": "markdown",
      "id": "b587bde5",
      "metadata": {
        "id": "b587bde5"
      },
      "source": [
        "## 1. Introduction"
      ]
    },
    {
      "cell_type": "markdown",
      "id": "e10fb043",
      "metadata": {
        "id": "e10fb043"
      },
      "source": [
        "### 1.1 Objective\n",
        "\n",
        "The main objective of this tutorial is to revise basic PyTorch building blocks for building and training computer vision models.\n",
        "\n",
        "WARNING: This tutorial is not intended to be a complete guide to PyTorch nor a guide to help students learn PyTorch."
      ]
    },
    {
      "cell_type": "markdown",
      "id": "3295c072",
      "metadata": {
        "id": "3295c072"
      },
      "source": [
        "### 1.2 What is Computer Vision?\n",
        "\n",
        "[Computer vision](https://en.wikipedia.org/wiki/Computer_vision) is the art of teaching a computer to see.\n",
        "\n",
        "For example, it could involve building a model to classify whether a photo is of a cat or a dog ([binary classification](https://developers.google.com/machine-learning/glossary#binary-classification)).\n",
        "\n",
        "Or whether a photo is of a cat, dog or chicken ([multi-class classification](https://developers.google.com/machine-learning/glossary#multi-class-classification)).\n",
        "\n",
        "Or identifying where a car appears in a video frame ([object detection](https://en.wikipedia.org/wiki/Object_detection)).\n",
        "\n",
        "Or figuring out where different objects in an image can be separated ([panoptic segmentation](https://arxiv.org/abs/1801.00868)).\n",
        "\n",
        "![example computer vision problems](https://raw.githubusercontent.com/eborin/SSL-course/main/images/db/03-computer-vision-problems.png)\n",
        "*Example computer vision problems for binary classification, multiclass classification, object detection and segmentation.*"
      ]
    },
    {
      "cell_type": "markdown",
      "id": "19179a39-0c6c-40f7-9891-09e17d107ecf",
      "metadata": {
        "id": "19179a39-0c6c-40f7-9891-09e17d107ecf"
      },
      "source": [
        "### 1.3 Where does computer vision get used?\n",
        "\n",
        "If you use a smartphone, you've already used computer vision.\n",
        "\n",
        "Camera and photo apps use [computer vision to enhance](https://machinelearning.apple.com/research/panoptic-segmentation) and sort images.\n",
        "\n",
        "Modern cars use [computer vision](https://youtu.be/j0z4FweCy4M?t=2989) to avoid other cars and stay within lane lines.\n",
        "\n",
        "Manufacturers use computer vision to identify defects in various products.\n",
        "\n",
        "Security cameras use computer vision to detect potential intruders.\n",
        "\n",
        "In essence, anything that can be described in a visual sense can be a potential computer vision problem."
      ]
    },
    {
      "cell_type": "markdown",
      "id": "412e8bd1-0e6b-4ad6-8506-b28a8f669dc1",
      "metadata": {
        "id": "412e8bd1-0e6b-4ad6-8506-b28a8f669dc1"
      },
      "source": [
        "### 1.4 What we're going to cover\n",
        "\n",
        "We're going to apply the PyTorch Workflow we've been learning in the previous tutorials to computer vision.\n",
        "\n",
        "![a PyTorch workflow with a computer vision focus](https://raw.githubusercontent.com/eborin/SSL-course/main/images/db/03-pytorch-computer-vision-workflow.png)\n",
        "\n",
        "Specifically, we're going to cover:\n",
        "\n",
        "| **Topic** | **Contents** |\n",
        "| ----- | ----- |\n",
        "| [**2. Computer vision libraries in PyTorch**](#sec_2) | PyTorch has a bunch of built-in helpful computer vision libraries, let's check them out.  |\n",
        "| [**3. Getting a dataset**](#sec_3) | To practice computer vision, we'll start with some images of different pieces of clothing from [FashionMNIST](https://github.com/zalandoresearch/fashion-mnist). |\n",
        "| [**4. Setting Up a DataLoader**](#sec_4) | We've got some images, let's load them in with a [PyTorch `DataLoader`](https://pytorch.org/docs/stable/data.html) so we can use them with our training loop. |\n",
        "| [**5. Model V0: Building a baseline model**](#sec_5) | Here we'll create a simple (linear) multi-class classification model to learn patterns in the data. We'll also create our **training loop**. |\n",
        "| [**6. Model V1: Building a non-linear model**](#sec_6) | Here we'll change our baseline model by adding non-linear layers. |\n",
        "| [**7. Model V2: Building a Convolutional Neural Network**](#sec_7) | This version of the model will employ the convolutional neural network architecture. |\n",
        "| [**8. Handling the challenge of shape mismatches**](#sec_8) | We will discuss how to inspect the effect of layers on tensor shapes. |\n",
        "| [**9. (Extra) Make and evaluate random predictions**](#sec_9) | Let's make some predictions on random images and evaluate our best model. |\n",
        "| [**10. (Extra) Making a confusion matrix**](#sec_10) | A confusion matrix is a great way to evaluate a classification model, let's see how we can make one. |"
      ]
    },
    {
      "cell_type": "markdown",
      "id": "cddf62c3-f5e5-4f7e-852a-2ad6d38b7399",
      "metadata": {
        "id": "cddf62c3-f5e5-4f7e-852a-2ad6d38b7399"
      },
      "source": [
        "### 1.5 Where can you get help?\n",
        "\n",
        "Besides discussing with your colleagues and the course professor, you may try asking questions on the [Discussions page](https://github.com/mrdbourke/pytorch-deep-learning/discussions).\n",
        "\n",
        "There's also the [PyTorch developer forums](https://discuss.pytorch.org/), a very helpful place for all things PyTorch.\n",
        "\n",
        "And of course, there's the [PyTorch documentation](https://pytorch.org/docs/stable/index.html) and [PyTorch developer forums](https://discuss.pytorch.org/), a very helpful place for all things PyTorch."
      ]
    },
    {
      "cell_type": "markdown",
      "id": "a0bedcfc-e12a-4a81-9913-84c6a888742a",
      "metadata": {
        "id": "a0bedcfc-e12a-4a81-9913-84c6a888742a"
      },
      "source": [
        "## <a id='sec_2'>2. Computer vision libraries in PyTorch</a>\n",
        "\n",
        "Before we get started writing code, let's talk about some PyTorch computer vision libraries you should be aware of.\n",
        "\n",
        "| PyTorch module | What does it do? |\n",
        "| ----- | ----- |\n",
        "| [`torchvision`](https://pytorch.org/vision/stable/index.html) | Contains datasets, model architectures and image transformations often used for computer vision problems. |\n",
        "| [`torchvision.datasets`](https://pytorch.org/vision/stable/datasets.html) | Here you'll find many example computer vision datasets for a range of problems from image classification, object detection, image captioning, video classification and more. It also contains [a series of base classes for making custom datasets](https://pytorch.org/vision/stable/datasets.html#base-classes-for-custom-datasets). |\n",
        "| [`torchvision.models`](https://pytorch.org/vision/stable/models.html) | This module contains well-performing and commonly used computer vision model architectures implemented in PyTorch, you can use these with your own problems. |\n",
        "| [`torchvision.transforms`](https://pytorch.org/vision/stable/transforms.html) | Often images need to be transformed (turned into numbers/processed/augmented) before being used with a model, common image transformations are found here. |\n",
        "| [`torch.utils.data.Dataset`](https://pytorch.org/docs/stable/data.html#torch.utils.data.Dataset) | Base dataset class for PyTorch.  |\n",
        "| [`torch.utils.data.DataLoader`](https://pytorch.org/docs/stable/data.html#module-torch.utils.data) | Creates a Python iterable over a dataset (created with `torch.utils.data.Dataset`). |\n",
        "\n",
        "> **Note:** The `torch.utils.data.Dataset` and `torch.utils.data.DataLoader` classes aren't only for computer vision in PyTorch, they are capable of dealing with many different types of data.\n",
        "\n",
        "Now we've covered some of the most important PyTorch computer vision libraries, let's import the relevant dependencies.\n"
      ]
    },
    {
      "cell_type": "code",
      "execution_count": null,
      "id": "c263a60d-d788-482f-b9e7-9cab4f6b1f72",
      "metadata": {
        "colab": {
          "base_uri": "https://localhost:8080/"
        },
        "id": "c263a60d-d788-482f-b9e7-9cab4f6b1f72",
        "outputId": "86f5e379-fb1d-4cf8-c3f6-5a7c1cc466bf"
      },
      "outputs": [
        {
          "output_type": "stream",
          "name": "stdout",
          "text": [
            "PyTorch version: 2.6.0+cu124\n",
            "torchvision version: 0.21.0+cu124\n"
          ]
        }
      ],
      "source": [
        "# Import PyTorch\n",
        "import torch\n",
        "from torch import nn\n",
        "\n",
        "# Import torchvision\n",
        "import torchvision\n",
        "from torchvision import datasets\n",
        "from torchvision.transforms import ToTensor\n",
        "\n",
        "# Import matplotlib for visualization\n",
        "import matplotlib.pyplot as plt\n",
        "\n",
        "# Check versions\n",
        "# Note: your PyTorch version shouldn't be lower than 1.10.0 and torchvision version shouldn't be lower than 0.11\n",
        "print(f\"PyTorch version: {torch.__version__}\\ntorchvision version: {torchvision.__version__}\")"
      ]
    },
    {
      "cell_type": "markdown",
      "id": "1f5bddee",
      "metadata": {
        "id": "1f5bddee"
      },
      "source": [
        "Let's also select the device to run our experiments."
      ]
    },
    {
      "cell_type": "code",
      "execution_count": null,
      "id": "062db87c",
      "metadata": {
        "id": "062db87c",
        "outputId": "5d46f06a-1c3f-440a-dfad-60222a931b3b"
      },
      "outputs": [
        {
          "name": "stdout",
          "output_type": "stream",
          "text": [
            "Using device: cuda\n"
          ]
        }
      ],
      "source": [
        "# Setup device agnostic code\n",
        "if torch.cuda.is_available():\n",
        "    device = \"cuda\" # Use NVIDIA GPU (if available)\n",
        "elif torch.backends.mps.is_available():\n",
        "    device = \"mps\" # Use Apple Silicon GPU (if available)\n",
        "else:\n",
        "    device = \"cpu\" # Default to CPU if no GPU is available\n",
        "\n",
        "# Uncomment the next line if you want to force device = \"cpu\"\n",
        "# device = \"cpu\"\n",
        "\n",
        "print(f\"Using device: {device}\")\n",
        "\n",
        "# Auxiliary function to set both the CPU and GPU seeds\n",
        "def set_seed(seed):\n",
        "    torch.manual_seed(seed)\n",
        "    if device == \"cuda\": torch.cuda.manual_seed(seed)"
      ]
    },
    {
      "cell_type": "markdown",
      "id": "48d6bfe7-91da-44eb-9ab6-7c41c1e9fa8e",
      "metadata": {
        "id": "48d6bfe7-91da-44eb-9ab6-7c41c1e9fa8e"
      },
      "source": [
        "## <a id='sec_3'>3. Getting a dataset</a>\n",
        "\n",
        "To begin working on a computer vision problem, let's get a computer vision dataset.\n",
        "\n",
        "We're going to start with FashionMNIST."
      ]
    },
    {
      "cell_type": "markdown",
      "id": "f6fc25c1",
      "metadata": {
        "id": "f6fc25c1"
      },
      "source": [
        "### 3.1 The FashionMNIST dataset\n",
        "\n",
        "MNIST stands for Modified National Institute of Standards and Technology.\n",
        "\n",
        "The [original MNIST dataset](https://en.wikipedia.org/wiki/MNIST_database) contains thousands of examples of handwritten digits (from 0 to 9) and was used to build computer vision models to identify numbers for postal services.\n",
        "\n",
        "[FashionMNIST](https://github.com/zalandoresearch/fashion-mnist), made by Zalando Research, is a similar setup.\n",
        "\n",
        "Except it contains grayscale images of 10 different kinds of clothing.\n",
        "\n",
        "![example image of FashionMNIST](https://raw.githubusercontent.com/eborin/SSL-course/main/images/db/03-fashion-mnist-slide.png)\n",
        "*`torchvision.datasets` contains a lot of example datasets you can use to practice writing computer vision code on. FashionMNIST is one of those datasets. And since it has 10 different image classes (different types of clothing), it's a multi-class classification problem.*\n",
        "\n",
        "Later, we'll be building a computer vision neural network to identify the different styles of clothing in these images.\n",
        "\n",
        "As discussed before, PyTorch has a bunch of common computer vision datasets stored in `torchvision.datasets`.\n",
        "\n",
        "Including FashionMNIST in [`torchvision.datasets.FashionMNIST()`](https://pytorch.org/vision/main/generated/torchvision.datasets.FashionMNIST.html).\n",
        "\n",
        "To download it, the FashionMNIST class provide the following parameters:\n",
        "* `root: str` - which folder do you want to download the data to?\n",
        "* `train: Bool` - do you want the training or test split?\n",
        "* `download: Bool` - should the data be downloaded?\n",
        "* `transform: torchvision.transforms` - what transformations would you like to do on the data?\n",
        "* `target_transform` - you can transform the targets (labels) if you like too.\n",
        "\n",
        "Many other datasets in `torchvision` have these parameter options."
      ]
    },
    {
      "cell_type": "markdown",
      "id": "98d95238",
      "metadata": {
        "id": "98d95238"
      },
      "source": [
        "### 3.2 Downloading the dataset\n",
        "\n",
        "So, lets start by downloading the training set from the Fashion MNIST dataset."
      ]
    },
    {
      "cell_type": "code",
      "execution_count": null,
      "id": "486f8377-6810-4367-859d-69dccc7aef95",
      "metadata": {
        "id": "486f8377-6810-4367-859d-69dccc7aef95"
      },
      "outputs": [],
      "source": [
        "# Setup training data\n",
        "train_dataset = datasets.FashionMNIST(\n",
        "    root=\"data\", # where to download data to?\n",
        "    train=True, # get training data\n",
        "    download=True, # download data if it doesn't exist on disk\n",
        "    transform=ToTensor(), # images come as PIL format, we want to turn into Torch tensors\n",
        "    target_transform=None # you can transform labels as well\n",
        ")\n"
      ]
    },
    {
      "cell_type": "markdown",
      "id": "0ea329ca",
      "metadata": {
        "id": "0ea329ca"
      },
      "source": [
        "After executing the previous code block, you may find a copy of the FashionMNIST dataset on a folder named `data`.\n",
        "\n",
        "Ok, now, for our purposes, lets split the data into training and validation sets. The `random_split` function randomly split a given dataset in multiple subsets."
      ]
    },
    {
      "cell_type": "code",
      "execution_count": null,
      "id": "37816257",
      "metadata": {
        "id": "37816257"
      },
      "outputs": [],
      "source": [
        "from torch.utils.data import random_split\n",
        "\n",
        "set_seed(42)\n",
        "\n",
        "# Define split sizes (e.g., 80% training, 20% validation)\n",
        "train_size = int(0.8 * len(train_dataset))\n",
        "val_size = len(train_dataset) - train_size\n",
        "\n",
        "# Split the dataset\n",
        "train_data, val_data = random_split(train_dataset, [train_size, val_size])\n"
      ]
    },
    {
      "cell_type": "markdown",
      "id": "a63246f6-3645-49de-88fe-ec18e78bfbaf",
      "metadata": {
        "id": "a63246f6-3645-49de-88fe-ec18e78bfbaf"
      },
      "source": [
        "Now, let's check out the first sample of the training data."
      ]
    },
    {
      "cell_type": "code",
      "execution_count": null,
      "id": "43bfd3d9-a132-41e8-8ccd-5ae25a7da59a",
      "metadata": {
        "colab": {
          "base_uri": "https://localhost:8080/"
        },
        "id": "43bfd3d9-a132-41e8-8ccd-5ae25a7da59a",
        "outputId": "1595e80b-6a3f-4171-a128-ec506b4d8326"
      },
      "outputs": [
        {
          "name": "stdout",
          "output_type": "stream",
          "text": [
            "Image: tensor([[[0.0000, 0.0000, 0.0000, 0.0000, 0.0000, 0.0000, 0.0000, 0.0000,\n",
            "          0.0000, 0.0000, 0.0000, 0.0000, 0.0000, 0.0000, 0.0000, 0.0000,\n",
            "          0.0000, 0.0000, 0.0000, 0.0000, 0.0000, 0.0000, 0.0000, 0.0000,\n",
            "          0.0000, 0.0000, 0.0000, 0.0000],\n",
            "         [0.0000, 0.0000, 0.0000, 0.0000, 0.0000, 0.0000, 0.0000, 0.0000,\n",
            "          0.0000, 0.0000, 0.0000, 0.0000, 0.0000, 0.0000, 0.0000, 0.0000,\n",
            "          0.0000, 0.0000, 0.0000, 0.0000, 0.0000, 0.0000, 0.0000, 0.0000,\n",
            "          0.0000, 0.0000, 0.0000, 0.0000],\n",
            "         [0.0000, 0.0000, 0.0000, 0.0000, 0.0000, 0.0000, 0.0000, 0.0000,\n",
            "          0.0000, 0.0000, 0.0000, 0.0000, 0.0000, 0.1529, 0.2353, 0.2000,\n",
            "          0.2235, 0.1961, 0.2157, 0.2078, 0.1961, 0.1922, 0.1647, 0.1725,\n",
            "          0.1804, 0.1843, 0.2353, 0.0431],\n",
            "         [0.0000, 0.0000, 0.0000, 0.0000, 0.0000, 0.0000, 0.0000, 0.0000,\n",
            "          0.0000, 0.0000, 0.0000, 0.0078, 0.0000, 0.5216, 0.6196, 0.5922,\n",
            "          0.7529, 0.7725, 0.8118, 0.7882, 0.8549, 0.8549, 0.8235, 0.8392,\n",
            "          0.7294, 0.7255, 0.7176, 0.2863],\n",
            "         [0.0000, 0.0000, 0.0000, 0.0000, 0.0000, 0.0000, 0.0000, 0.0000,\n",
            "          0.0000, 0.0000, 0.0000, 0.0039, 0.0000, 0.4941, 0.5882, 0.5529,\n",
            "          0.6039, 0.6353, 0.6471, 0.5804, 0.6510, 0.6588, 0.6824, 0.6941,\n",
            "          0.6902, 0.6706, 0.6980, 0.1490],\n",
            "         [0.0000, 0.0000, 0.0000, 0.0000, 0.0000, 0.0000, 0.0000, 0.0000,\n",
            "          0.0000, 0.0000, 0.0000, 0.0039, 0.0000, 0.4706, 0.5765, 0.5765,\n",
            "          0.6275, 0.6392, 0.6706, 0.6824, 0.6745, 0.6902, 0.7059, 0.7098,\n",
            "          0.7020, 0.6980, 0.7176, 0.1176],\n",
            "         [0.0000, 0.0000, 0.0000, 0.0000, 0.0000, 0.0000, 0.0000, 0.0000,\n",
            "          0.0000, 0.0000, 0.0000, 0.0039, 0.0000, 0.4392, 0.5882, 0.6392,\n",
            "          0.7098, 0.7294, 0.7255, 0.7059, 0.7098, 0.6980, 0.7137, 0.6902,\n",
            "          0.6667, 0.6863, 0.8000, 0.0784],\n",
            "         [0.0000, 0.0000, 0.0000, 0.0000, 0.0000, 0.0000, 0.0000, 0.0000,\n",
            "          0.0000, 0.0000, 0.0000, 0.0039, 0.0000, 0.4824, 0.6157, 0.6275,\n",
            "          0.6588, 0.7255, 0.7294, 0.6667, 0.6902, 0.7020, 0.6980, 0.7059,\n",
            "          0.6392, 0.6863, 0.7569, 0.0000],\n",
            "         [0.0000, 0.0000, 0.0000, 0.0000, 0.0000, 0.0000, 0.0000, 0.0000,\n",
            "          0.0000, 0.0000, 0.0000, 0.0039, 0.0000, 0.5333, 0.6078, 0.6118,\n",
            "          0.6118, 0.6196, 0.6980, 0.6941, 0.7490, 0.7333, 0.7176, 0.6863,\n",
            "          0.6157, 0.6667, 0.7255, 0.0000],\n",
            "         [0.0000, 0.0000, 0.0000, 0.0000, 0.0000, 0.0000, 0.0000, 0.0000,\n",
            "          0.0000, 0.0000, 0.0000, 0.0000, 0.0000, 0.5216, 0.6196, 0.6510,\n",
            "          0.6392, 0.6392, 0.7098, 0.6902, 0.7294, 0.7804, 0.8353, 0.7725,\n",
            "          0.7294, 0.6980, 0.7765, 0.0000],\n",
            "         [0.0000, 0.0000, 0.0000, 0.0000, 0.0000, 0.0000, 0.0000, 0.0000,\n",
            "          0.0000, 0.0000, 0.0039, 0.0000, 0.0000, 0.6196, 0.6314, 0.5922,\n",
            "          0.5686, 0.6235, 0.4784, 0.4902, 0.4314, 0.5569, 0.6824, 0.7176,\n",
            "          0.6431, 0.7412, 0.5843, 0.0000],\n",
            "         [0.0000, 0.0000, 0.0000, 0.0000, 0.0000, 0.0000, 0.0000, 0.0000,\n",
            "          0.0000, 0.0000, 0.0078, 0.0000, 0.0000, 0.5647, 0.5882, 0.5647,\n",
            "          0.5608, 0.6706, 0.6392, 0.6431, 0.5333, 0.5412, 0.6314, 0.7216,\n",
            "          0.4039, 0.7020, 0.3882, 0.0000],\n",
            "         [0.0000, 0.0000, 0.0000, 0.0000, 0.0000, 0.0039, 0.0000, 0.0000,\n",
            "          0.0000, 0.0000, 0.0078, 0.0000, 0.0039, 0.5294, 0.6157, 0.6549,\n",
            "          0.6980, 0.6824, 0.6941, 0.7176, 0.7294, 0.7725, 0.7725, 0.7098,\n",
            "          0.6196, 0.7059, 0.2431, 0.0000],\n",
            "         [0.0000, 0.0000, 0.0000, 0.0000, 0.0000, 0.0000, 0.0000, 0.0000,\n",
            "          0.0000, 0.0000, 0.0118, 0.0000, 0.0353, 0.5804, 0.6549, 0.6745,\n",
            "          0.6863, 0.6902, 0.7412, 0.7098, 0.6784, 0.6863, 0.6863, 0.8000,\n",
            "          0.7569, 0.7569, 0.2078, 0.0000],\n",
            "         [0.0000, 0.0000, 0.0000, 0.0000, 0.0000, 0.0000, 0.0000, 0.0000,\n",
            "          0.0000, 0.0000, 0.0078, 0.0000, 0.1804, 0.5882, 0.6118, 0.6157,\n",
            "          0.6431, 0.6471, 0.6667, 0.6667, 0.6667, 0.6745, 0.6784, 0.6824,\n",
            "          0.7059, 0.7137, 0.3020, 0.0000],\n",
            "         [0.0000, 0.0000, 0.0000, 0.0000, 0.0000, 0.0000, 0.0000, 0.0000,\n",
            "          0.0000, 0.0078, 0.0000, 0.0000, 0.4510, 0.5373, 0.5882, 0.6000,\n",
            "          0.6078, 0.5843, 0.5647, 0.6039, 0.6510, 0.6784, 0.7176, 0.7333,\n",
            "          0.7020, 0.6706, 0.4902, 0.0000],\n",
            "         [0.0000, 0.0000, 0.0039, 0.0039, 0.0000, 0.0000, 0.0000, 0.0000,\n",
            "          0.0157, 0.0039, 0.0000, 0.3176, 0.5176, 0.5255, 0.6118, 0.6314,\n",
            "          0.6196, 0.6314, 0.6588, 0.6902, 0.7216, 0.6941, 0.7020, 0.6863,\n",
            "          0.6471, 0.6549, 0.5529, 0.0000],\n",
            "         [0.0039, 0.0000, 0.0000, 0.0078, 0.0118, 0.0118, 0.0078, 0.0000,\n",
            "          0.0000, 0.0000, 0.2588, 0.4980, 0.4039, 0.5922, 0.6784, 0.6392,\n",
            "          0.6824, 0.7137, 0.6941, 0.6314, 0.6235, 0.6196, 0.6588, 0.6784,\n",
            "          0.6980, 0.7059, 0.6235, 0.0000],\n",
            "         [0.0078, 0.0000, 0.0000, 0.0000, 0.0000, 0.0000, 0.0000, 0.0000,\n",
            "          0.0353, 0.3333, 0.4745, 0.4275, 0.4824, 0.5490, 0.6745, 0.6431,\n",
            "          0.6275, 0.6078, 0.6000, 0.5961, 0.5922, 0.5804, 0.5961, 0.7098,\n",
            "          0.7137, 0.7059, 0.7255, 0.0000],\n",
            "         [0.0000, 0.0745, 0.2392, 0.2510, 0.2314, 0.2392, 0.2588, 0.3451,\n",
            "          0.4235, 0.4431, 0.3804, 0.4667, 0.4667, 0.3922, 0.4745, 0.5725,\n",
            "          0.5569, 0.5922, 0.6275, 0.6353, 0.6157, 0.5804, 0.6039, 0.6392,\n",
            "          0.6588, 0.6824, 0.6824, 0.0000],\n",
            "         [0.0000, 0.2196, 0.3569, 0.3961, 0.4314, 0.4667, 0.4784, 0.3961,\n",
            "          0.3882, 0.3765, 0.3804, 0.4196, 0.4353, 0.4118, 0.4157, 0.4549,\n",
            "          0.4824, 0.5725, 0.5961, 0.5490, 0.5255, 0.6235, 0.6784, 0.5804,\n",
            "          0.6157, 0.6314, 0.6510, 0.0000],\n",
            "         [0.0863, 0.4588, 0.3686, 0.4000, 0.3882, 0.3804, 0.4235, 0.4588,\n",
            "          0.4863, 0.4667, 0.4627, 0.5098, 0.4980, 0.5529, 0.5843, 0.5608,\n",
            "          0.5373, 0.5333, 0.5255, 0.5255, 0.5569, 0.6902, 0.7373, 0.7059,\n",
            "          0.7373, 0.6902, 0.7961, 0.0784],\n",
            "         [0.3020, 0.7569, 0.5922, 0.5373, 0.5137, 0.4235, 0.3216, 0.4275,\n",
            "          0.4157, 0.3922, 0.4392, 0.5059, 0.5216, 0.5451, 0.5333, 0.5804,\n",
            "          0.6706, 0.7294, 0.8039, 0.7804, 0.7804, 0.8039, 0.7882, 0.8039,\n",
            "          0.7961, 0.7608, 0.7843, 0.1647],\n",
            "         [0.0000, 0.3255, 0.6392, 0.7412, 0.7255, 0.6941, 0.6000, 0.5490,\n",
            "          0.5020, 0.4275, 0.4588, 0.5490, 0.5922, 0.6549, 0.7451, 0.8392,\n",
            "          0.7843, 0.7529, 0.4392, 0.7765, 0.8235, 0.8078, 0.8196, 0.8196,\n",
            "          0.8157, 0.8078, 0.8471, 0.2275],\n",
            "         [0.0000, 0.0000, 0.0000, 0.1608, 0.5059, 0.6392, 0.7451, 0.7843,\n",
            "          0.7961, 0.7765, 0.7804, 0.7843, 0.7882, 0.7255, 0.5804, 0.2314,\n",
            "          0.0000, 0.0000, 0.0000, 1.0000, 0.9373, 0.8941, 0.9020, 0.8902,\n",
            "          0.8824, 0.8627, 0.8471, 0.3412],\n",
            "         [0.0000, 0.0196, 0.0000, 0.0000, 0.0000, 0.0000, 0.0039, 0.1608,\n",
            "          0.2588, 0.3333, 0.3529, 0.2588, 0.1529, 0.0000, 0.0000, 0.0000,\n",
            "          0.0000, 0.0000, 0.0000, 0.4039, 0.3137, 0.2353, 0.2275, 0.2000,\n",
            "          0.1647, 0.1451, 0.0863, 0.0000],\n",
            "         [0.0000, 0.0000, 0.0000, 0.0000, 0.0000, 0.0000, 0.0000, 0.0000,\n",
            "          0.0000, 0.0000, 0.0000, 0.0000, 0.0000, 0.0000, 0.0000, 0.0000,\n",
            "          0.0000, 0.0000, 0.0000, 0.0000, 0.0000, 0.0000, 0.0000, 0.0000,\n",
            "          0.0000, 0.0000, 0.0000, 0.0000],\n",
            "         [0.0000, 0.0000, 0.0000, 0.0000, 0.0000, 0.0000, 0.0000, 0.0000,\n",
            "          0.0000, 0.0000, 0.0000, 0.0000, 0.0000, 0.0000, 0.0000, 0.0000,\n",
            "          0.0000, 0.0000, 0.0000, 0.0000, 0.0000, 0.0000, 0.0000, 0.0000,\n",
            "          0.0000, 0.0000, 0.0000, 0.0000]]])\n",
            "Label      : 9\n",
            "type(image): <class 'torch.Tensor'>\n"
          ]
        }
      ],
      "source": [
        "# See first training sample\n",
        "image, label = train_data[0]\n",
        "print(\"Image:\", image)\n",
        "print(\"Label      :\", label)\n",
        "print(\"type(image):\", type(image))"
      ]
    },
    {
      "cell_type": "markdown",
      "id": "230f1d9c",
      "metadata": {
        "id": "230f1d9c"
      },
      "source": [
        "Ok, it is large tensor and the sample belongs to class 9."
      ]
    },
    {
      "cell_type": "markdown",
      "id": "9ad9d782-06cb-4591-ae3c-3a8b2389a1b2",
      "metadata": {
        "id": "9ad9d782-06cb-4591-ae3c-3a8b2389a1b2"
      },
      "source": [
        "### 3.3 Input and output shapes of a computer vision model\n",
        "\n",
        "We've got a big tensor with lots of values (the image) leading to a single value for the target (the label).\n",
        "\n",
        "Let's see the image shape."
      ]
    },
    {
      "cell_type": "code",
      "execution_count": null,
      "id": "c2997d9f-b574-4d23-aa34-1a4df1751226",
      "metadata": {
        "colab": {
          "base_uri": "https://localhost:8080/"
        },
        "id": "c2997d9f-b574-4d23-aa34-1a4df1751226",
        "outputId": "d9c4283b-aab8-410f-dd7f-03f08d943366"
      },
      "outputs": [
        {
          "data": {
            "text/plain": [
              "torch.Size([1, 28, 28])"
            ]
          },
          "execution_count": 6,
          "metadata": {},
          "output_type": "execute_result"
        }
      ],
      "source": [
        "# What's the shape of the image?\n",
        "image.shape"
      ]
    },
    {
      "cell_type": "markdown",
      "id": "b5326a05-f807-448d-99a3-6d03fc8739f8",
      "metadata": {
        "id": "b5326a05-f807-448d-99a3-6d03fc8739f8"
      },
      "source": [
        "The shape of the image tensor is `[1, 28, 28]` or more specifically:\n",
        "\n",
        "```\n",
        "[color_channels=1, height=28, width=28]\n",
        "```\n",
        "\n",
        "Having `color_channels=1` means the image is grayscale.\n",
        "\n",
        "![example input and output shapes of the fashionMNIST problem](https://raw.githubusercontent.com/eborin/SSL-course/main/images/db/03-computer-vision-input-and-output-shapes.png)\n",
        "*Various problems will have various input and output shapes. But the premise remains: encode data into numbers, build a model to find patterns in those numbers, convert those patterns into something meaningful.*\n",
        "\n",
        "If `color_channels=3`, the image comes in pixel values for red, green, and blue (this is also known as the [RGB color model](https://en.wikipedia.org/wiki/RGB_color_model)).\n",
        "\n",
        "The order of our current tensor is often referred to as `CHW` (Color Channels, Height, Width).\n",
        "\n",
        "There's debate on whether images should be represented as `CHW` (color channels first) or `HWC` (color channels last).\n",
        "\n",
        "> **Note:** You'll also see `NCHW` and `NHWC` formats where `N` stands for *number of images*.\n",
        "For example if you have a `batch_size=32`, your tensor shape may be `[32, 1, 28, 28]`.\n",
        "We'll cover batch sizes later.\n",
        "\n",
        "PyTorch generally accepts `NCHW` (channels first) as the default for many operators.\n",
        "\n",
        "However, PyTorch also explains that `NHWC` (channels last) performs better and is [considered best practice](https://pytorch.org/blog/tensor-memory-format-matters/#pytorch-best-practice).\n",
        "\n",
        "For now, since our dataset and models are relatively small, this won't make too much of a difference.\n",
        "\n",
        "But keep it in mind for when you're working on larger image datasets and using convolutional neural networks (we'll see these later).\n",
        "\n",
        "Let's check out more shapes of our data."
      ]
    },
    {
      "cell_type": "code",
      "execution_count": null,
      "id": "fc4f768c-c3f6-454d-a633-673ad1d6eca0",
      "metadata": {
        "colab": {
          "base_uri": "https://localhost:8080/"
        },
        "id": "fc4f768c-c3f6-454d-a633-673ad1d6eca0",
        "outputId": "fcac1ff4-5b9a-4459-a05e-77482f0e6776"
      },
      "outputs": [
        {
          "data": {
            "text/plain": [
              "(48000, 12000)"
            ]
          },
          "execution_count": 7,
          "metadata": {},
          "output_type": "execute_result"
        }
      ],
      "source": [
        "# How many samples are there?\n",
        "len(train_data), len(val_data)"
      ]
    },
    {
      "cell_type": "markdown",
      "id": "6e0267d5-946b-4c53-af69-61acd3527972",
      "metadata": {
        "id": "6e0267d5-946b-4c53-af69-61acd3527972"
      },
      "source": [
        "So we've got 48,000 training samples and 12,000 validation samples.\n",
        "\n",
        "In this dataset, the targets (or sample classes) are numbers from 0 to 9 that identify the image class.\n",
        "The dataset contains a table that allows us to map these numbers to more human friendly strings.\n",
        "This table is provided via the `.classes` attribute."
      ]
    },
    {
      "cell_type": "code",
      "execution_count": null,
      "id": "e22849c6-d93f-4b38-8403-5ebf0deaf008",
      "metadata": {
        "colab": {
          "base_uri": "https://localhost:8080/"
        },
        "id": "e22849c6-d93f-4b38-8403-5ebf0deaf008",
        "outputId": "6e18aa0f-b8a0-45ee-9f4e-8931bcdfbec0"
      },
      "outputs": [
        {
          "data": {
            "text/plain": [
              "['T-shirt/top',\n",
              " 'Trouser',\n",
              " 'Pullover',\n",
              " 'Dress',\n",
              " 'Coat',\n",
              " 'Sandal',\n",
              " 'Shirt',\n",
              " 'Sneaker',\n",
              " 'Bag',\n",
              " 'Ankle boot']"
            ]
          },
          "execution_count": 8,
          "metadata": {},
          "output_type": "execute_result"
        }
      ],
      "source": [
        "# See classes\n",
        "class_names = train_dataset.classes\n",
        "class_names"
      ]
    },
    {
      "cell_type": "markdown",
      "id": "abdd225c-5742-4d9c-8e8d-fb30a9c3cb6e",
      "metadata": {
        "id": "abdd225c-5742-4d9c-8e8d-fb30a9c3cb6e"
      },
      "source": [
        "Sweet! It looks like we're dealing with 10 different kinds of clothes.\n",
        "\n",
        "Because we're working with 10 different classes, it means our problem is **multi-class classification**.\n",
        "\n",
        "Let's get visual."
      ]
    },
    {
      "cell_type": "markdown",
      "id": "fb625d80-6a98-471e-a758-4de0ce0f3a64",
      "metadata": {
        "id": "fb625d80-6a98-471e-a758-4de0ce0f3a64"
      },
      "source": [
        "### 3.4 Visualizing our data"
      ]
    },
    {
      "cell_type": "code",
      "execution_count": null,
      "id": "b1df1f2c-28c9-43bf-aaef-cf996c9ae1c5",
      "metadata": {
        "colab": {
          "base_uri": "https://localhost:8080/",
          "height": 469
        },
        "id": "b1df1f2c-28c9-43bf-aaef-cf996c9ae1c5",
        "outputId": "9bbdbb0d-eed3-408a-bd7b-03aa22cb35bb"
      },
      "outputs": [
        {
          "name": "stdout",
          "output_type": "stream",
          "text": [
            "Image shape: torch.Size([1, 28, 28])\n"
          ]
        },
        {
          "data": {
            "image/png": "[encoded data removed]",
            "text/plain": [
              "<Figure size 640x480 with 1 Axes>"
            ]
          },
          "metadata": {},
          "output_type": "display_data"
        }
      ],
      "source": [
        "import matplotlib.pyplot as plt\n",
        "image, label = train_data[0]\n",
        "print(f\"Image shape: {image.shape}\")\n",
        "# image shape is [1, 28, 28] (colour channels, height, width) but imshow expects height x width.\n",
        "# We will use the squeeze method to drop the dimensions with size 1.\n",
        "plt.imshow(image.squeeze())\n",
        "plt.title(label);"
      ]
    },
    {
      "cell_type": "markdown",
      "id": "adb19c5c-2f2b-4aaf-8300-256f3594e2db",
      "metadata": {
        "id": "adb19c5c-2f2b-4aaf-8300-256f3594e2db"
      },
      "source": [
        "We can turn the image into grayscale using the `cmap` parameter of `plt.imshow()`.\n",
        "Also, we can convert the label from a number (9) into a human friendly string using the `class_names` table."
      ]
    },
    {
      "cell_type": "code",
      "execution_count": null,
      "id": "92f09917-88f7-4446-b65f-baae586914c9",
      "metadata": {
        "colab": {
          "base_uri": "https://localhost:8080/",
          "height": 452
        },
        "id": "92f09917-88f7-4446-b65f-baae586914c9",
        "outputId": "c702456b-607c-4214-8e03-4bd0b22b097f"
      },
      "outputs": [
        {
          "data": {
            "image/png": "[encoded data removed]",
            "text/plain": [
              "<Figure size 640x480 with 1 Axes>"
            ]
          },
          "metadata": {},
          "output_type": "display_data"
        }
      ],
      "source": [
        "plt.imshow(image.squeeze(), cmap=\"gray\")\n",
        "plt.title(class_names[label]);"
      ]
    },
    {
      "cell_type": "markdown",
      "id": "9a09388a-d754-485f-aa26-4e7a0f782967",
      "metadata": {
        "id": "9a09388a-d754-485f-aa26-4e7a0f782967"
      },
      "source": [
        "Beautiful, well as beautiful as a pixelated grayscale ankle boot can get.\n",
        "\n",
        "Let's view a few more."
      ]
    },
    {
      "cell_type": "code",
      "execution_count": null,
      "id": "7188ed7a-5959-48c4-ac7f-19129a2adc83",
      "metadata": {
        "colab": {
          "base_uri": "https://localhost:8080/",
          "height": 752
        },
        "id": "7188ed7a-5959-48c4-ac7f-19129a2adc83",
        "outputId": "98d50938-b984-4725-8949-d85bf3143555"
      },
      "outputs": [
        {
          "data": {
            "image/png": "[encoded data removed]",
            "text/plain": [
              "<Figure size 900x900 with 16 Axes>"
            ]
          },
          "metadata": {},
          "output_type": "display_data"
        }
      ],
      "source": [
        "# Plot 16 images on a grid of 4 x 4 images\n",
        "set_seed(42)\n",
        "fig = plt.figure(figsize=(9, 9))\n",
        "rows, cols = 4, 4\n",
        "for i in range(1, rows * cols + 1):\n",
        "    random_idx = torch.randint(0, len(train_data), size=[1]).item()\n",
        "    img, label = train_data[random_idx]\n",
        "    fig.add_subplot(rows, cols, i)\n",
        "    plt.imshow(img.squeeze(), cmap=\"gray\")\n",
        "    plt.title(class_names[label])\n",
        "    plt.axis(False);"
      ]
    },
    {
      "cell_type": "markdown",
      "id": "f356fbe9-95b1-4f81-a82d-dc15b3adc06a",
      "metadata": {
        "id": "f356fbe9-95b1-4f81-a82d-dc15b3adc06a"
      },
      "source": [
        "Hmmm, this dataset doesn't look too aesthetic.\n",
        "\n",
        "But the principles we're going to learn on how to build a model for it will be similar across a wide range of computer vision problems.\n",
        "\n",
        "In essence, taking pixel values and building a model to find patterns in them to use on future pixel values.\n",
        "\n",
        "Plus, even for this small dataset (yes, even 60,000 images in deep learning is considered quite small), could you write a program to classify each one of them?\n",
        "\n",
        "You probably could.\n",
        "\n",
        "But I think coding a model in PyTorch would be faster."
      ]
    },
    {
      "cell_type": "markdown",
      "id": "43cdd23d-bd1f-4e8c-ba20-22d2b6ac14b1",
      "metadata": {
        "id": "43cdd23d-bd1f-4e8c-ba20-22d2b6ac14b1"
      },
      "source": [
        "## <a id='sec_4'>4. Setting Up a DataLoader</a>\n",
        "\n",
        "Now we've got a dataset ready to go.\n",
        "\n",
        "The next step is to prepare it with a [`torch.utils.data.DataLoader`](https://pytorch.org/docs/stable/data.html#torch.utils.data.Dataset) or `DataLoader` for short.\n",
        "\n",
        "The `DataLoader` does what you think it might do.\n",
        "\n",
        "It helps sampling data from a dataset when training or evaluating an ML model.\n",
        "\n",
        "It turns a large `Dataset` into a Python iterable of smaller chunks.\n",
        "\n",
        "These smaller chunks are called **batches** or **mini-batches** and can be set by the `batch_size` parameter.\n",
        "\n",
        "Why do this?\n",
        "\n",
        "Because it's more computationally efficient.\n",
        "\n",
        "In an ideal world you could do the forward pass and backward pass across all of your data at once (like we did in the previous tutorials when training and evaluating our polynomial models).\n",
        "\n",
        "But when working with very large datasets, unless you have unlimited computing power, you may need to divide them into batches and process the model batch by batch for training or evaluation.\n",
        "\n",
        "It also gives your model more opportunities to improve.\n",
        "\n",
        "With **mini-batches** (small portions of the data), gradient descent is performed more often per epoch (once per mini-batch rather than once per epoch).\n",
        "\n",
        "What's a good batch size?\n",
        "\n",
        "[32 is a good place to start](https://twitter.com/ylecun/status/989610208497360896?s=20&t=N96J_jotN--PYuJk2WcjMw) for a fair amount of problems.\n",
        "\n",
        "But since this is a value you can set (a **hyperparameter**) you can try all different kinds of values, though generally powers of 2 are used most often (e.g., 32, 64, 128, 256, 512).\n",
        "\n",
        "![an example of what a batched dataset looks like](https://raw.githubusercontent.com/eborin/SSL-course/main/images/db/03-batching-fashionmnist.png)\n",
        "*Batching FashionMNIST with a batch size of 32 and shuffle turned on.\n",
        "A similar batching process will occur for other datasets but will differ depending on the batch size.*"
      ]
    },
    {
      "cell_type": "markdown",
      "id": "9fc18186",
      "metadata": {
        "id": "9fc18186"
      },
      "source": [
        "\n",
        "### 4.1 Creating and inspecting the dataloaders\n",
        "\n",
        "Let's create `DataLoader`'s for our training and validation sets."
      ]
    },
    {
      "cell_type": "code",
      "execution_count": null,
      "id": "bb2dbf90-a326-43cb-b25b-71af142fafeb",
      "metadata": {
        "colab": {
          "base_uri": "https://localhost:8080/"
        },
        "id": "bb2dbf90-a326-43cb-b25b-71af142fafeb",
        "outputId": "1f563408-3f50-4e8c-a15f-53e2f918b1ac"
      },
      "outputs": [
        {
          "name": "stdout",
          "output_type": "stream",
          "text": [
            "Dataloaders: (<torch.utils.data.dataloader.DataLoader object at 0x7c263c39a110>, <torch.utils.data.dataloader.DataLoader object at 0x7c263c37b9a0>)\n",
            "Length of train dataloader: 1500 batches of 32\n",
            "Length of validation dataloader: 375 batches of 32\n"
          ]
        }
      ],
      "source": [
        "from torch.utils.data import DataLoader\n",
        "\n",
        "# Setup the batch size hyperparameter\n",
        "BATCH_SIZE = 32\n",
        "\n",
        "# Turn datasets into iterables (batches)\n",
        "train_dataloader = DataLoader(train_data, # dataset to turn into iterable\n",
        "    batch_size=BATCH_SIZE, # how many samples per batch?\n",
        "    shuffle=True # shuffle data every epoch?\n",
        ")\n",
        "\n",
        "val_dataloader = DataLoader(val_data,\n",
        "    batch_size=BATCH_SIZE,\n",
        "    shuffle=False # don't necessarily have to shuffle the validation data\n",
        ")\n",
        "\n",
        "# Let's check out what we've created\n",
        "print(f\"Dataloaders: {train_dataloader, val_dataloader}\")\n",
        "print(f\"Length of train dataloader: {len(train_dataloader)} batches of {BATCH_SIZE}\")\n",
        "print(f\"Length of validation dataloader: {len(val_dataloader)} batches of {BATCH_SIZE}\")"
      ]
    },
    {
      "cell_type": "markdown",
      "id": "4b72a77f",
      "metadata": {
        "id": "4b72a77f"
      },
      "source": [
        "The dataloader object is an iterator and its items (batches with `BATCH_SIZE` samples) can be accessed directly with a for loop.\n",
        "In this particular case, each item is a list with two values, the sample features (x) batch and the sample labels (y) batch.\n",
        "The following code iterates over all batches in our `train_dataloader` and prints the shape of the batches:"
      ]
    },
    {
      "cell_type": "code",
      "execution_count": null,
      "id": "bae2c031",
      "metadata": {
        "id": "bae2c031",
        "outputId": "07de4652-679a-4149-a6e0-cd138eae7649"
      },
      "outputs": [
        {
          "name": "stdout",
          "output_type": "stream",
          "text": [
            "batch 0    : X batch shape: torch.Size([32, 1, 28, 28]) y batch shape: torch.Size([32])\n",
            "batch 1    : X batch shape: torch.Size([32, 1, 28, 28]) y batch shape: torch.Size([32])\n",
            "batch 2    : X batch shape: torch.Size([32, 1, 28, 28]) y batch shape: torch.Size([32])\n",
            "batch 3    : X batch shape: torch.Size([32, 1, 28, 28]) y batch shape: torch.Size([32])\n",
            "batch 4    : X batch shape: torch.Size([32, 1, 28, 28]) y batch shape: torch.Size([32])\n",
            "batch 5    : X batch shape: torch.Size([32, 1, 28, 28]) y batch shape: torch.Size([32])\n",
            "batch 6    : X batch shape: torch.Size([32, 1, 28, 28]) y batch shape: torch.Size([32])\n",
            "batch 7    : X batch shape: torch.Size([32, 1, 28, 28]) y batch shape: torch.Size([32])\n",
            "batch 8    : X batch shape: torch.Size([32, 1, 28, 28]) y batch shape: torch.Size([32])\n",
            "batch 9    : X batch shape: torch.Size([32, 1, 28, 28]) y batch shape: torch.Size([32])\n",
            "...\n",
            "batch 1499 : X batch shape: torch.Size([32, 1, 28, 28]) y batch shape: torch.Size([32])\n"
          ]
        }
      ],
      "source": [
        "# Iterate over all batches\n",
        "for batch_idx, (X,y) in enumerate(train_dataloader):\n",
        "    if batch_idx < 10: # Print information only for the first 10 batches\n",
        "        print(f\"batch {batch_idx:<5d}: X batch shape:\", X.shape, \"y batch shape:\", y.shape)\n",
        "\n",
        "# Print the last batch\n",
        "print(\"...\")\n",
        "print(f\"batch {batch_idx:<5d}: X batch shape:\", X.shape, \"y batch shape:\", y.shape)\n"
      ]
    },
    {
      "cell_type": "markdown",
      "id": "a9588b67",
      "metadata": {
        "id": "a9588b67"
      },
      "source": [
        "Notice that in each iteration, X consists of a Tensor with shape [32, 1, 28, 28], which contains 32 samples of 1x28x28 images.\n",
        "Also, y consists of a Tensor with shape [32], which contains the 32 samples lables.\n",
        "> Note: the last batch may contain fewer than BATCH_SIZE samples if the dataset size if not a multiple of BATCH_SIZE.\n",
        "\n",
        "Now, lets take the features and labels of the first batch and take a closer look."
      ]
    },
    {
      "cell_type": "code",
      "execution_count": null,
      "id": "7a925ee7-484b-4149-be8f-3ad790172a5f",
      "metadata": {
        "colab": {
          "base_uri": "https://localhost:8080/"
        },
        "id": "7a925ee7-484b-4149-be8f-3ad790172a5f",
        "outputId": "85815bd7-39e9-44ed-b974-9e30fff5b5ad"
      },
      "outputs": [
        {
          "data": {
            "text/plain": [
              "(torch.Size([32, 1, 28, 28]), torch.Size([32]))"
            ]
          },
          "execution_count": 14,
          "metadata": {},
          "output_type": "execute_result"
        }
      ],
      "source": [
        "# Check out what's inside the training dataloader\n",
        "# First, lets fetch the first batch\n",
        "train_features_batch, train_labels_batch = next(iter(train_dataloader))\n",
        "\n",
        "# Now, lets see the shape of the first batch\n",
        "train_features_batch.shape, train_labels_batch.shape"
      ]
    },
    {
      "cell_type": "markdown",
      "id": "4fee4cf8-ab73-4c81-8e5e-3c81691e799c",
      "metadata": {
        "id": "4fee4cf8-ab73-4c81-8e5e-3c81691e799c"
      },
      "source": [
        "And we can see that the data remains unchanged by checking a single sample."
      ]
    },
    {
      "cell_type": "code",
      "execution_count": null,
      "id": "c863d66a-49be-43be-84dc-372a5d6fc2c2",
      "metadata": {
        "colab": {
          "base_uri": "https://localhost:8080/",
          "height": 463
        },
        "id": "c863d66a-49be-43be-84dc-372a5d6fc2c2",
        "outputId": "1052cbcb-6186-4dfe-b5f0-6968bde9fb21"
      },
      "outputs": [
        {
          "name": "stdout",
          "output_type": "stream",
          "text": [
            "Image shape: torch.Size([1, 28, 28])\n",
            "Label: 3, label size: torch.Size([])\n"
          ]
        },
        {
          "data": {
            "image/png": "[encoded data removed]",
            "text/plain": [
              "<Figure size 640x480 with 1 Axes>"
            ]
          },
          "metadata": {},
          "output_type": "display_data"
        }
      ],
      "source": [
        "# Show a sample\n",
        "set_seed(1969)\n",
        "# Select a random index number between 0 and 32 (batch size)\n",
        "random_idx = torch.randint(0, len(train_features_batch), size=[1]).item()\n",
        "# Retrieve the random sample from the batch and plot it\n",
        "img, label = train_features_batch[random_idx], train_labels_batch[random_idx]\n",
        "plt.imshow(img.squeeze(), cmap=\"gray\")\n",
        "plt.title(class_names[label])\n",
        "plt.axis(\"Off\");\n",
        "print(f\"Image shape: {img.shape}\")\n",
        "print(f\"Label: {label}, label size: {label.shape}\")"
      ]
    },
    {
      "cell_type": "markdown",
      "id": "3eee81bd",
      "metadata": {
        "id": "3eee81bd"
      },
      "source": [
        "### 4.2 Summary\n",
        "\n",
        "Dataloaders are important components when training machine learning models with PyTorch.  \n",
        "They organize the dataset in batches and provide iterators to facilitate the implementation of training loops."
      ]
    },
    {
      "cell_type": "markdown",
      "id": "db1695cf-f53d-4c7c-ad39-dfed76533125",
      "metadata": {
        "id": "db1695cf-f53d-4c7c-ad39-dfed76533125"
      },
      "source": [
        "## <a id='sec_5'>5. Model V0: Build a baseline model</a>\n",
        "\n",
        "Our data loader is ready!\n",
        "\n",
        "Now, it's time to build a **baseline model** by subclassing nn.Module.\n",
        "\n",
        "A baseline model is one of the simplest models you can create.\n",
        "It serves as a starting point, which you can refine and improve with more sophisticated models."
      ]
    },
    {
      "cell_type": "markdown",
      "id": "d839e388",
      "metadata": {
        "id": "d839e388"
      },
      "source": [
        "\n",
        "### 5.1 The flatten layer\n",
        "\n",
        "Our baseline will use `nn.Linear()` layers.\n",
        "These layers expect unidimensional tensors (i.e., vectors) as input.\n",
        "Since our image data has two dimensions (28 × 28), we need to reshape it into a vector.\n",
        "\n",
        "The `nn.Flatten()` layer handles this transformation, converting the input into a unidimensional tensor (vector).\n",
        "\n",
        "For example, given a tensor with shape (2,2) (a matrix), applying Flatten() results in a tensor with shape (4), transforming it into a vector with four elements.\n",
        "\n",
        "This is easier to understand when you see it."
      ]
    },
    {
      "cell_type": "code",
      "execution_count": null,
      "id": "405319f1-f242-4bd9-90f5-3abdc50782ac",
      "metadata": {
        "colab": {
          "base_uri": "https://localhost:8080/"
        },
        "id": "405319f1-f242-4bd9-90f5-3abdc50782ac",
        "outputId": "742cd0fe-c95f-4201-a469-f12733625784"
      },
      "outputs": [
        {
          "name": "stdout",
          "output_type": "stream",
          "text": [
            "Shape before flattening: torch.Size([1, 28, 28]) -> [color_channels, height, width]\n",
            "Shape after flattening: torch.Size([1, 784]) -> [color_channels, height*width]\n"
          ]
        }
      ],
      "source": [
        "# Create a flatten layer\n",
        "flatten_model = nn.Flatten() # all nn modules function as a model (can do a forward pass)\n",
        "\n",
        "# Get a single sample\n",
        "x = train_features_batch[0]\n",
        "\n",
        "# Flatten the sample\n",
        "output = flatten_model(x) # perform forward pass\n",
        "\n",
        "# Print out what happened\n",
        "print(f\"Shape before flattening: {x.shape} -> [color_channels, height, width]\")\n",
        "print(f\"Shape after flattening: {output.shape} -> [color_channels, height*width]\")\n",
        "\n",
        "# Try uncommenting below and see what happens\n",
        "#print(x)\n",
        "#print(output)"
      ]
    },
    {
      "cell_type": "markdown",
      "id": "86bb7806-fca6-45af-8111-3e00e38f5be9",
      "metadata": {
        "id": "86bb7806-fca6-45af-8111-3e00e38f5be9"
      },
      "source": [
        "The `nn.Flatten()` layer took our shape from `[color_channels, height, width]` to `[color_channels, height*width]`.\n",
        "\n",
        "In other words, it turned our pixel data from height and width dimensions into one long **feature vector**.\n",
        "Again, we need this because `nn.Linear()` layers like their inputs to be in the form of feature vectors."
      ]
    },
    {
      "cell_type": "markdown",
      "id": "bd274c23",
      "metadata": {
        "id": "bd274c23"
      },
      "source": [
        "### 5.2 Building the model using the `nn.Sequential()` module\n",
        "\n",
        "Now, let's create our first model, which will contain three layers: `Flatten`, `Linear`, and `Linear`.\n",
        "\n",
        "In neural networks, layers are typically arranged sequentially, where the output of the $i^{th}$ layer is fed as input to the $(i+1)^{th}$ layer.\n",
        "\n",
        "We could manually instantiate these three layers and invoke them in the `forward()` method as follows:\n",
        "\n",
        "```python\n",
        "    def forward(self, x):\n",
        "        t1 = self.Flatten(x)\n",
        "        t2 = self.Linear1(t1)\n",
        "        t3 = self.Linear2(t2)\n",
        "        return t3\n",
        "```\n",
        "\n",
        "However, instead of invoking the three layers explicitly, we will use the `nn.Sequential()` class to stack our layers in a sequence.\n",
        "\n",
        "This class encapsulates multiple layers into a single module, making the model more concise and easier to manage.\n",
        "The following code encapsulates the three layers into a single module indentified by the attribute `layer_stack`.\n",
        "Notice that the `forward()` methods simply invokes the `layer_stack` module, which is responsible for invoking the three layers sequentially.\n"
      ]
    },
    {
      "cell_type": "code",
      "execution_count": null,
      "id": "1449f427-6859-41ae-8133-50b58ffbce72",
      "metadata": {
        "id": "1449f427-6859-41ae-8133-50b58ffbce72"
      },
      "outputs": [],
      "source": [
        "from torch import nn\n",
        "\n",
        "class FashionMNISTModelV0(nn.Module):\n",
        "    def __init__(self, input_shape: int, hidden_units: int, output_shape: int):\n",
        "        super().__init__()\n",
        "\n",
        "        self.layer_stack = nn.Sequential(\n",
        "            nn.Flatten(), # Layer to flatten the input\n",
        "            nn.Linear(in_features=input_shape, out_features=hidden_units), # in_features = number of features in a data sample (784 pixels)\n",
        "            nn.Linear(in_features=hidden_units, out_features=output_shape)\n",
        "        )\n",
        "\n",
        "    def forward(self, x):\n",
        "        return self.layer_stack(x)"
      ]
    },
    {
      "cell_type": "markdown",
      "id": "a412cd35",
      "metadata": {
        "id": "a412cd35"
      },
      "source": [
        "The model expects a Tensor with `input_shape` features.\n",
        "First, it converts the tensor into a feature vector by invoking the `nn.Flatten()` layer.\n",
        "Then, it invokes the first linear layer, which expects as input a feature vector with `input_shape` features and produces as output a feature vector with `hidden_units` features.\n",
        "Notice that the `hidden_units` parameter is configurable and can be arbitrarily selected by the user when creating model V0.\n",
        "The `input_shape` is also configurable, however, it must be set so it matches the number of features of the input data.\n",
        "Finally, the last layer (also a linear one) expects as input a feture vector with `hidden_units` features and produces as output a feature fector with `output_shape` features."
      ]
    },
    {
      "cell_type": "markdown",
      "id": "4d1b50bf-d00b-485c-be00-b3e4de156fab",
      "metadata": {
        "id": "4d1b50bf-d00b-485c-be00-b3e4de156fab"
      },
      "source": [
        "In our experiments, we'll need to use the following parameters:\n",
        "* `input_shape=784` - this is how many features you've got going in the model, in our case, it's one for every pixel in the target image (28 pixels high by 28 pixels wide = 784 features).\n",
        "* `hidden_units=10` - number of units/neurons in the hidden layer(s), this number could be whatever you want but to keep the model small we'll start with `10`.\n",
        "* `output_shape=len(class_names)` - since we're working with a multi-class classification problem, we need one output neuron per class.\n",
        "Since our dataset has 10 classes, the model will output a vector of 10 values.\n",
        "Each value represents a score indicating the likelihood that the input belongs to the corresponding class.\n",
        "For example, if the output is [18, 20, 465, 0.00, ..., 0.00], it suggests that the input most likely belongs to class 2 (score = 465).\n",
        "\n",
        "The following image provides a visual representation of our model.\n",
        "\n",
        "![visual representation of model_0](https://raw.githubusercontent.com/eborin/SSL-course/main/images/03_pytorch_computer_vision-3.2.png)\n",
        "\n",
        "Let's create an instance of our model."
      ]
    },
    {
      "cell_type": "code",
      "execution_count": null,
      "id": "dd18384a-76f9-4b5a-a013-fda077f16865",
      "metadata": {
        "colab": {
          "base_uri": "https://localhost:8080/"
        },
        "id": "dd18384a-76f9-4b5a-a013-fda077f16865",
        "outputId": "e4b63839-d012-40db-a7f7-967a146fe566"
      },
      "outputs": [
        {
          "name": "stdout",
          "output_type": "stream",
          "text": [
            "FashionMNISTModelV0(\n",
            "  (layer_stack): Sequential(\n",
            "    (0): Flatten(start_dim=1, end_dim=-1)\n",
            "    (1): Linear(in_features=784, out_features=10, bias=True)\n",
            "    (2): Linear(in_features=10, out_features=10, bias=True)\n",
            "  )\n",
            ")\n"
          ]
        }
      ],
      "source": [
        "set_seed(42)\n",
        "\n",
        "# Need to setup model with input parameters\n",
        "model_0 = FashionMNISTModelV0(input_shape=784, # one for every pixel (28x28)\n",
        "    hidden_units=10, # how many units in the hidden layer\n",
        "    output_shape=len(class_names) # one for every class\n",
        ")\n",
        "\n",
        "print(model_0)"
      ]
    },
    {
      "cell_type": "markdown",
      "id": "61b4c00c",
      "metadata": {
        "id": "61b4c00c"
      },
      "source": [
        "### 5.3 Helper function to compute the model accuracy\n",
        "\n",
        "Let's create a small function to compute the model accuracy by comparing the results produced by the model (`y_pred`) agains the ground thruth (`y_true`)."
      ]
    },
    {
      "cell_type": "code",
      "execution_count": null,
      "id": "a67402be",
      "metadata": {
        "id": "a67402be"
      },
      "outputs": [],
      "source": [
        "# Calculate accuracy (a classification metric)\n",
        "def accuracy_fn(y_true, y_pred):\n",
        "    \"\"\"Calculates accuracy between truth labels and predictions.\n",
        "\n",
        "    Args:\n",
        "        y_true (torch.Tensor): Truth labels for predictions.\n",
        "        y_pred (torch.Tensor): Predictions to be compared to predictions.\n",
        "\n",
        "    Returns:\n",
        "        [torch.float]: Accuracy value between y_true and y_pred, e.g. 78.45\n",
        "    \"\"\"\n",
        "    correct = torch.eq(y_true, y_pred).sum().item()\n",
        "    acc = (correct / len(y_pred)) * 100\n",
        "    return acc"
      ]
    },
    {
      "cell_type": "markdown",
      "id": "03243179-1cdc-45d9-8b8c-82538ac02e9c",
      "metadata": {
        "id": "03243179-1cdc-45d9-8b8c-82538ac02e9c"
      },
      "source": [
        "### 3.4 Creating our training loop\n",
        "\n",
        "Let's create a function to train our model.\n",
        "\n",
        "Similar to code in previous tutorials, the function will contain a loop that iterates over the epochs.\n",
        "However, in this case, it will contain additional loops to iterate over the training dataloader and validation dataloader batches.\n",
        "\n",
        "We will also use the tqdm bar to show a nice progress bar while the function trains the model and the `timeit` module to time the training process.\n",
        "\n",
        "The cross entropy loss function will be used instead of the MAE or MSE functions because it works better for classification problems.\n",
        "\n",
        "Finally, since we're computing on batches of data, our loss and evaluation metrics will be calculated **per batch** rather than across the whole dataset.\n",
        "This means we'll have to compute the average loss and accuracy values for each epoch."
      ]
    },
    {
      "cell_type": "code",
      "execution_count": null,
      "id": "8dd32444",
      "metadata": {
        "id": "8dd32444",
        "outputId": "783a7920-2be4-49a7-f374-f78b84509418"
      },
      "outputs": [
        {
          "name": "stderr",
          "output_type": "stream",
          "text": [
            "/usr/local/lib/python3.10/dist-packages/tqdm/auto.py:21: TqdmWarning: IProgress not found. Please update jupyter and ipywidgets. See https://ipywidgets.readthedocs.io/en/stable/user_install.html\n",
            "  from .autonotebook import tqdm as notebook_tqdm\n"
          ]
        }
      ],
      "source": [
        "# Import tqdm for progress bar\n",
        "from tqdm.auto import tqdm\n",
        "# Import the default_timer from timeit to time the training process\n",
        "from timeit import default_timer as timer\n",
        "\n",
        "def train_model(model, train_dataloader, val_dataloader, device, nepochs=3):\n",
        "    # Set the seed\n",
        "    set_seed(42)\n",
        "\n",
        "    # Send our model to the target device\n",
        "    model = model.to(device)\n",
        "\n",
        "    # Setup the loss function. This is also called \"criterion\"/\"cost function\" in some places\n",
        "    # The cross entropy loss is more adequate for classification problems.\n",
        "    loss_fn = nn.CrossEntropyLoss()\n",
        "\n",
        "    # Setup the optimizer\n",
        "    optimizer = torch.optim.SGD(params=model.parameters(), lr=0.1)\n",
        "\n",
        "    # Lists to store the training losses, validation losses, and validation accuracies over epochs\n",
        "    training_losses, val_losses, val_accs = [], [], []\n",
        "\n",
        "    # Register the start time\n",
        "    train_start_time = timer()\n",
        "\n",
        "    # For each epoch, do\n",
        "    for epoch in range(nepochs):\n",
        "\n",
        "        print(f\"----------------------\\nEpoch: {epoch+1} / {nepochs}\")\n",
        "\n",
        "        # Variable to register the accumulated training loss\n",
        "        train_loss = 0.0\n",
        "\n",
        "        ### Training\n",
        "\n",
        "        # For each batch in the training dataloader, do:\n",
        "        for _, (X, y) in tqdm(enumerate(train_dataloader), total=len(train_dataloader), unit=\" batches\", desc=\"Training  \"):\n",
        "\n",
        "            # Send the data to target device\n",
        "            X, y = X.to(device), y.to(device)\n",
        "            # Set the model to training mode\n",
        "            model.train()\n",
        "\n",
        "            # 1. Forward pass\n",
        "            y_pred = model(X)\n",
        "            # 2. Calculate loss (per batch)\n",
        "            loss = loss_fn(y_pred, y)\n",
        "            train_loss += loss.cpu().detach() # Accumulates the training losses for log purposes\n",
        "            # 3. Optimizer zero grad\n",
        "            optimizer.zero_grad()\n",
        "            # 4. Loss backward\n",
        "            loss.backward()\n",
        "            # 5. Optimizer step\n",
        "            optimizer.step()\n",
        "\n",
        "        # Divide total train loss by length of train dataloader (average loss per batch per epoch)\n",
        "        avg_train_loss = train_loss / len(train_dataloader)\n",
        "        training_losses.append(avg_train_loss)\n",
        "\n",
        "        ### Validating\n",
        "\n",
        "        # Setup variables for accumulatively adding up loss and accuracy\n",
        "        val_loss, val_acc = 0, 0\n",
        "        # Set the model to evaluation mode\n",
        "        model.eval()\n",
        "        # Calculations on val metrics need to happen inside torch.inference_mode()\n",
        "        with torch.inference_mode():\n",
        "            # For each batch in the validation dataloader, do:\n",
        "            for _, (X, y) in tqdm(enumerate(val_dataloader), total=len(val_dataloader), unit=\" batches\", desc=\"Validation \"):\n",
        "                # Send the data to target device\n",
        "                X, y = X.to(device), y.to(device)\n",
        "                # 1. Forward pass\n",
        "                val_pred = model(X)\n",
        "                # 2. Calculate loss (accumulatively)\n",
        "                loss = loss_fn(val_pred, y)\n",
        "                val_loss += loss.cpu().detach() # Accumulates the validation losses for log purposes\n",
        "                # 3. Calculate validation accuracy (preds need to be same as y_true)\n",
        "                val_acc += accuracy_fn(y_true=y, y_pred=val_pred.argmax(dim=1))\n",
        "\n",
        "            # Divide total val loss by length of val dataloader (per batch)\n",
        "            avg_val_loss = val_loss / len(val_dataloader)\n",
        "            val_losses.append(avg_val_loss)\n",
        "\n",
        "            # Divide total accuracy by length of val dataloader (per batch)\n",
        "            val_acc /= len(val_dataloader)\n",
        "            val_accs.append(val_acc)\n",
        "\n",
        "        ## Print out what's happening\n",
        "        print(f\"Train loss: {avg_train_loss:.5f} | Validation loss: {avg_val_loss:.5f}, Validation accuracy: {val_acc:.2f}%\\n\")\n",
        "\n",
        "    # Register the stop time\n",
        "    train_stop_time = timer()\n",
        "    training_elapsed_time = train_stop_time - train_start_time\n",
        "\n",
        "    # Return the elapsed training time, the training losses,\n",
        "    # the validation losses, and the validation accuracies\n",
        "    return training_elapsed_time, training_losses, val_losses, val_accs"
      ]
    },
    {
      "cell_type": "markdown",
      "id": "24af8126",
      "metadata": {
        "id": "24af8126"
      },
      "source": [
        "### 5.5 Training our model\n",
        "\n",
        "Now that we have a dataloader, a model and a training loop, lets train our model.\n",
        "\n",
        "The next code block trains the model for 20 epochs and then shows the time it took to train the model."
      ]
    },
    {
      "cell_type": "code",
      "execution_count": null,
      "id": "6199d04f",
      "metadata": {
        "id": "6199d04f",
        "outputId": "5c3a4668-27c9-4d1b-8329-7fc85b16f53a"
      },
      "outputs": [
        {
          "name": "stdout",
          "output_type": "stream",
          "text": [
            "----------------------\n",
            "Epoch: 1 / 20\n"
          ]
        },
        {
          "name": "stderr",
          "output_type": "stream",
          "text": [
            "Training  : 100%|██████████| 1500/1500 [00:03<00:00, 386.80 batches/s]\n",
            "Validation : 100%|██████████| 375/375 [00:00<00:00, 487.86 batches/s]\n"
          ]
        },
        {
          "name": "stdout",
          "output_type": "stream",
          "text": [
            "Train loss: 0.60808 | Validation loss: 0.57090, Validation accuracy: 78.75%\n",
            "\n",
            "----------------------\n",
            "Epoch: 2 / 20\n"
          ]
        },
        {
          "name": "stderr",
          "output_type": "stream",
          "text": [
            "Training  : 100%|██████████| 1500/1500 [00:03<00:00, 398.37 batches/s]\n",
            "Validation : 100%|██████████| 375/375 [00:00<00:00, 521.82 batches/s]\n"
          ]
        },
        {
          "name": "stdout",
          "output_type": "stream",
          "text": [
            "Train loss: 0.48142 | Validation loss: 0.50685, Validation accuracy: 82.46%\n",
            "\n",
            "----------------------\n",
            "Epoch: 3 / 20\n"
          ]
        },
        {
          "name": "stderr",
          "output_type": "stream",
          "text": [
            "Training  : 100%|██████████| 1500/1500 [00:03<00:00, 409.83 batches/s]\n",
            "Validation : 100%|██████████| 375/375 [00:00<00:00, 542.08 batches/s]\n"
          ]
        },
        {
          "name": "stdout",
          "output_type": "stream",
          "text": [
            "Train loss: 0.45747 | Validation loss: 0.46130, Validation accuracy: 84.36%\n",
            "\n",
            "----------------------\n",
            "Epoch: 4 / 20\n"
          ]
        },
        {
          "name": "stderr",
          "output_type": "stream",
          "text": [
            "Training  : 100%|██████████| 1500/1500 [00:03<00:00, 419.30 batches/s]\n",
            "Validation : 100%|██████████| 375/375 [00:00<00:00, 501.62 batches/s]\n"
          ]
        },
        {
          "name": "stdout",
          "output_type": "stream",
          "text": [
            "Train loss: 0.44484 | Validation loss: 0.47739, Validation accuracy: 83.56%\n",
            "\n",
            "----------------------\n",
            "Epoch: 5 / 20\n"
          ]
        },
        {
          "name": "stderr",
          "output_type": "stream",
          "text": [
            "Training  : 100%|██████████| 1500/1500 [00:03<00:00, 420.17 batches/s]\n",
            "Validation : 100%|██████████| 375/375 [00:00<00:00, 539.44 batches/s]\n"
          ]
        },
        {
          "name": "stdout",
          "output_type": "stream",
          "text": [
            "Train loss: 0.43661 | Validation loss: 0.49285, Validation accuracy: 82.81%\n",
            "\n",
            "----------------------\n",
            "Epoch: 6 / 20\n"
          ]
        },
        {
          "name": "stderr",
          "output_type": "stream",
          "text": [
            "Training  : 100%|██████████| 1500/1500 [00:03<00:00, 417.25 batches/s]\n",
            "Validation : 100%|██████████| 375/375 [00:00<00:00, 544.34 batches/s]\n"
          ]
        },
        {
          "name": "stdout",
          "output_type": "stream",
          "text": [
            "Train loss: 0.43099 | Validation loss: 0.46549, Validation accuracy: 83.87%\n",
            "\n",
            "----------------------\n",
            "Epoch: 7 / 20\n"
          ]
        },
        {
          "name": "stderr",
          "output_type": "stream",
          "text": [
            "Training  : 100%|██████████| 1500/1500 [00:03<00:00, 404.16 batches/s]\n",
            "Validation : 100%|██████████| 375/375 [00:00<00:00, 501.30 batches/s]\n"
          ]
        },
        {
          "name": "stdout",
          "output_type": "stream",
          "text": [
            "Train loss: 0.42631 | Validation loss: 0.49117, Validation accuracy: 82.62%\n",
            "\n",
            "----------------------\n",
            "Epoch: 8 / 20\n"
          ]
        },
        {
          "name": "stderr",
          "output_type": "stream",
          "text": [
            "Training  : 100%|██████████| 1500/1500 [00:03<00:00, 414.03 batches/s]\n",
            "Validation : 100%|██████████| 375/375 [00:00<00:00, 545.90 batches/s]\n"
          ]
        },
        {
          "name": "stdout",
          "output_type": "stream",
          "text": [
            "Train loss: 0.42232 | Validation loss: 0.47619, Validation accuracy: 83.55%\n",
            "\n",
            "----------------------\n",
            "Epoch: 9 / 20\n"
          ]
        },
        {
          "name": "stderr",
          "output_type": "stream",
          "text": [
            "Training  : 100%|██████████| 1500/1500 [00:03<00:00, 406.25 batches/s]\n",
            "Validation : 100%|██████████| 375/375 [00:00<00:00, 521.31 batches/s]\n"
          ]
        },
        {
          "name": "stdout",
          "output_type": "stream",
          "text": [
            "Train loss: 0.41843 | Validation loss: 0.49809, Validation accuracy: 83.23%\n",
            "\n",
            "----------------------\n",
            "Epoch: 10 / 20\n"
          ]
        },
        {
          "name": "stderr",
          "output_type": "stream",
          "text": [
            "Training  : 100%|██████████| 1500/1500 [00:03<00:00, 408.34 batches/s]\n",
            "Validation : 100%|██████████| 375/375 [00:00<00:00, 499.44 batches/s]\n"
          ]
        },
        {
          "name": "stdout",
          "output_type": "stream",
          "text": [
            "Train loss: 0.41579 | Validation loss: 0.46464, Validation accuracy: 83.53%\n",
            "\n",
            "----------------------\n",
            "Epoch: 11 / 20\n"
          ]
        },
        {
          "name": "stderr",
          "output_type": "stream",
          "text": [
            "Training  : 100%|██████████| 1500/1500 [00:03<00:00, 427.54 batches/s]\n",
            "Validation : 100%|██████████| 375/375 [00:00<00:00, 547.26 batches/s]\n"
          ]
        },
        {
          "name": "stdout",
          "output_type": "stream",
          "text": [
            "Train loss: 0.41351 | Validation loss: 0.44410, Validation accuracy: 84.83%\n",
            "\n",
            "----------------------\n",
            "Epoch: 12 / 20\n"
          ]
        },
        {
          "name": "stderr",
          "output_type": "stream",
          "text": [
            "Training  : 100%|██████████| 1500/1500 [00:03<00:00, 416.15 batches/s]\n",
            "Validation : 100%|██████████| 375/375 [00:00<00:00, 544.86 batches/s]\n"
          ]
        },
        {
          "name": "stdout",
          "output_type": "stream",
          "text": [
            "Train loss: 0.41062 | Validation loss: 0.44971, Validation accuracy: 84.66%\n",
            "\n",
            "----------------------\n",
            "Epoch: 13 / 20\n"
          ]
        },
        {
          "name": "stderr",
          "output_type": "stream",
          "text": [
            "Training  : 100%|██████████| 1500/1500 [00:03<00:00, 425.37 batches/s]\n",
            "Validation : 100%|██████████| 375/375 [00:00<00:00, 545.99 batches/s]\n"
          ]
        },
        {
          "name": "stdout",
          "output_type": "stream",
          "text": [
            "Train loss: 0.40836 | Validation loss: 0.44084, Validation accuracy: 85.46%\n",
            "\n",
            "----------------------\n",
            "Epoch: 14 / 20\n"
          ]
        },
        {
          "name": "stderr",
          "output_type": "stream",
          "text": [
            "Training  : 100%|██████████| 1500/1500 [00:03<00:00, 399.67 batches/s]\n",
            "Validation : 100%|██████████| 375/375 [00:00<00:00, 497.43 batches/s]\n"
          ]
        },
        {
          "name": "stdout",
          "output_type": "stream",
          "text": [
            "Train loss: 0.40689 | Validation loss: 0.46403, Validation accuracy: 84.30%\n",
            "\n",
            "----------------------\n",
            "Epoch: 15 / 20\n"
          ]
        },
        {
          "name": "stderr",
          "output_type": "stream",
          "text": [
            "Training  : 100%|██████████| 1500/1500 [00:03<00:00, 410.56 batches/s]\n",
            "Validation : 100%|██████████| 375/375 [00:00<00:00, 543.76 batches/s]\n"
          ]
        },
        {
          "name": "stdout",
          "output_type": "stream",
          "text": [
            "Train loss: 0.40539 | Validation loss: 0.44894, Validation accuracy: 84.64%\n",
            "\n",
            "----------------------\n",
            "Epoch: 16 / 20\n"
          ]
        },
        {
          "name": "stderr",
          "output_type": "stream",
          "text": [
            "Training  : 100%|██████████| 1500/1500 [00:03<00:00, 423.71 batches/s]\n",
            "Validation : 100%|██████████| 375/375 [00:00<00:00, 541.85 batches/s]\n"
          ]
        },
        {
          "name": "stdout",
          "output_type": "stream",
          "text": [
            "Train loss: 0.40189 | Validation loss: 0.44754, Validation accuracy: 85.28%\n",
            "\n",
            "----------------------\n",
            "Epoch: 17 / 20\n"
          ]
        },
        {
          "name": "stderr",
          "output_type": "stream",
          "text": [
            "Training  : 100%|██████████| 1500/1500 [00:03<00:00, 422.72 batches/s]\n",
            "Validation : 100%|██████████| 375/375 [00:00<00:00, 543.72 batches/s]\n"
          ]
        },
        {
          "name": "stdout",
          "output_type": "stream",
          "text": [
            "Train loss: 0.40160 | Validation loss: 0.46399, Validation accuracy: 84.67%\n",
            "\n",
            "----------------------\n",
            "Epoch: 18 / 20\n"
          ]
        },
        {
          "name": "stderr",
          "output_type": "stream",
          "text": [
            "Training  : 100%|██████████| 1500/1500 [00:03<00:00, 416.79 batches/s]\n",
            "Validation : 100%|██████████| 375/375 [00:00<00:00, 496.50 batches/s]\n"
          ]
        },
        {
          "name": "stdout",
          "output_type": "stream",
          "text": [
            "Train loss: 0.40085 | Validation loss: 0.43900, Validation accuracy: 85.05%\n",
            "\n",
            "----------------------\n",
            "Epoch: 19 / 20\n"
          ]
        },
        {
          "name": "stderr",
          "output_type": "stream",
          "text": [
            "Training  : 100%|██████████| 1500/1500 [00:03<00:00, 407.40 batches/s]\n",
            "Validation : 100%|██████████| 375/375 [00:00<00:00, 496.73 batches/s]\n"
          ]
        },
        {
          "name": "stdout",
          "output_type": "stream",
          "text": [
            "Train loss: 0.40055 | Validation loss: 0.45304, Validation accuracy: 84.54%\n",
            "\n",
            "----------------------\n",
            "Epoch: 20 / 20\n"
          ]
        },
        {
          "name": "stderr",
          "output_type": "stream",
          "text": [
            "Training  : 100%|██████████| 1500/1500 [00:03<00:00, 395.58 batches/s]\n",
            "Validation : 100%|██████████| 375/375 [00:00<00:00, 497.07 batches/s]"
          ]
        },
        {
          "name": "stdout",
          "output_type": "stream",
          "text": [
            "Train loss: 0.39748 | Validation loss: 0.43818, Validation accuracy: 85.20%\n",
            "\n",
            "Trained model_0 on cuda:0 for 20 epochs in 87.371 seconds\n"
          ]
        },
        {
          "name": "stderr",
          "output_type": "stream",
          "text": [
            "\n"
          ]
        }
      ],
      "source": [
        "number_of_epochs = 20\n",
        "\n",
        "training_elapsed_time, training_losses, val_losses, val_accs = \\\n",
        "    train_model(model_0, train_dataloader, val_dataloader,\n",
        "                device=device, nepochs=number_of_epochs)\n",
        "\n",
        "print(f\"Trained model_0 on {str(next(model_0.parameters()).device)} for {len(training_losses)} epochs in {training_elapsed_time:.3f} seconds\")"
      ]
    },
    {
      "cell_type": "markdown",
      "id": "930d486e",
      "metadata": {
        "id": "930d486e"
      },
      "source": [
        "In my machine it took approx. 40 seconds on cpu (Not so bad).\n",
        "\n",
        "Now, let's take a look at the training and validation loss curves and at accuracy of the model on the validation set over the epochs."
      ]
    },
    {
      "cell_type": "code",
      "execution_count": null,
      "id": "499c33e7",
      "metadata": {
        "id": "499c33e7",
        "outputId": "3211a490-b649-4c8a-eb90-d16efc58e061"
      },
      "outputs": [
        {
          "data": {
            "image/png": "[encoded data removed]",
            "text/plain": [
              "<Figure size 640x480 with 2 Axes>"
            ]
          },
          "metadata": {},
          "output_type": "display_data"
        }
      ],
      "source": [
        "# Plot the loss curves\n",
        "epoch_indices = range(1, len(training_losses) + 1)\n",
        "\n",
        "fig, ax1 = plt.subplots()\n",
        "ax2 = ax1.twinx()\n",
        "# Plot the validation and train loss on the primary y-axis\n",
        "ax1.set_ylabel('Loss value')\n",
        "ax1.plot(epoch_indices, training_losses, label=\"Train loss\")\n",
        "ax1.plot(epoch_indices, val_losses, label=\"Validation loss\")\n",
        "ax1.set_xlabel(\"Epochs\")\n",
        "# Plot the validation accuracy on the secondary y-axis\n",
        "ax2.set_ylabel('Validation accuracy')\n",
        "ax2.plot(epoch_indices, val_accs, 'r--', label=\"Validation accuracies\")\n",
        "# Set title and legend\n",
        "plt.title(\"Training and validation loss curves + Validation accuracies\")\n",
        "ax1.legend(loc=\"upper left\")\n",
        "ax2.legend(loc=\"upper right\")\n",
        "plt.show()"
      ]
    },
    {
      "cell_type": "markdown",
      "id": "bc906b6d",
      "metadata": {
        "id": "bc906b6d"
      },
      "source": [
        "Nice! Looks like our baseline model did fairly well."
      ]
    },
    {
      "cell_type": "markdown",
      "id": "353ff2f8",
      "metadata": {
        "id": "353ff2f8"
      },
      "source": [
        "### 5.6 Summary\n",
        "\n",
        "In this section, we explored how to build a baseline linear model, train it, evaluate its accuracy, and measure the training time.\n",
        "\n",
        "As previously discussed, PyTorch allows us to construct neural network models by stacking common layers, such as the linear layer (`nn.Linear`) used in our model.\n",
        "In practice, most models are built using a combination of fundamental layers like Linear, ReLU, and CNN, which are readily available in PyTorch.\n",
        "\n",
        "Additionally, the `nn.Module` class is highly composable, enabling the creation of new layers by combining existing ones.\n",
        "This flexibility allows for modular and efficient model design.\n",
        "\n",
        "The arrangement of layers and their configurations defines the model architecture.\n",
        "In the following sections, we will explore different models with varying architectures."
      ]
    },
    {
      "cell_type": "markdown",
      "id": "d7893907-5f82-4c5e-8fde-fa542a9f25af",
      "metadata": {
        "id": "d7893907-5f82-4c5e-8fde-fa542a9f25af"
      },
      "source": [
        "## <a id='sec_6'>6. Model V1: Building a better model with non-linearity</a>\n",
        "\n",
        "As discussed in our previous tutorials, non-linear models have higher capacity than linear models.\n",
        "\n",
        "In this section we will modify our model by adding some non-linear layers and see if it can perform better.\n",
        "\n",
        "We'll do so by recreating a similar model to before, except this time we'll put non-linear functions (`nn.ReLU()`) in between each linear layer.\n",
        "\n",
        "> **Note:** We will use common PyTorch nn modules as bricks to build our models, however, we will not discuss how they work. For more information on these modules (e.g., Linear, ReLU, CNN, ...), you may check [Daniel's course](https://github.com/mrdbourke/pytorch-deep-learning) or other deep-learning materials."
      ]
    },
    {
      "cell_type": "code",
      "execution_count": null,
      "id": "2ccce5f2-b1e5-47a6-a7f3-6bc096b35ffb",
      "metadata": {
        "id": "2ccce5f2-b1e5-47a6-a7f3-6bc096b35ffb"
      },
      "outputs": [],
      "source": [
        "# Create a model with non-linear and linear layers\n",
        "class FashionMNISTModelV1(nn.Module):\n",
        "    def __init__(self, input_shape: int, hidden_units: int, output_shape: int):\n",
        "        super().__init__()\n",
        "        self.layer_stack = nn.Sequential(\n",
        "            nn.Flatten(), # flatten inputs into single vector\n",
        "            nn.Linear(in_features=input_shape, out_features=hidden_units),\n",
        "            nn.ReLU(),\n",
        "            nn.Linear(in_features=hidden_units, out_features=output_shape),\n",
        "            nn.ReLU()\n",
        "        )\n",
        "\n",
        "    def forward(self, x: torch.Tensor):\n",
        "        return self.layer_stack(x)"
      ]
    },
    {
      "cell_type": "markdown",
      "id": "4b4b7a2f-4834-4aa1-a8e2-b6e3e2b49224",
      "metadata": {
        "id": "4b4b7a2f-4834-4aa1-a8e2-b6e3e2b49224"
      },
      "source": [
        "The following image provides a visual representation of our model.\n",
        "\n",
        "![visual representation of model_1](https://raw.githubusercontent.com/eborin/SSL-course/main/images/03_pytorch_computer_vision-5.0.png)"
      ]
    },
    {
      "cell_type": "markdown",
      "id": "29a02b13",
      "metadata": {
        "id": "29a02b13"
      },
      "source": [
        "### 6.1 Training our model\n",
        "\n",
        "Now let's instantiate it with the same settings as before and train it!"
      ]
    },
    {
      "cell_type": "code",
      "execution_count": null,
      "id": "907091ec-7e46-470b-a305-788a3009b837",
      "metadata": {
        "colab": {
          "base_uri": "https://localhost:8080/"
        },
        "id": "907091ec-7e46-470b-a305-788a3009b837",
        "outputId": "4cecd2df-2918-4368-fa33-7aea8f958d8f"
      },
      "outputs": [
        {
          "name": "stdout",
          "output_type": "stream",
          "text": [
            "----------------------\n",
            "Epoch: 1 / 20\n"
          ]
        },
        {
          "name": "stderr",
          "output_type": "stream",
          "text": [
            "Training  : 100%|██████████| 1500/1500 [00:03<00:00, 404.13 batches/s]\n",
            "Validation : 100%|██████████| 375/375 [00:00<00:00, 531.82 batches/s]\n"
          ]
        },
        {
          "name": "stdout",
          "output_type": "stream",
          "text": [
            "Train loss: 1.07815 | Validation loss: 0.98876, Validation accuracy: 63.54%\n",
            "\n",
            "----------------------\n",
            "Epoch: 2 / 20\n"
          ]
        },
        {
          "name": "stderr",
          "output_type": "stream",
          "text": [
            "Training  : 100%|██████████| 1500/1500 [00:03<00:00, 412.76 batches/s]\n",
            "Validation : 100%|██████████| 375/375 [00:00<00:00, 531.55 batches/s]\n"
          ]
        },
        {
          "name": "stdout",
          "output_type": "stream",
          "text": [
            "Train loss: 0.91550 | Validation loss: 0.88443, Validation accuracy: 67.64%\n",
            "\n",
            "----------------------\n",
            "Epoch: 3 / 20\n"
          ]
        },
        {
          "name": "stderr",
          "output_type": "stream",
          "text": [
            "Training  : 100%|██████████| 1500/1500 [00:03<00:00, 411.91 batches/s]\n",
            "Validation : 100%|██████████| 375/375 [00:00<00:00, 528.07 batches/s]\n"
          ]
        },
        {
          "name": "stdout",
          "output_type": "stream",
          "text": [
            "Train loss: 0.70748 | Validation loss: 0.47010, Validation accuracy: 84.26%\n",
            "\n",
            "----------------------\n",
            "Epoch: 4 / 20\n"
          ]
        },
        {
          "name": "stderr",
          "output_type": "stream",
          "text": [
            "Training  : 100%|██████████| 1500/1500 [00:03<00:00, 411.17 batches/s]\n",
            "Validation : 100%|██████████| 375/375 [00:00<00:00, 529.71 batches/s]\n"
          ]
        },
        {
          "name": "stdout",
          "output_type": "stream",
          "text": [
            "Train loss: 0.45346 | Validation loss: 0.46234, Validation accuracy: 83.81%\n",
            "\n",
            "----------------------\n",
            "Epoch: 5 / 20\n"
          ]
        },
        {
          "name": "stderr",
          "output_type": "stream",
          "text": [
            "Training  : 100%|██████████| 1500/1500 [00:03<00:00, 391.56 batches/s]\n",
            "Validation : 100%|██████████| 375/375 [00:00<00:00, 497.64 batches/s]\n"
          ]
        },
        {
          "name": "stdout",
          "output_type": "stream",
          "text": [
            "Train loss: 0.43439 | Validation loss: 0.46450, Validation accuracy: 83.59%\n",
            "\n",
            "----------------------\n",
            "Epoch: 6 / 20\n"
          ]
        },
        {
          "name": "stderr",
          "output_type": "stream",
          "text": [
            "Training  : 100%|██████████| 1500/1500 [00:03<00:00, 410.32 batches/s]\n",
            "Validation : 100%|██████████| 375/375 [00:00<00:00, 533.43 batches/s]\n"
          ]
        },
        {
          "name": "stdout",
          "output_type": "stream",
          "text": [
            "Train loss: 0.42021 | Validation loss: 0.44769, Validation accuracy: 85.02%\n",
            "\n",
            "----------------------\n",
            "Epoch: 7 / 20\n"
          ]
        },
        {
          "name": "stderr",
          "output_type": "stream",
          "text": [
            "Training  : 100%|██████████| 1500/1500 [00:03<00:00, 409.92 batches/s]\n",
            "Validation : 100%|██████████| 375/375 [00:00<00:00, 531.21 batches/s]\n"
          ]
        },
        {
          "name": "stdout",
          "output_type": "stream",
          "text": [
            "Train loss: 0.41226 | Validation loss: 0.44857, Validation accuracy: 84.42%\n",
            "\n",
            "----------------------\n",
            "Epoch: 8 / 20\n"
          ]
        },
        {
          "name": "stderr",
          "output_type": "stream",
          "text": [
            "Training  : 100%|██████████| 1500/1500 [00:03<00:00, 413.03 batches/s]\n",
            "Validation : 100%|██████████| 375/375 [00:00<00:00, 531.26 batches/s]\n"
          ]
        },
        {
          "name": "stdout",
          "output_type": "stream",
          "text": [
            "Train loss: 0.40377 | Validation loss: 0.43185, Validation accuracy: 84.77%\n",
            "\n",
            "----------------------\n",
            "Epoch: 9 / 20\n"
          ]
        },
        {
          "name": "stderr",
          "output_type": "stream",
          "text": [
            "Training  : 100%|██████████| 1500/1500 [00:03<00:00, 412.59 batches/s]\n",
            "Validation : 100%|██████████| 375/375 [00:00<00:00, 531.61 batches/s]\n"
          ]
        },
        {
          "name": "stdout",
          "output_type": "stream",
          "text": [
            "Train loss: 0.39900 | Validation loss: 0.47668, Validation accuracy: 83.69%\n",
            "\n",
            "----------------------\n",
            "Epoch: 10 / 20\n"
          ]
        },
        {
          "name": "stderr",
          "output_type": "stream",
          "text": [
            "Training  : 100%|██████████| 1500/1500 [00:03<00:00, 411.82 batches/s]\n",
            "Validation : 100%|██████████| 375/375 [00:00<00:00, 530.74 batches/s]\n"
          ]
        },
        {
          "name": "stdout",
          "output_type": "stream",
          "text": [
            "Train loss: 0.39444 | Validation loss: 0.43996, Validation accuracy: 83.92%\n",
            "\n",
            "----------------------\n",
            "Epoch: 11 / 20\n"
          ]
        },
        {
          "name": "stderr",
          "output_type": "stream",
          "text": [
            "Training  : 100%|██████████| 1500/1500 [00:03<00:00, 401.33 batches/s]\n",
            "Validation : 100%|██████████| 375/375 [00:00<00:00, 529.73 batches/s]\n"
          ]
        },
        {
          "name": "stdout",
          "output_type": "stream",
          "text": [
            "Train loss: 0.38768 | Validation loss: 0.42596, Validation accuracy: 85.38%\n",
            "\n",
            "----------------------\n",
            "Epoch: 12 / 20\n"
          ]
        },
        {
          "name": "stderr",
          "output_type": "stream",
          "text": [
            "Training  : 100%|██████████| 1500/1500 [00:03<00:00, 411.83 batches/s]\n",
            "Validation : 100%|██████████| 375/375 [00:00<00:00, 495.41 batches/s]\n"
          ]
        },
        {
          "name": "stdout",
          "output_type": "stream",
          "text": [
            "Train loss: 0.38475 | Validation loss: 0.44324, Validation accuracy: 84.12%\n",
            "\n",
            "----------------------\n",
            "Epoch: 13 / 20\n"
          ]
        },
        {
          "name": "stderr",
          "output_type": "stream",
          "text": [
            "Training  : 100%|██████████| 1500/1500 [00:03<00:00, 398.63 batches/s]\n",
            "Validation : 100%|██████████| 375/375 [00:00<00:00, 506.29 batches/s]\n"
          ]
        },
        {
          "name": "stdout",
          "output_type": "stream",
          "text": [
            "Train loss: 0.37992 | Validation loss: 0.42615, Validation accuracy: 85.66%\n",
            "\n",
            "----------------------\n",
            "Epoch: 14 / 20\n"
          ]
        },
        {
          "name": "stderr",
          "output_type": "stream",
          "text": [
            "Training  : 100%|██████████| 1500/1500 [00:03<00:00, 401.81 batches/s]\n",
            "Validation : 100%|██████████| 375/375 [00:00<00:00, 517.04 batches/s]\n"
          ]
        },
        {
          "name": "stdout",
          "output_type": "stream",
          "text": [
            "Train loss: 0.37798 | Validation loss: 0.43013, Validation accuracy: 84.95%\n",
            "\n",
            "----------------------\n",
            "Epoch: 15 / 20\n"
          ]
        },
        {
          "name": "stderr",
          "output_type": "stream",
          "text": [
            "Training  : 100%|██████████| 1500/1500 [00:03<00:00, 400.74 batches/s]\n",
            "Validation : 100%|██████████| 375/375 [00:00<00:00, 495.45 batches/s]\n"
          ]
        },
        {
          "name": "stdout",
          "output_type": "stream",
          "text": [
            "Train loss: 0.37380 | Validation loss: 0.41423, Validation accuracy: 85.68%\n",
            "\n",
            "----------------------\n",
            "Epoch: 16 / 20\n"
          ]
        },
        {
          "name": "stderr",
          "output_type": "stream",
          "text": [
            "Training  : 100%|██████████| 1500/1500 [00:03<00:00, 383.85 batches/s]\n",
            "Validation : 100%|██████████| 375/375 [00:00<00:00, 493.77 batches/s]\n"
          ]
        },
        {
          "name": "stdout",
          "output_type": "stream",
          "text": [
            "Train loss: 0.37180 | Validation loss: 0.41672, Validation accuracy: 85.67%\n",
            "\n",
            "----------------------\n",
            "Epoch: 17 / 20\n"
          ]
        },
        {
          "name": "stderr",
          "output_type": "stream",
          "text": [
            "Training  : 100%|██████████| 1500/1500 [00:03<00:00, 382.82 batches/s]\n",
            "Validation : 100%|██████████| 375/375 [00:00<00:00, 505.76 batches/s]\n"
          ]
        },
        {
          "name": "stdout",
          "output_type": "stream",
          "text": [
            "Train loss: 0.36784 | Validation loss: 0.41242, Validation accuracy: 85.61%\n",
            "\n",
            "----------------------\n",
            "Epoch: 18 / 20\n"
          ]
        },
        {
          "name": "stderr",
          "output_type": "stream",
          "text": [
            "Training  : 100%|██████████| 1500/1500 [00:03<00:00, 382.14 batches/s]\n",
            "Validation : 100%|██████████| 375/375 [00:00<00:00, 519.04 batches/s]\n"
          ]
        },
        {
          "name": "stdout",
          "output_type": "stream",
          "text": [
            "Train loss: 0.36771 | Validation loss: 0.42137, Validation accuracy: 85.21%\n",
            "\n",
            "----------------------\n",
            "Epoch: 19 / 20\n"
          ]
        },
        {
          "name": "stderr",
          "output_type": "stream",
          "text": [
            "Training  : 100%|██████████| 1500/1500 [00:03<00:00, 404.87 batches/s]\n",
            "Validation : 100%|██████████| 375/375 [00:00<00:00, 530.07 batches/s]\n"
          ]
        },
        {
          "name": "stdout",
          "output_type": "stream",
          "text": [
            "Train loss: 0.36560 | Validation loss: 0.47162, Validation accuracy: 83.18%\n",
            "\n",
            "----------------------\n",
            "Epoch: 20 / 20\n"
          ]
        },
        {
          "name": "stderr",
          "output_type": "stream",
          "text": [
            "Training  : 100%|██████████| 1500/1500 [00:03<00:00, 404.54 batches/s]\n",
            "Validation : 100%|██████████| 375/375 [00:00<00:00, 490.33 batches/s]"
          ]
        },
        {
          "name": "stdout",
          "output_type": "stream",
          "text": [
            "Train loss: 0.36272 | Validation loss: 0.42544, Validation accuracy: 85.46%\n",
            "\n",
            "Trained model_1 on cuda:0 for 20 epochs in 89.017 seconds\n"
          ]
        },
        {
          "name": "stderr",
          "output_type": "stream",
          "text": [
            "\n"
          ]
        }
      ],
      "source": [
        "set_seed(42)\n",
        "model_1 = FashionMNISTModelV1(input_shape=784, hidden_units=10, output_shape=len(class_names))\n",
        "\n",
        "training_elapsed_time, training_losses, val_losses, val_accs = \\\n",
        "    train_model(model_1, train_dataloader, val_dataloader,\n",
        "                device=device, nepochs=number_of_epochs)\n",
        "\n",
        "print(f\"Trained model_1 on {str(next(model_1.parameters()).device)} for {len(training_losses)} epochs in {training_elapsed_time:.3f} seconds\")"
      ]
    },
    {
      "cell_type": "markdown",
      "id": "89bfea50",
      "metadata": {
        "id": "89bfea50"
      },
      "source": [
        "Again, let's take a look at the training and validation loss curves and at the accuracy of the model on the validation set over the epochs."
      ]
    },
    {
      "cell_type": "code",
      "execution_count": null,
      "id": "2052d42f",
      "metadata": {
        "id": "2052d42f",
        "outputId": "ca76ace2-5715-4caa-dc0b-c56c0c4b0d26"
      },
      "outputs": [
        {
          "data": {
            "image/png": "[encoded data removed]",
            "text/plain": [
              "<Figure size 640x480 with 2 Axes>"
            ]
          },
          "metadata": {},
          "output_type": "display_data"
        }
      ],
      "source": [
        "# Plot the loss curves\n",
        "epoch_indices = range(1, len(training_losses) + 1)\n",
        "\n",
        "fig, ax1 = plt.subplots()\n",
        "ax2 = ax1.twinx()\n",
        "ax1.set_ylabel('Loss value')\n",
        "ax1.plot(epoch_indices, training_losses, label=\"Train loss\")\n",
        "ax1.plot(epoch_indices, val_losses, label=\"Validation loss\")\n",
        "ax2.set_ylabel('Validation accuracy')\n",
        "ax2.plot(epoch_indices, val_accs, 'r--', label=\"Validation accuracies\")\n",
        "plt.title(\"Training and validation loss curves + Validation accuracies\")\n",
        "ax1.set_xlabel(\"Epochs\")\n",
        "ax1.legend(loc=\"upper left\")\n",
        "ax2.legend(loc=\"upper right\")\n",
        "plt.show()"
      ]
    },
    {
      "cell_type": "markdown",
      "id": "78451e27",
      "metadata": {
        "id": "78451e27"
      },
      "source": [
        "Mmmm. Not as good as the previous one (at least in my computer). Maybe it needs more epochs (or a better optimizer) to achieve its full potential."
      ]
    },
    {
      "cell_type": "markdown",
      "id": "6a50f16a",
      "metadata": {
        "id": "6a50f16a"
      },
      "source": [
        "### 6.2 Summary\n",
        "\n",
        "In this section, we examined how modifying the model architecture by introducing non-linear components, such as the `nn.ReLU` layer, impacts model performance.\n",
        "\n",
        "Notably, the implementation of the new model remains largely similar to the previous one, differing only in the selection and arrangement of layers within the nn.Sequential block."
      ]
    },
    {
      "cell_type": "markdown",
      "id": "c756aceb",
      "metadata": {
        "id": "c756aceb"
      },
      "source": [
        "## <a id='sec_7'>7. Model V2: Building a Convolutional Neural Network</a>\n",
        "\n",
        "It's time to create a [Convolutional Neural Network](https://en.wikipedia.org/wiki/Convolutional_neural_network) (CNN or ConvNet).\n",
        "\n",
        "CNN's are known for their capabilities to find patterns in visual data.\n",
        "\n",
        "And since we're dealing with visual data, let's see if using a CNN model can improve upon our baseline.\n",
        "\n",
        "To build our model, we will simply replace our linear layers by convolutional ones.\n",
        "\n",
        "The CNN model we're going to be using is known as TinyVGG from the [CNN Explainer](https://poloclub.github.io/cnn-explainer/) website.\n",
        "\n",
        "It follows the typical structure of a convolutional neural network:\n",
        "\n",
        "`Input layer -> [Convolutional layer -> activation layer -> pooling layer] -> Output layer`\n",
        "\n",
        "Where the contents of `[Convolutional layer -> activation layer -> pooling layer]` can be upscaled and repeated multiple times, depending on requirements.\n",
        "\n",
        "> **Note:** We will use common PyTorch nn modules as bricks to build our models, however, we will not discuss how they work. For more information on these modules (e.g., Linear, ReLU, CNN, ...), you may check [Daniel's course](https://github.com/mrdbourke/pytorch-deep-learning) or other deep-learning materials.\n",
        "\n"
      ]
    },
    {
      "cell_type": "markdown",
      "id": "d1f3100b",
      "metadata": {
        "id": "d1f3100b"
      },
      "source": [
        "\n",
        "### 7.1 The TinyVGG model\n",
        "\n",
        "The following image provides a visual representation of our model. Notice that it is organized in three modules: `block_1`, `block_2`, and `classifier`.\n",
        "The first two contain convolutional, relu, and max. pooling blocks while the final one contains a linear layer.\n",
        "\n",
        "![visual representation of model_2](https://raw.githubusercontent.com/eborin/SSL-course/main/images/03_pytorch_computer_vision-6.0.png)\n",
        "\n",
        "The next code block implements our model.\n"
      ]
    },
    {
      "cell_type": "code",
      "execution_count": null,
      "id": "a8e0263e",
      "metadata": {
        "id": "a8e0263e"
      },
      "outputs": [],
      "source": [
        "# Create a convolutional neural network\n",
        "class FashionMNISTModelV2(nn.Module):\n",
        "    \"\"\"\n",
        "    Model architecture copying TinyVGG from:\n",
        "    https://poloclub.github.io/cnn-explainer/\n",
        "    \"\"\"\n",
        "    def __init__(self, input_shape: int, hidden_units: int, output_shape: int):\n",
        "        super().__init__()\n",
        "        self.block_1 = nn.Sequential(\n",
        "            nn.Conv2d(in_channels=input_shape,\n",
        "                      out_channels=hidden_units,\n",
        "                      kernel_size=3, # how big is the square that's going over the image?\n",
        "                      stride=1, # default\n",
        "                      padding=1),# options = \"valid\" (no padding) or \"same\" (output has same shape as input) or int for specific number\n",
        "            nn.ReLU(),\n",
        "            nn.Conv2d(in_channels=hidden_units,\n",
        "                      out_channels=hidden_units,\n",
        "                      kernel_size=3,\n",
        "                      stride=1,\n",
        "                      padding=1),\n",
        "            nn.ReLU(),\n",
        "            nn.MaxPool2d(kernel_size=2,\n",
        "                         stride=2) # default stride value is same as kernel_size\n",
        "        )\n",
        "        self.block_2 = nn.Sequential(\n",
        "            nn.Conv2d(hidden_units, hidden_units, 3, padding=1),\n",
        "            nn.ReLU(),\n",
        "            nn.Conv2d(hidden_units, hidden_units, 3, padding=1),\n",
        "            nn.ReLU(),\n",
        "            nn.MaxPool2d(2)\n",
        "        )\n",
        "        self.classifier = nn.Sequential(\n",
        "            nn.Flatten(),\n",
        "            # Where did this in_features shape come from?\n",
        "            # It's because each layer of our network compresses and changes the shape of our input data.\n",
        "            nn.Linear(in_features=hidden_units*7*7,\n",
        "                      out_features=output_shape)\n",
        "        )\n",
        "\n",
        "    def forward(self, x: torch.Tensor):\n",
        "        x = self.block_1(x)\n",
        "        #print(x.shape)\n",
        "        x = self.block_2(x)\n",
        "        #print(x.shape)\n",
        "        x = self.classifier(x)\n",
        "        #print(x.shape)\n",
        "        return x"
      ]
    },
    {
      "cell_type": "markdown",
      "id": "21b92041",
      "metadata": {
        "id": "21b92041"
      },
      "source": [
        "### 7.2 Training our model\n",
        "\n",
        "Now, lets instantiate and train our model!\n",
        "\n",
        "To perform a fair comparison, we train for the same number of epochs.\n",
        "However, since this model is more complex and takes longer to train (it took approx. 9 minutes to train for 20 epochs in my machine cpu), if you are in a hurry, you may change the number of epochs to 10 or even 5."
      ]
    },
    {
      "cell_type": "code",
      "execution_count": null,
      "id": "30b950b7",
      "metadata": {
        "id": "30b950b7",
        "outputId": "89846c11-9186-496c-a122-12f103b3bb53"
      },
      "outputs": [
        {
          "name": "stdout",
          "output_type": "stream",
          "text": [
            "----------------------\n",
            "Epoch: 1 / 20\n"
          ]
        },
        {
          "name": "stderr",
          "output_type": "stream",
          "text": [
            "Training  : 100%|██████████| 1500/1500 [00:04<00:00, 303.61 batches/s]\n",
            "Validation : 100%|██████████| 375/375 [00:00<00:00, 437.37 batches/s]\n"
          ]
        },
        {
          "name": "stdout",
          "output_type": "stream",
          "text": [
            "Train loss: 0.65555 | Validation loss: 0.41947, Validation accuracy: 85.09%\n",
            "\n",
            "----------------------\n",
            "Epoch: 2 / 20\n"
          ]
        },
        {
          "name": "stderr",
          "output_type": "stream",
          "text": [
            "Training  : 100%|██████████| 1500/1500 [00:04<00:00, 321.05 batches/s]\n",
            "Validation : 100%|██████████| 375/375 [00:00<00:00, 470.26 batches/s]\n"
          ]
        },
        {
          "name": "stdout",
          "output_type": "stream",
          "text": [
            "Train loss: 0.37989 | Validation loss: 0.38140, Validation accuracy: 86.47%\n",
            "\n",
            "----------------------\n",
            "Epoch: 3 / 20\n"
          ]
        },
        {
          "name": "stderr",
          "output_type": "stream",
          "text": [
            "Training  : 100%|██████████| 1500/1500 [00:04<00:00, 320.42 batches/s]\n",
            "Validation : 100%|██████████| 375/375 [00:00<00:00, 450.41 batches/s]\n"
          ]
        },
        {
          "name": "stdout",
          "output_type": "stream",
          "text": [
            "Train loss: 0.33489 | Validation loss: 0.34372, Validation accuracy: 87.50%\n",
            "\n",
            "----------------------\n",
            "Epoch: 4 / 20\n"
          ]
        },
        {
          "name": "stderr",
          "output_type": "stream",
          "text": [
            "Training  : 100%|██████████| 1500/1500 [00:04<00:00, 321.28 batches/s]\n",
            "Validation : 100%|██████████| 375/375 [00:00<00:00, 470.47 batches/s]\n"
          ]
        },
        {
          "name": "stdout",
          "output_type": "stream",
          "text": [
            "Train loss: 0.31069 | Validation loss: 0.33878, Validation accuracy: 87.21%\n",
            "\n",
            "----------------------\n",
            "Epoch: 5 / 20\n"
          ]
        },
        {
          "name": "stderr",
          "output_type": "stream",
          "text": [
            "Training  : 100%|██████████| 1500/1500 [00:04<00:00, 322.08 batches/s]\n",
            "Validation : 100%|██████████| 375/375 [00:00<00:00, 468.91 batches/s]\n"
          ]
        },
        {
          "name": "stdout",
          "output_type": "stream",
          "text": [
            "Train loss: 0.29939 | Validation loss: 0.31819, Validation accuracy: 89.03%\n",
            "\n",
            "----------------------\n",
            "Epoch: 6 / 20\n"
          ]
        },
        {
          "name": "stderr",
          "output_type": "stream",
          "text": [
            "Training  : 100%|██████████| 1500/1500 [00:04<00:00, 321.40 batches/s]\n",
            "Validation : 100%|██████████| 375/375 [00:00<00:00, 468.88 batches/s]\n"
          ]
        },
        {
          "name": "stdout",
          "output_type": "stream",
          "text": [
            "Train loss: 0.28622 | Validation loss: 0.30812, Validation accuracy: 89.02%\n",
            "\n",
            "----------------------\n",
            "Epoch: 7 / 20\n"
          ]
        },
        {
          "name": "stderr",
          "output_type": "stream",
          "text": [
            "Training  : 100%|██████████| 1500/1500 [00:04<00:00, 323.92 batches/s]\n",
            "Validation : 100%|██████████| 375/375 [00:00<00:00, 464.68 batches/s]\n"
          ]
        },
        {
          "name": "stdout",
          "output_type": "stream",
          "text": [
            "Train loss: 0.27892 | Validation loss: 0.28277, Validation accuracy: 89.92%\n",
            "\n",
            "----------------------\n",
            "Epoch: 8 / 20\n"
          ]
        },
        {
          "name": "stderr",
          "output_type": "stream",
          "text": [
            "Training  : 100%|██████████| 1500/1500 [00:04<00:00, 320.29 batches/s]\n",
            "Validation : 100%|██████████| 375/375 [00:00<00:00, 458.26 batches/s]\n"
          ]
        },
        {
          "name": "stdout",
          "output_type": "stream",
          "text": [
            "Train loss: 0.27456 | Validation loss: 0.30015, Validation accuracy: 89.07%\n",
            "\n",
            "----------------------\n",
            "Epoch: 9 / 20\n"
          ]
        },
        {
          "name": "stderr",
          "output_type": "stream",
          "text": [
            "Training  : 100%|██████████| 1500/1500 [00:04<00:00, 312.24 batches/s]\n",
            "Validation : 100%|██████████| 375/375 [00:00<00:00, 453.26 batches/s]\n"
          ]
        },
        {
          "name": "stdout",
          "output_type": "stream",
          "text": [
            "Train loss: 0.26750 | Validation loss: 0.31351, Validation accuracy: 89.45%\n",
            "\n",
            "----------------------\n",
            "Epoch: 10 / 20\n"
          ]
        },
        {
          "name": "stderr",
          "output_type": "stream",
          "text": [
            "Training  : 100%|██████████| 1500/1500 [00:04<00:00, 320.22 batches/s]\n",
            "Validation : 100%|██████████| 375/375 [00:00<00:00, 437.39 batches/s]\n"
          ]
        },
        {
          "name": "stdout",
          "output_type": "stream",
          "text": [
            "Train loss: 0.26233 | Validation loss: 0.31270, Validation accuracy: 88.54%\n",
            "\n",
            "----------------------\n",
            "Epoch: 11 / 20\n"
          ]
        },
        {
          "name": "stderr",
          "output_type": "stream",
          "text": [
            "Training  : 100%|██████████| 1500/1500 [00:04<00:00, 322.30 batches/s]\n",
            "Validation : 100%|██████████| 375/375 [00:00<00:00, 471.10 batches/s]\n"
          ]
        },
        {
          "name": "stdout",
          "output_type": "stream",
          "text": [
            "Train loss: 0.25809 | Validation loss: 0.30670, Validation accuracy: 89.23%\n",
            "\n",
            "----------------------\n",
            "Epoch: 12 / 20\n"
          ]
        },
        {
          "name": "stderr",
          "output_type": "stream",
          "text": [
            "Training  : 100%|██████████| 1500/1500 [00:04<00:00, 309.17 batches/s]\n",
            "Validation : 100%|██████████| 375/375 [00:00<00:00, 444.76 batches/s]\n"
          ]
        },
        {
          "name": "stdout",
          "output_type": "stream",
          "text": [
            "Train loss: 0.25404 | Validation loss: 0.30972, Validation accuracy: 89.10%\n",
            "\n",
            "----------------------\n",
            "Epoch: 13 / 20\n"
          ]
        },
        {
          "name": "stderr",
          "output_type": "stream",
          "text": [
            "Training  : 100%|██████████| 1500/1500 [00:04<00:00, 323.13 batches/s]\n",
            "Validation : 100%|██████████| 375/375 [00:00<00:00, 471.55 batches/s]\n"
          ]
        },
        {
          "name": "stdout",
          "output_type": "stream",
          "text": [
            "Train loss: 0.25065 | Validation loss: 0.29755, Validation accuracy: 89.93%\n",
            "\n",
            "----------------------\n",
            "Epoch: 14 / 20\n"
          ]
        },
        {
          "name": "stderr",
          "output_type": "stream",
          "text": [
            "Training  : 100%|██████████| 1500/1500 [00:04<00:00, 321.56 batches/s]\n",
            "Validation : 100%|██████████| 375/375 [00:00<00:00, 472.35 batches/s]\n"
          ]
        },
        {
          "name": "stdout",
          "output_type": "stream",
          "text": [
            "Train loss: 0.24871 | Validation loss: 0.28272, Validation accuracy: 90.08%\n",
            "\n",
            "----------------------\n",
            "Epoch: 15 / 20\n"
          ]
        },
        {
          "name": "stderr",
          "output_type": "stream",
          "text": [
            "Training  : 100%|██████████| 1500/1500 [00:04<00:00, 322.25 batches/s]\n",
            "Validation : 100%|██████████| 375/375 [00:00<00:00, 460.03 batches/s]\n"
          ]
        },
        {
          "name": "stdout",
          "output_type": "stream",
          "text": [
            "Train loss: 0.24440 | Validation loss: 0.28200, Validation accuracy: 89.91%\n",
            "\n",
            "----------------------\n",
            "Epoch: 16 / 20\n"
          ]
        },
        {
          "name": "stderr",
          "output_type": "stream",
          "text": [
            "Training  : 100%|██████████| 1500/1500 [00:04<00:00, 318.42 batches/s]\n",
            "Validation : 100%|██████████| 375/375 [00:00<00:00, 445.57 batches/s]\n"
          ]
        },
        {
          "name": "stdout",
          "output_type": "stream",
          "text": [
            "Train loss: 0.24138 | Validation loss: 0.27523, Validation accuracy: 90.44%\n",
            "\n",
            "----------------------\n",
            "Epoch: 17 / 20\n"
          ]
        },
        {
          "name": "stderr",
          "output_type": "stream",
          "text": [
            "Training  : 100%|██████████| 1500/1500 [00:04<00:00, 323.95 batches/s]\n",
            "Validation : 100%|██████████| 375/375 [00:00<00:00, 471.72 batches/s]\n"
          ]
        },
        {
          "name": "stdout",
          "output_type": "stream",
          "text": [
            "Train loss: 0.23732 | Validation loss: 0.26847, Validation accuracy: 90.41%\n",
            "\n",
            "----------------------\n",
            "Epoch: 18 / 20\n"
          ]
        },
        {
          "name": "stderr",
          "output_type": "stream",
          "text": [
            "Training  : 100%|██████████| 1500/1500 [00:04<00:00, 322.70 batches/s]\n",
            "Validation : 100%|██████████| 375/375 [00:00<00:00, 448.87 batches/s]\n"
          ]
        },
        {
          "name": "stdout",
          "output_type": "stream",
          "text": [
            "Train loss: 0.23569 | Validation loss: 0.29037, Validation accuracy: 89.16%\n",
            "\n",
            "----------------------\n",
            "Epoch: 19 / 20\n"
          ]
        },
        {
          "name": "stderr",
          "output_type": "stream",
          "text": [
            "Training  : 100%|██████████| 1500/1500 [00:04<00:00, 312.09 batches/s]\n",
            "Validation : 100%|██████████| 375/375 [00:00<00:00, 430.31 batches/s]\n"
          ]
        },
        {
          "name": "stdout",
          "output_type": "stream",
          "text": [
            "Train loss: 0.23544 | Validation loss: 0.28576, Validation accuracy: 90.03%\n",
            "\n",
            "----------------------\n",
            "Epoch: 20 / 20\n"
          ]
        },
        {
          "name": "stderr",
          "output_type": "stream",
          "text": [
            "Training  : 100%|██████████| 1500/1500 [00:04<00:00, 310.90 batches/s]\n",
            "Validation : 100%|██████████| 375/375 [00:00<00:00, 428.00 batches/s]"
          ]
        },
        {
          "name": "stdout",
          "output_type": "stream",
          "text": [
            "Train loss: 0.23164 | Validation loss: 0.27621, Validation accuracy: 90.08%\n",
            "\n",
            "Trained model_2 on cuda:0 for 20 epochs in 110.687 seconds\n"
          ]
        },
        {
          "name": "stderr",
          "output_type": "stream",
          "text": [
            "\n"
          ]
        }
      ],
      "source": [
        "set_seed(42)\n",
        "\n",
        "model_2 = FashionMNISTModelV2(input_shape=1, hidden_units=10, output_shape=len(class_names))\n",
        "\n",
        "training_elapsed_time, training_losses, val_losses, val_accs = \\\n",
        "    train_model(model_2, train_dataloader, val_dataloader,\n",
        "                device=device, nepochs=number_of_epochs)\n",
        "\n",
        "print(f\"Trained model_2 on {str(next(model_2.parameters()).device)} for {len(training_losses)} epochs in {training_elapsed_time:.3f} seconds\")"
      ]
    },
    {
      "cell_type": "markdown",
      "id": "5d1875a4",
      "metadata": {
        "id": "5d1875a4"
      },
      "source": [
        "Notice that the model took longer to train than the previous ones (You may compare the total time and also the amount of batches trained per second as reported in the Training and Validation progress bars).\n",
        "\n",
        "Now, lets plot the curves."
      ]
    },
    {
      "cell_type": "code",
      "execution_count": null,
      "id": "d510154b",
      "metadata": {
        "id": "d510154b",
        "outputId": "71a59bc4-98bf-43b7-a816-7dae9dc05c8c"
      },
      "outputs": [
        {
          "data": {
            "image/png": "[encoded data removed]",
            "text/plain": [
              "<Figure size 640x480 with 2 Axes>"
            ]
          },
          "metadata": {},
          "output_type": "display_data"
        }
      ],
      "source": [
        "# Plot the loss curves\n",
        "epoch_indices = range(1, len(training_losses) + 1)\n",
        "\n",
        "fig, ax1 = plt.subplots()\n",
        "ax2 = ax1.twinx()\n",
        "ax1.set_ylabel('Loss value')\n",
        "ax1.plot(epoch_indices, training_losses, label=\"Train loss\")\n",
        "ax1.plot(epoch_indices, val_losses, label=\"Validation loss\")\n",
        "ax2.set_ylabel('Validation accuracy')\n",
        "ax2.plot(epoch_indices, val_accs, 'r--', label=\"Validation accuracies\")\n",
        "plt.title(\"Training and validation loss curves + Validation accuracies\")\n",
        "ax1.set_xlabel(\"Epochs\")\n",
        "ax1.legend(loc=\"upper left\")\n",
        "ax2.legend(loc=\"upper right\")\n",
        "plt.show()"
      ]
    },
    {
      "cell_type": "markdown",
      "id": "340cbf14-e83f-4981-8a93-5fedb6b51418",
      "metadata": {
        "id": "340cbf14-e83f-4981-8a93-5fedb6b51418"
      },
      "source": [
        "\n",
        "Despite being slower to train, this model provides much better results than the previous ones."
      ]
    },
    {
      "cell_type": "markdown",
      "id": "ac22d685-1b8d-4215-90de-c0476cb0fbdf",
      "metadata": {
        "id": "ac22d685-1b8d-4215-90de-c0476cb0fbdf"
      },
      "source": [
        "## <a id='sec_8'>8. Handling the Challenge of Shape Mismatches</a>\n",
        "\n",
        "The previous sections provided model implementations.\n",
        "However, when building your own model or training loop, it is common to encounter issues related to tensor shapes.\n",
        "\n",
        "The primary sources of these problems include:\n",
        "\n",
        "* Some operations produce outputs with different shapes than expected. For example, `nn.MaxPool2D` typically reduces tensor dimensionality, while `nn.Conv2d` may increase it.\n",
        "* Certain operations (`nn.Modules`, loss functions, etc.) expect input tensors to have a specific shape and will raise errors if the input data does not comply.\n",
        "\n",
        "To avoid such issues, it is helpful to test how your layers behave and verify that they produce tensors with the expected shapes.\n",
        "\n",
        "You can do this by creating random input tensors, passing them through individual layers (`nn.Modules`), and inspecting the output.\n",
        "\n",
        "For example, the following code snippet generates a random tensor with shape [1, 1, 28, 28], representing a batch of one sample from the FashionMNIST dataset."
      ]
    },
    {
      "cell_type": "code",
      "execution_count": null,
      "id": "8c35675e",
      "metadata": {
        "id": "8c35675e",
        "outputId": "c7523040-8d9f-4945-810e-fd1866e02d07"
      },
      "outputs": [
        {
          "name": "stdout",
          "output_type": "stream",
          "text": [
            "sample_bach shape: torch.Size([1, 1, 28, 28])\n"
          ]
        }
      ],
      "source": [
        "sample_batch = torch.rand(size=(1,1,28,28))\n",
        "print(\"sample_bach shape:\", sample_batch.shape)"
      ]
    },
    {
      "cell_type": "markdown",
      "id": "1190c9b1",
      "metadata": {
        "id": "1190c9b1"
      },
      "source": [
        "Now, lets instantitate the first neural network layers of our and check what happens with the data shape when processed by each layer."
      ]
    },
    {
      "cell_type": "code",
      "execution_count": null,
      "id": "00568d8b",
      "metadata": {
        "id": "00568d8b",
        "outputId": "82a627c9-29b3-4e0a-cc82-369caf54e07c"
      },
      "outputs": [
        {
          "name": "stdout",
          "output_type": "stream",
          "text": [
            "Shape before l1: torch.Size([1, 1, 28, 28])\n",
            "Shape after l1: torch.Size([1, 10, 28, 28])\n",
            "Shape after l2: torch.Size([1, 10, 28, 28])\n",
            "Shape after l3: torch.Size([1, 10, 28, 28])\n",
            "Shape after l4: torch.Size([1, 10, 28, 28])\n",
            "Shape after l5: torch.Size([1, 10, 14, 14])\n"
          ]
        }
      ],
      "source": [
        "input_shape=1\n",
        "hidden_units=10\n",
        "\n",
        "# Instantiate the layers\n",
        "l1 = nn.Conv2d(in_channels=input_shape, out_channels=hidden_units, kernel_size=3, stride=1, padding=1)\n",
        "l2 = nn.ReLU()\n",
        "l3 = nn.Conv2d(in_channels=hidden_units, out_channels=hidden_units, kernel_size=3, stride=1, padding=1)\n",
        "l4 = nn.ReLU()\n",
        "l5 = nn.MaxPool2d(kernel_size=2, stride=2)\n",
        "\n",
        "# Process the data in sequence and print their shape\n",
        "print(\"Shape before l1:\", sample_batch.shape)\n",
        "x = l1(sample_batch)\n",
        "print(\"Shape after l1:\", x.shape)\n",
        "x = l2(x)\n",
        "print(\"Shape after l2:\", x.shape)\n",
        "x = l3(x)\n",
        "print(\"Shape after l3:\", x.shape)\n",
        "x = l4(x)\n",
        "print(\"Shape after l4:\", x.shape)\n",
        "x = l5(x)\n",
        "print(\"Shape after l5:\", x.shape)"
      ]
    },
    {
      "cell_type": "markdown",
      "id": "527ff23a",
      "metadata": {
        "id": "527ff23a"
      },
      "source": [
        "Notice that some layers produce outputs with shapes that differ from the input tensor.\n",
        "\n",
        "Try adjusting the layer parameters to observe their impact.\n",
        "Start by changing the stride in l1 from 1 to 2 and see how it affects the output shape."
      ]
    },
    {
      "cell_type": "markdown",
      "id": "0ba50d51-adb3-4e49-9b9a-85173e747352",
      "metadata": {
        "id": "0ba50d51-adb3-4e49-9b9a-85173e747352"
      },
      "source": [
        "## <a id='sec_9'>9. (Extra) Make and evaluate random predictions with best model</a>\n",
        "\n",
        "Alright, we've compared our models to each other, let's further evaluate our best performing model, `model_2`.\n",
        "\n",
        "To do so, let's create a function `make_predictions()` where we can pass the model and some data for it to predict on."
      ]
    },
    {
      "cell_type": "code",
      "execution_count": null,
      "id": "d1d5d3e7-9601-4141-8bd7-9abbd016bf6c",
      "metadata": {
        "id": "d1d5d3e7-9601-4141-8bd7-9abbd016bf6c"
      },
      "outputs": [],
      "source": [
        "def make_predictions(model: torch.nn.Module, data: list, device):\n",
        "    # Send model to device\n",
        "    model.to(device)\n",
        "    pred_probs = []\n",
        "    model.eval()\n",
        "    with torch.inference_mode():\n",
        "        for sample in data:\n",
        "\n",
        "            # Prepare sample:\n",
        "            #  1) the model forward method is expecting a batch of samples.\n",
        "            #     Hence, we need to add an extra dimension to the data\n",
        "            #  2) send it to the target device\n",
        "            sample = torch.unsqueeze(sample, dim=0).to(device)\n",
        "\n",
        "            # Forward pass (model outputs raw logit)\n",
        "            pred_logit = model(sample)\n",
        "\n",
        "            # Get prediction probability (logit -> prediction probability)\n",
        "            pred_prob = torch.softmax(pred_logit.squeeze(), dim=0) # note: perform softmax on the \"logits\" dimension, not \"batch\" dimension (in this case we have a batch size of 1, so can perform on dim=0)\n",
        "\n",
        "            # Get pred_prob off GPU for further calculations\n",
        "            pred_probs.append(pred_prob.cpu())\n",
        "\n",
        "    # Stack the pred_probs to turn list into a tensor\n",
        "    return torch.stack(pred_probs)"
      ]
    },
    {
      "cell_type": "code",
      "execution_count": null,
      "id": "420c7461-eaa9-4459-9e68-53574c758765",
      "metadata": {
        "colab": {
          "base_uri": "https://localhost:8080/"
        },
        "id": "420c7461-eaa9-4459-9e68-53574c758765",
        "outputId": "f3dd6437-4f0f-4bc2-f9e6-d0969df63a52"
      },
      "outputs": [
        {
          "name": "stdout",
          "output_type": "stream",
          "text": [
            "Validation sample image shape: torch.Size([1, 28, 28])\n",
            "Validation sample label: 3 (Dress)\n"
          ]
        }
      ],
      "source": [
        "import random\n",
        "random.seed(42)\n",
        "val_samples = []\n",
        "val_labels = []\n",
        "for sample, label in random.sample(list(val_data), k=9):\n",
        "    val_samples.append(sample)\n",
        "    val_labels.append(label)\n",
        "\n",
        "# View the first validation sample shape and label\n",
        "print(f\"Validation sample image shape: {val_samples[0].shape}\")\n",
        "print(f\"Validation sample label: {val_labels[0]} ({class_names[val_labels[0]]})\")"
      ]
    },
    {
      "cell_type": "markdown",
      "id": "e9f40dd9-7987-42a9-84cc-65dc912a6345",
      "metadata": {
        "id": "e9f40dd9-7987-42a9-84cc-65dc912a6345"
      },
      "source": [
        "And now we can use our `make_predictions()` function to predict on `val_samples`."
      ]
    },
    {
      "cell_type": "code",
      "execution_count": null,
      "id": "79de2ac1-7d4b-4f81-ae8a-90099bca2a3d",
      "metadata": {
        "colab": {
          "base_uri": "https://localhost:8080/"
        },
        "id": "79de2ac1-7d4b-4f81-ae8a-90099bca2a3d",
        "outputId": "918b07bc-4545-4401-84d5-8796ff5acf4c"
      },
      "outputs": [
        {
          "data": {
            "text/plain": [
              "tensor([[8.0970e-05, 3.0261e-05, 4.9297e-06, 9.9973e-01, 3.0522e-06, 3.2508e-07,\n",
              "         1.5267e-04, 8.2200e-07, 5.0466e-07, 4.5429e-07],\n",
              "        [1.1450e-04, 6.8156e-06, 1.4800e-04, 6.3146e-06, 1.6012e-05, 3.2473e-06,\n",
              "         1.9173e-05, 2.4642e-03, 9.9703e-01, 1.9363e-04]])"
            ]
          },
          "execution_count": 33,
          "metadata": {},
          "output_type": "execute_result"
        }
      ],
      "source": [
        "# Make predictions on validation samples with model 2\n",
        "pred_probs= make_predictions(model=model_2, data=val_samples, device=device)\n",
        "\n",
        "# View first two prediction probabilities list\n",
        "pred_probs[:2]"
      ]
    },
    {
      "cell_type": "markdown",
      "id": "22d3c080-4eb6-4b5d-a5c4-2319e78228af",
      "metadata": {
        "id": "22d3c080-4eb6-4b5d-a5c4-2319e78228af"
      },
      "source": [
        "Excellent!\n",
        "\n",
        "And now we can go from prediction probabilities to prediction labels by taking the `torch.argmax()` of the output of the `torch.softmax()` activation function."
      ]
    },
    {
      "cell_type": "code",
      "execution_count": null,
      "id": "f9d97bcc-4310-4851-a1f8-6bcd757e9b26",
      "metadata": {
        "colab": {
          "base_uri": "https://localhost:8080/"
        },
        "id": "f9d97bcc-4310-4851-a1f8-6bcd757e9b26",
        "outputId": "9d0f0bf9-a641-45e7-af77-6621fd1cfcc4"
      },
      "outputs": [
        {
          "data": {
            "text/plain": [
              "tensor([3, 8, 5, 1, 9, 3, 7, 4, 4])"
            ]
          },
          "execution_count": 34,
          "metadata": {},
          "output_type": "execute_result"
        }
      ],
      "source": [
        "# Turn the prediction probabilities into prediction labels by taking the argmax()\n",
        "pred_classes = pred_probs.argmax(dim=1)\n",
        "pred_classes"
      ]
    },
    {
      "cell_type": "code",
      "execution_count": null,
      "id": "1141af97-0990-4920-83d4-c13cca3f9abc",
      "metadata": {
        "colab": {
          "base_uri": "https://localhost:8080/"
        },
        "id": "1141af97-0990-4920-83d4-c13cca3f9abc",
        "outputId": "c69cddd4-bbe9-495e-d477-6ea0a6c7d8de"
      },
      "outputs": [
        {
          "data": {
            "text/plain": [
              "([3, 8, 5, 1, 9, 3, 7, 4, 4], tensor([3, 8, 5, 1, 9, 3, 7, 4, 4]))"
            ]
          },
          "execution_count": 35,
          "metadata": {},
          "output_type": "execute_result"
        }
      ],
      "source": [
        "# Are our predictions in the same form as our validation labels?\n",
        "val_labels, pred_classes"
      ]
    },
    {
      "cell_type": "markdown",
      "id": "4ea04387-c9ad-424f-8297-defd7b685683",
      "metadata": {
        "id": "4ea04387-c9ad-424f-8297-defd7b685683"
      },
      "source": [
        "Now our predicted classes are in the same format as our test labels, we can compare.\n",
        "\n",
        "Since we're dealing with image data, let's stay true to the data explorer's motto.\n",
        "\n",
        "\"Visualize, visualize, visualize!\""
      ]
    },
    {
      "cell_type": "code",
      "execution_count": null,
      "id": "679cb5f7-bb66-42dd-a4d6-400b27b7c019",
      "metadata": {
        "colab": {
          "base_uri": "https://localhost:8080/",
          "height": 749
        },
        "id": "679cb5f7-bb66-42dd-a4d6-400b27b7c019",
        "outputId": "3aae0abe-9c19-4054-d8db-7e00403666aa"
      },
      "outputs": [
        {
          "data": {
            "image/png": "[encoded data removed]",
            "text/plain": [
              "<Figure size 900x900 with 9 Axes>"
            ]
          },
          "metadata": {},
          "output_type": "display_data"
        }
      ],
      "source": [
        "# Plot predictions\n",
        "plt.figure(figsize=(9, 9))\n",
        "nrows = 3\n",
        "ncols = 3\n",
        "for i, sample in enumerate(val_samples):\n",
        "  # Create a subplot\n",
        "  plt.subplot(nrows, ncols, i+1)\n",
        "\n",
        "  # Plot the target image\n",
        "  plt.imshow(sample.squeeze(), cmap=\"gray\")\n",
        "\n",
        "  # Find the prediction label (in text form, e.g. \"Sandal\")\n",
        "  pred_label = class_names[pred_classes[i]]\n",
        "\n",
        "  # Get the truth label (in text form, e.g. \"T-shirt\")\n",
        "  truth_label = class_names[val_labels[i]]\n",
        "\n",
        "  # Create the title text of the plot\n",
        "  title_text = f\"Pred: {pred_label} | Truth: {truth_label}\"\n",
        "\n",
        "  # Check for equality and change title colour accordingly\n",
        "  if pred_label == truth_label:\n",
        "      plt.title(title_text, fontsize=10, c=\"g\") # green text if correct\n",
        "  else:\n",
        "      plt.title(title_text, fontsize=10, c=\"r\") # red text if wrong\n",
        "  plt.axis(False)"
      ]
    },
    {
      "cell_type": "markdown",
      "id": "5ce6dc44-90a5-48c3-91a5-810fa084d98b",
      "metadata": {
        "id": "5ce6dc44-90a5-48c3-91a5-810fa084d98b"
      },
      "source": [
        "Well, well, well, doesn't that look good!\n",
        "\n",
        "Not bad for a couple dozen lines of PyTorch code!"
      ]
    },
    {
      "cell_type": "markdown",
      "id": "ab108078-6770-4cb9-ac62-a761ff159aba",
      "metadata": {
        "id": "ab108078-6770-4cb9-ac62-a761ff159aba"
      },
      "source": [
        "## <a id='sec_10'>10. (Extra) Making a confusion matrix for further prediction evaluation</a>\n",
        "\n",
        "There are many [different evaluation metrics](https://www.learnpytorch.io/02_pytorch_classification/#9-more-classification-evaluation-metrics) we can use for classification problems.\n",
        "\n",
        "One of the most visual is a [confusion matrix](https://www.dataschool.io/simple-guide-to-confusion-matrix-terminology/).\n",
        "\n",
        "A confusion matrix shows you where your classification model got confused between predictions and true labels.\n",
        "\n",
        "To make a confusion matrix, we'll go through three steps:\n",
        "1. Make predictions with our trained model, `model_2` (a confusion matrix compares predictions to true labels).\n",
        "2. Make a confusion matrix using [`sklearn.metrics.confusion_matrix`](https://scikit-learn.org/stable/modules/generated/sklearn.metrics.confusion_matrix.html).\n",
        "3. Plot the confusion matrix using [`sklearn.metrics.ConfustionMatrixDisplay`](https://scikit-learn.org/stable/modules/generated/sklearn.metrics.ConfusionMatrixDisplay.html).\n",
        "\n",
        "Let's start by making predictions with our trained model."
      ]
    },
    {
      "cell_type": "code",
      "execution_count": null,
      "id": "c0e0ba14",
      "metadata": {
        "id": "c0e0ba14",
        "outputId": "b6f2ab94-4160-4cd8-dadc-2385666ce686"
      },
      "outputs": [
        {
          "name": "stderr",
          "output_type": "stream",
          "text": [
            "Making predictions for test set: 100%|██████████| 375/375 [00:00<00:00, 453.88it/s]"
          ]
        },
        {
          "name": "stdout",
          "output_type": "stream",
          "text": [
            "Test accuracy: 90.08 %\n"
          ]
        },
        {
          "name": "stderr",
          "output_type": "stream",
          "text": [
            "\n"
          ]
        }
      ],
      "source": [
        "from tqdm.auto import tqdm\n",
        "import numpy as np\n",
        "\n",
        "y_preds, y_trues = [], []\n",
        "model_2.to(device)\n",
        "model_2.eval()\n",
        "val_acc = 0.0\n",
        "with torch.inference_mode():\n",
        "  for X, y in tqdm(val_dataloader, desc=\"Making predictions for test set\"):\n",
        "    # Do the forward pass\n",
        "    y_logit = model_2(X.to(device))\n",
        "    # Turn predictions from logits -> prediction probabilities -> predictions labels\n",
        "    #  note: perform softmax on the \"logits\" dimension, not \"batch\" dimension (in this case we have a batch size of 32, so can perform on dim=1)\n",
        "    y_pred = torch.softmax(y_logit, dim=1).argmax(dim=1)\n",
        "    # Put predictions on CPU for evaluation\n",
        "    y_preds.append(y_pred.cpu().numpy())\n",
        "    y_trues.append(y.cpu().numpy())\n",
        "    val_acc += accuracy_fn(y_true=y, y_pred=y_pred.cpu())\n",
        "val_acc /= len(val_dataloader)\n",
        "# Concatenate list of predictions into a tensor\n",
        "y_preds = np.concatenate(y_preds)\n",
        "y_trues = np.concatenate(y_trues)\n",
        "\n",
        "print(f\"Test accuracy: {val_acc:0.2f} %\")"
      ]
    },
    {
      "cell_type": "markdown",
      "id": "922152bc",
      "metadata": {
        "id": "922152bc"
      },
      "source": [
        "Now, lets compute the confusion matrix and plot it."
      ]
    },
    {
      "cell_type": "code",
      "execution_count": null,
      "id": "4fee8e1e",
      "metadata": {
        "id": "4fee8e1e",
        "outputId": "fbd87087-649d-48d1-94ef-173332ce701b"
      },
      "outputs": [
        {
          "data": {
            "text/plain": [
              "<sklearn.metrics._plot.confusion_matrix.ConfusionMatrixDisplay at 0x7c263c3a4370>"
            ]
          },
          "execution_count": 38,
          "metadata": {},
          "output_type": "execute_result"
        },
        {
          "data": {
            "image/png": "[encoded data removed]",
            "text/plain": [
              "<Figure size 640x480 with 2 Axes>"
            ]
          },
          "metadata": {},
          "output_type": "display_data"
        }
      ],
      "source": [
        "from sklearn.metrics import confusion_matrix, ConfusionMatrixDisplay\n",
        "cm = confusion_matrix(y_true=y_trues, y_pred=y_preds)\n",
        "ConfusionMatrixDisplay(cm,display_labels=class_names).plot(xticks_rotation=\"vertical\")\n"
      ]
    },
    {
      "cell_type": "markdown",
      "id": "381c1c93-df30-451c-b65e-5d4c1680dc30",
      "metadata": {
        "id": "381c1c93-df30-451c-b65e-5d4c1680dc30"
      },
      "source": [
        "Woah! Doesn't that look good?\n",
        "\n",
        "We can see our model does fairly well since most of the yellow squares are down the diagonal from top left to bottom right (and ideal model will have only values in these squares and 0 everywhere else).\n",
        "\n",
        "The model gets most \"confused\" on classes that are similar, for example predicting \"Pullover\" for images that are actually labelled \"Shirt\".\n",
        "\n",
        "And the same for predicting \"Shirt\" for classes that are actually labelled \"T-shirt/top\".\n",
        "\n",
        "This kind of information is often more helpful than a single accuracy metric because it tells use *where* a model is getting things wrong.\n",
        "\n",
        "It also hints at *why* the model may be getting certain things wrong.\n",
        "\n",
        "It's understandable the model sometimes predicts \"Shirt\" for images labelled \"T-shirt/top\".\n",
        "\n",
        "We can use this kind of information to further inspect our models and data to see how it could be improved.\n",
        "\n",
        "> **Exercise:** Use the trained `model_2` to make predictions on the test FashionMNIST dataset.\n",
        "Then plot some predictions where the model was wrong alongside what the label of the image should've been.\n",
        "After visualizing these predictions do you think it's more of a modelling error or a data error? As in, could the model do better or are the labels of the data too close to each other (e.g. a \"Shirt\" label is too close to \"T-shirt/top\")?"
      ]
    },
    {
      "cell_type": "markdown",
      "id": "c3969b7d-9955-4b6f-abf8-fe8eedf233a9",
      "metadata": {
        "id": "c3969b7d-9955-4b6f-abf8-fe8eedf233a9"
      },
      "source": [
        "## Exercises\n",
        "\n",
        "There is no designated exercise for this tutorial.\n",
        "However, the following activities can help you gain valuable insights on variables that affect the model performance.\n",
        "* Check how the models trained in this notebook perform on the test [`torchvision.datasets.FashionMNIST`](https://pytorch.org/vision/main/generated/torchvision.datasets.FashionMNIST.html) dataset. The following code downloads the test data:\n",
        "```python\n",
        "    # Setup FashionMNIST test data\n",
        "    test_data = datasets.FashionMNIST(\n",
        "        root=\"data\",\n",
        "        train=False, # get test data\n",
        "        download=True,\n",
        "        transform=ToTensor()\n",
        "    )\n",
        "```\n",
        "  > Note: create a function that computes the model accuracy on the test dataset so you can use this function on the following exercises.\n",
        "* Use different seeds to initialize the models with 5 alternative random values and verify wether the models' accuracies change.\n",
        "* Compute the average accuracy and the standard deviation and try to compare the performance of the three models considering all the 5 runs.\n",
        "* Try using alternative model architectures (e.g., try changing the models by replacing or adding layers)\n",
        "* Explore how the hyperparameters values (e.g., number of epochs, learning rate, optimizer, etc) affect the learning process and the models' performance.\n",
        "* Adapt the code to run on a GPU and measure how faster the computation would be on a GPU.\n",
        "* Explore the performance of these models on different datasets. You may try the [`torchvision.datasets.MNIST()`](https://pytorch.org/vision/stable/generated/torchvision.datasets.MNIST.html#torchvision.datasets.MNIST) train and test datasets.\n",
        "* Explore how early stop (selecting the parameters that achieved the best validation loss) affect the performance of the models. You may train `model_2` for more epochs and check if the model is overfitting by checking the train and validation loss curves.\n",
        "If so, compare the performance of the model using the parameters found in the last epoch agains the model using the parameters that achieved the best validation loss.\n",
        "Use the Fashion MNIST test set to verify the final models' performances.\n"
      ]
    }
  ],
  "metadata": {
    "accelerator": "GPU",
    "colab": {
      "gpuType": "T4",
      "machine_shape": "hm",
      "provenance": []
    },
    "kernelspec": {
      "display_name": "Python 3",
      "language": "python",
      "name": "python3"
    },
    "language_info": {
      "codemirror_mode": {
        "name": "ipython",
        "version": 3
      },
      "file_extension": ".py",
      "mimetype": "text/x-python",
      "name": "python",
      "nbconvert_exporter": "python",
      "pygments_lexer": "ipython3",
      "version": "3.10.6"
    }
  },
  "nbformat": 4,
  "nbformat_minor": 5
}