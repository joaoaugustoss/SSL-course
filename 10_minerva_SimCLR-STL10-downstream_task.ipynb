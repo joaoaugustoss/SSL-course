{
 "cells": [
  {
   "cell_type": "markdown",
   "metadata": {},
   "source": [
    "<a href=\"https://colab.research.google.com/github/eborin/SSL-course/blob/main/10_minerva_SimCLR-STL10-downstream_task.ipynb\" target=\"_parent\"><img src=\"https://colab.research.google.com/assets/colab-badge.svg\" alt=\"Open In Colab\"/></a>\n",
    "\n",
    "[View Source Code](https://github.com/eborin/SSL-course/blob/main/10_minerva_SimCLR-STL10-downstream_task.ipynb)\n",
    "\n",
    "# Using Pretrained Backbones on the Downstream Task\n",
    "\n",
    "This notebook demonstrates how to load pretrained backbones and apply them to solve the downstream task. \n",
    "Specifically, it guides you through the process of loading a ResNet-18 backbone pretrained in the tutorial `09_minerva_SimCLR-STL10-backbone_pretrain.ipynb` and using it to tackle the STL10 image classification task."
   ]
  },
  {
   "cell_type": "markdown",
   "metadata": {},
   "source": [
    "## 1. Introduction"
   ]
  },
  {
   "cell_type": "markdown",
   "metadata": {},
   "source": [
    "### 1.1 Objective\n",
    "\n",
    "The primary goal of this tutorial is to demonstrate how to load and use pretrained backbones to tackle the downstream task.\n",
    "Additionally, we will compare the performance of downstream models using three types of backbones:\n",
    "\n",
    "* From Scratch – randomly initialized, i.e., with no pretraining;\n",
    "\n",
    "* SimCLR Pretrained – pretrained using the SimCLR self-supervised approach; and\n",
    "\n",
    "* ImageNet Pretrained – pretrained on the ImageNet dataset\n"
   ]
  },
  {
   "cell_type": "markdown",
   "metadata": {},
   "source": [
    "### 1.2 What we will cover\n",
    "\n",
    "We will begin by setting up the dataloader for the downstream task.\n",
    "Then, we will discuss how to build the model for the downstream task. \n",
    "Next, we will build and train multiple models using from scratch and pretrained backbones.\n",
    "Finally, we will evaluate their performance on the test dataset.\n",
    "\n",
    "| **Topic** | **Contents** |\n",
    "| ----- | ----- |\n",
    "| [**2. Basic Setup**](#sec_2) | Import the necessary modules (PyTorch, Torchvision, and PyTorch Lightning), and define the key variables that control the training process.  |\n",
    "| [**3. Setting Up the Data Module**](#sec_3) | Set up the data module for the training and evaluation processes. |\n",
    "| [**4. Combining the Backbone and the Prediction Head**](#sec_4) | Develop code to combine the backbone with prediction heads to construct a supervised machine learning model for solving the downstream task. |\n",
    "| [**5. Training the Models**](#sec_5) | Build and train several models. |\n",
    "| [**6. Evaluating the models**](#sec_6) | Evaluate the trained models on the test set. |\n",
    "| [**7. Exercises**](#sec_7) | Suggested Exercises. |"
   ]
  },
  {
   "cell_type": "markdown",
   "metadata": {},
   "source": [
    "### 1.3 Where can you get help?\n",
    "\n",
    "In addition to discussing with your colleagues or the course professor, you might also consider:\n",
    "\n",
    "* Minerva: check the [Minerva docs](https://discovery-unicamp.github.io/Minerva/).\n",
    "\n",
    "* Lightning: check the [Lightning documentation](https://lightning.ai/docs/overview/getting-started) and research or post Lightning related question on the [PyTorch Lightning forum](https://lightning.ai/forums/).\n",
    "\n",
    "* PyTorch: check the [PyTorch documentation](https://pytorch.org/docs/stable/index.html) and research or post PyTorch related question on the [PyTorch developer forums](https://discuss.pytorch.org/)."
   ]
  },
  {
   "cell_type": "markdown",
   "metadata": {},
   "source": [
    "## <a id=\"sec_2\">2. Basic setup</a>"
   ]
  },
  {
   "cell_type": "markdown",
   "metadata": {},
   "source": [
    "### 2.1 Setting the main variables\n",
    "\n",
    "The following variables influence the execution time of this notebook. \n",
    "You may want to adjust them if you are not using high-performance hardware (e.g., fast GPUs):\n",
    "\n",
    "* `n_epochs`: Specifies the number of training epochs for each model.\n",
    "\n",
    "* `n_version`: Determines how many versions of each model will be trained. Training multiple versions helps assess the impact of randomness on model performance.\n",
    "\n",
    "* `DL_BATCH_SIZE`: Sets the batch size used during training.\n",
    "\n",
    "* `DL_NUM_WORKERS`: Defines the number of parallel threads/processes the dataloader uses to prefetch and preprocess data during training.\n",
    "\n",
    "* `output_csv_filename`: Specifies the name of the CSV file where evaluation results (accuracies of each model) will be recorded.\n"
   ]
  },
  {
   "cell_type": "code",
   "execution_count": 1,
   "metadata": {},
   "outputs": [],
   "source": [
    "## General configuration variables\n",
    "\n",
    "# Maximum number of epochs to train the downstream model\n",
    "n_epochs = 20\n",
    "\n",
    "# Number of model versions to train. Each model configuration will be trained n_versions times. \n",
    "n_versions = 3\n",
    "\n",
    "# Train dataloader parameters\n",
    "DL_BATCH_SIZE=32\n",
    "DL_NUM_WORKERS=8\n",
    "\n",
    "# Output statistics\n",
    "output_csv_filename = \"10_minerva-SimCLR-STL10-downstream_task_results.csv\""
   ]
  },
  {
   "cell_type": "markdown",
   "metadata": {},
   "source": [
    "### 2.2 Installing Lightining and Minerva modules\n",
    "\n",
    "The code below attempts to import Minerva and installs it if it is not already available.\n",
    "Since Minerva depends on the Lightning module, Lightning will also be installed automatically when Minerva is installed."
   ]
  },
  {
   "cell_type": "code",
   "execution_count": 2,
   "metadata": {},
   "outputs": [],
   "source": [
    "try:\n",
    "    import minerva\n",
    "except:\n",
    "    try:\n",
    "        #Try to install it and import again\n",
    "        print(\"[INFO]: Could not import the minerva module. Trying to install it!\")\n",
    "        !pip install -q minerva-ml\n",
    "        import minerva\n",
    "        print(\"[INFO]: It looks like minerva was successfully imported!\")\n",
    "    except:\n",
    "        raise Exception(\"[ERROR] Couldn't find the minerva module ... \\n\" +\n",
    "                        \"Please, install it before running the notebook.\\n\"+\n",
    "                        \"You might want to install the modules listed at requirements.txt\\n\" +\n",
    "                        \"To do so, run: \\\"pip install -r requirements.txt\\\"\")"
   ]
  },
  {
   "cell_type": "markdown",
   "metadata": {},
   "source": [
    "### 2.3 Importing basic modules"
   ]
  },
  {
   "cell_type": "code",
   "execution_count": 3,
   "metadata": {},
   "outputs": [
    {
     "name": "stdout",
     "output_type": "stream",
     "text": [
      "PyTorch version: 2.6.0+cu124\n",
      "torchvision version: 0.21.0+cu124\n",
      "Lightning version: 2.5.1\n"
     ]
    }
   ],
   "source": [
    "# Import PyTorch\n",
    "import torch\n",
    "\n",
    "# Import torchvision\n",
    "import torchvision\n",
    "\n",
    "# Import lightning\n",
    "import lightning\n",
    "\n",
    "# Import minerva\n",
    "import minerva\n",
    "\n",
    "# Check versions\n",
    "# Note: your PyTorch version shouldn't be lower than 1.10.0 and torchvision version shouldn't be lower than 0.11\n",
    "print(f\"PyTorch version: {torch.__version__}\")\n",
    "print(f\"torchvision version: {torchvision.__version__}\")\n",
    "print(f\"Lightning version: {lightning.__version__}\")\n",
    "#print(f\"Minerva version: {M.__version__}\") ## TODO\n",
    "\n",
    "# Import matplotlib for visualization\n",
    "import matplotlib.pyplot as plt"
   ]
  },
  {
   "cell_type": "markdown",
   "metadata": {},
   "source": [
    "## <a id=\"sec_3\">3. Setup the Data Module</a>"
   ]
  },
  {
   "cell_type": "markdown",
   "metadata": {},
   "source": [
    "### 3.1 Download and instantiate the train and test datasets\n",
    "\n",
    "As in previous tutorials, we will use the `torchvision` module to download the datasets.\n",
    "Additionally, we will define a data transformation pipeline to convert samples from PIL images to tensors and normalize them using the dataset's mean and standard deviation."
   ]
  },
  {
   "cell_type": "code",
   "execution_count": 4,
   "metadata": {},
   "outputs": [
    {
     "name": "stdout",
     "output_type": "stream",
     "text": [
      "Class names: ['airplane', 'bird', 'car', 'cat', 'deer', 'dog', 'horse', 'monkey', 'ship', 'truck']\n"
     ]
    }
   ],
   "source": [
    "# Torchvision transforms\n",
    "from torchvision.transforms.v2 import Compose, ToImage, ToDtype, Normalize\n",
    "\n",
    "# STL10 statistics for the train split. \n",
    "# - Note: If you would like to compute these statistics for your own dataset, refer \n",
    "#         to the discussion in tutorial 05_pytorch_transfer_learning.ipynb.\n",
    "stl10_train_mean  = torch.tensor([0.4467, 0.4398, 0.4066])\n",
    "stl10_train_std = torch.tensor([0.2603, 0.2566, 0.2713])\n",
    "\n",
    "# Build the data transform pipeline to convert from PIL images to tensors and normalize the data. \n",
    "transform_pipeline = Compose([\n",
    "    ToImage(), \n",
    "    ToDtype(torch.float32, scale=True),\n",
    "    Normalize(mean=stl10_train_mean, std=stl10_train_std)\n",
    "])\n",
    "\n",
    "train_dataset = torchvision.datasets.STL10(root=\"data\", \n",
    "                                           split=\"train\",  \n",
    "                                           download=True,\n",
    "                                           transform=transform_pipeline)\n",
    "\n",
    "test_dataset = torchvision.datasets.STL10(root=\"data\", \n",
    "                                           split=\"test\",  \n",
    "                                           download=True,\n",
    "                                           transform=transform_pipeline)\n",
    "\n",
    "class_names = train_dataset.classes\n",
    "print(\"Class names:\", class_names)"
   ]
  },
  {
   "cell_type": "markdown",
   "metadata": {},
   "source": [
    "### 3.2 Setup the data module"
   ]
  },
  {
   "cell_type": "markdown",
   "metadata": {},
   "source": [
    "Finally, we will split the training dataset into training and validation subsets, and create a Minerva data module to organize the data and set up the corresponding dataloaders."
   ]
  },
  {
   "cell_type": "code",
   "execution_count": 5,
   "metadata": {},
   "outputs": [],
   "source": [
    "from torch.utils.data import random_split\n",
    "from minerva.data.data_modules.base import MinervaDataModule\n",
    "\n",
    "# Split the training dataset into train and validation subsets\n",
    "torch.manual_seed(42)\n",
    "train_size = int(0.8 * len(train_dataset))\n",
    "val_size = len(train_dataset) - train_size\n",
    "train_set, val_set = random_split(train_dataset, [train_size, val_size])\n",
    "\n",
    "# Create the data module.\n",
    "datamodule = MinervaDataModule(name=\"STL10\",\n",
    "                               train_dataset=train_set, \n",
    "                               val_dataset=val_set, \n",
    "                               test_dataset=test_dataset,\n",
    "                               batch_size=DL_BATCH_SIZE, \n",
    "                               num_workers=DL_NUM_WORKERS)"
   ]
  },
  {
   "cell_type": "markdown",
   "metadata": {},
   "source": [
    "## <a id=\"sec_4\">4. Combining the Backbone and the Prediction Head</a>"
   ]
  },
  {
   "cell_type": "markdown",
   "metadata": {},
   "source": [
    "In this section, we will develop the code to build a model for the downstream task.\n",
    "\n",
    "Specifically, we will create functions to load pretrained ResNet18 backbones from checkpoint files and combine them with a prediction head to form a supervised model."
   ]
  },
  {
   "cell_type": "markdown",
   "metadata": {},
   "source": [
    "### 4.1 Loading a pretrained backbone\n",
    "\n",
    "The pretrained backbone weights are stored in a checkpoint file, along with the projection head weights and other information from the Minerva SimCLR model.\n",
    "\n",
    "To load these weights, you must first instantiate an equivalent SimCLR model—using the same backbone and projection head architecture—and then call the `load_from_checkpoint()` method.\n",
    "\n",
    "The code below includes functions to generate backbones and projection heads that are structurally identical to those used when the checkpoints were originally created."
   ]
  },
  {
   "cell_type": "code",
   "execution_count": 6,
   "metadata": {},
   "outputs": [],
   "source": [
    "from torchvision.models import resnet18\n",
    "\n",
    "def generate_backbone(weights=None):\n",
    "    backbone = resnet18(weights=weights)\n",
    "    backbone.fc = torch.nn.Identity()\n",
    "    return backbone\n",
    "\n",
    "def generate_proj_head(backbone_out_dim=512, output_dim=128):\n",
    "    return torch.nn.Sequential(\n",
    "        torch.nn.Linear(backbone_out_dim, 4*output_dim), # Resnet output => 4*hidden_dim\n",
    "        torch.nn.ReLU(inplace=True),\n",
    "        torch.nn.Linear(4*output_dim, output_dim))"
   ]
  },
  {
   "cell_type": "markdown",
   "metadata": {},
   "source": [
    "The function below instantiates a Minerva `SimCLR` model using the same backbone and projection head architectures as in the previous tutorial. \n",
    "It then loads the weights from a checkpoint file and returns the model's backbone."
   ]
  },
  {
   "cell_type": "code",
   "execution_count": 7,
   "metadata": {},
   "outputs": [],
   "source": [
    "from minerva.models.ssl.simclr import SimCLR\n",
    "\n",
    "def loadPretrainedBackbone(ckpt_filename):\n",
    "    pretext_model = SimCLR.load_from_checkpoint(ckpt_filename,\n",
    "                                                backbone=generate_backbone(),\n",
    "                                                projection_head=generate_proj_head())\n",
    "    return pretext_model.backbone"
   ]
  },
  {
   "cell_type": "markdown",
   "metadata": {},
   "source": [
    "#### **Note on checkpointing**\n",
    "\n",
    "The code above uses the Lightning `load_from_checkpoint()` method to restore model weights from a checkpoint. \n",
    "To do this, we must reconstruct the model architecture exactly as it was when the checkpoint was created—which is why we needed to define both the backbone and the projection head.\n",
    "\n",
    "Alternatively, you could load the checkpoint using `torch.load()` to retrieve its contents as a dictionary, and then manually extract the backbone weights. \n",
    "More information on extracting specific components, such as the backbone, from a PyTorch Lightning checkpoint is available in the [Lightning documentation](https://lightning.ai/docs/pytorch/stable/common/checkpointing_basic.html#nn-module-from-checkpoint).\n",
    "\n",
    "Lastly, it is worth noting that Lightning provides an [experimental API for customizing the checkpointing process](https://lightning.ai/docs/pytorch/1.6.3/common/checkpointing.html#customize-checkpointing). \n",
    "This API could be used during SimCLR pretraining to save only the backbone weights, streamlining the process for downstream tasks."
   ]
  },
  {
   "cell_type": "markdown",
   "metadata": {},
   "source": [
    "### 4.2 Building a SimpleSupervisedModel model from a given backbone"
   ]
  },
  {
   "cell_type": "markdown",
   "metadata": {},
   "source": [
    "Now, we will combine the pretrained backbone with a prediction head to construct a model for the downstream task.\n",
    "\n",
    "To achieve this, we will create an MLP prediction head and attach it to the pretrained backbone using Minerva's `SimpleSupervisedModel` class."
   ]
  },
  {
   "cell_type": "markdown",
   "metadata": {},
   "source": [
    "#### 4.2.1 Generating the prediction head\n",
    "\n",
    "We will use a simple MLP consisting of two linear layers with a ReLU activation in between.\n",
    "The code below defines this architecture using `torch.nn.Sequential()`."
   ]
  },
  {
   "cell_type": "code",
   "execution_count": 8,
   "metadata": {},
   "outputs": [],
   "source": [
    "import torch\n",
    "\n",
    "def generate_pred_head(backbone_out_dim=512):\n",
    "    return torch.nn.Sequential(\n",
    "        torch.nn.Linear(backbone_out_dim, 512),\n",
    "        torch.nn.ReLU(),\n",
    "        torch.nn.Linear(512, len(class_names))\n",
    "    )"
   ]
  },
  {
   "cell_type": "markdown",
   "metadata": {},
   "source": [
    "#### 4.2.2 Building the SimpleSupervisedModel"
   ]
  },
  {
   "cell_type": "markdown",
   "metadata": {},
   "source": [
    "When constructing the `SimpleSupervisedModel`, we will use `CrossEntropyLoss()` as the loss function and include accuracy metrics to monitor the model's performance on both the training and test sets."
   ]
  },
  {
   "cell_type": "code",
   "execution_count": 9,
   "metadata": {},
   "outputs": [],
   "source": [
    "from minerva.models.nets.base import SimpleSupervisedModel\n",
    "from torchmetrics import Accuracy\n",
    "\n",
    "# Build a simple supervised model for STL10 using a given backbone\n",
    "def build_SimpleSupervisedModel(backbone, hidden_dim=512):\n",
    "  return SimpleSupervisedModel(\n",
    "    backbone=backbone,\n",
    "    fc=generate_pred_head(),\n",
    "    loss_fn=torch.nn.CrossEntropyLoss(),\n",
    "    train_metrics={\"accuracy\": Accuracy(\"multiclass\", num_classes=len(class_names))},\n",
    "    val_metrics  ={\"accuracy\": Accuracy(\"multiclass\", num_classes=len(class_names))},\n",
    "    test_metrics ={\"accuracy\": Accuracy(\"multiclass\", num_classes=len(class_names))},\n",
    "  )"
   ]
  },
  {
   "cell_type": "markdown",
   "metadata": {},
   "source": [
    "## <a id=\"sec_5\">5. Training the models</a>"
   ]
  },
  {
   "cell_type": "markdown",
   "metadata": {},
   "source": [
    "Now, we will build and train several models to evaluate the impact of pretraining on the performance of a downstream task.\n",
    "Specifically, we will compare models that use pretrained backbones with those that use randomly initialized (untrained) backbones—referred to as from scratch models.\n",
    "\n",
    "Let’s begin by creating a dictionary to store all the models."
   ]
  },
  {
   "cell_type": "code",
   "execution_count": 10,
   "metadata": {},
   "outputs": [],
   "source": [
    "models = {}"
   ]
  },
  {
   "cell_type": "markdown",
   "metadata": {},
   "source": [
    "### 5.1 Downloading Minerva SimCLR checkpoints\n",
    "\n",
    "We will use checkpoints generated by SimCLR in the tutorial `09_minerva_SimCLR-STL10-backbone_pretrain.ipynb`.\n",
    "\n",
    "If you did not save your own checkpoints, you can download a pre-generated set that I have made available on my webpage.\n",
    "For convenience, the code below will automatically download and extract the checkpoints.\n",
    "\n",
    "This particular zip file contains model checkpoints saved every 20 epochs."
   ]
  },
  {
   "cell_type": "code",
   "execution_count": 11,
   "metadata": {},
   "outputs": [],
   "source": [
    "import os\n",
    "filename = '09_minerva_SimCLR_STL10-checkpoints-20-100.zip'\n",
    "\n",
    "if not os.path.exists(filename):\n",
    "    # Download the zip file with checkpoints\n",
    "    import urllib.request\n",
    "    url = 'https://www.ic.unicamp.br/~edson/disciplinas/mo810/2025-1s/09_minerva_SimCLR_STL10-checkpoints-20-100.zip'\n",
    "    urllib.request.urlretrieve(url, filename)\n",
    "\n",
    "if not os.path.exists(\"logs/09_minerva_SimCLR_STL10/Pretext/op_lr_0.01_m_0.9_wd_0.0005_lrep_1000000/SimCLR-Resnet18/\"):\n",
    "    # Unzip the checkpoint file\n",
    "    import zipfile\n",
    "    with zipfile.ZipFile(filename, 'r') as zip_ref:\n",
    "        zip_ref.extractall('.')"
   ]
  },
  {
   "cell_type": "markdown",
   "metadata": {},
   "source": [
    "After running the code above, you should see the file `09_minerva_SimCLR_STL10-checkpoints-20-100.zip` in your local directory.\n",
    "You will also find several checkpoint files inside the `logs/09_minerva_SimCLR_STL10/Pretext/op_lr_0.01_m_0.9_wd_0.0005_lrep_1000000/SimCLR-Resnet18/version_1/checkpoints/` folder, each one from a different training epoch."
   ]
  },
  {
   "cell_type": "markdown",
   "metadata": {},
   "source": [
    "### 5.2 Selecting the SimCLR checkpoints to read from\n",
    "\n",
    "The code below searches for checkpoint files that match a specified filename pattern, generates a basename to identify each checkpoint, and stores them in a list.\n",
    "\n",
    "If you have multiple checkpoints (e.g., saved every 10 epochs), you can modify the filename pattern to load additional checkpoints and evaluate how different stages of pretraining impact final model performance.\n",
    "\n",
    "> **Important**: If you modify the filename pattern, make sure to update the code that generates the `model_basename` accordingly, so the model can be properly identified. \n",
    "    In the following example, we extract the epoch number from the checkpoint filename to construct the model’s basename.\n",
    "\n",
    "> **Hint**: If you downloaded `09_minerva_SimCLR_STL10-checkpoints-20-100.zip`, you can uncomment the provided line to evaluate all checkpoints, rather than evaluating only the one corresponding to the 99th epoch."
   ]
  },
  {
   "cell_type": "code",
   "execution_count": 12,
   "metadata": {},
   "outputs": [
    {
     "name": "stdout",
     "output_type": "stream",
     "text": [
      "  0 Pretrained_SimCLR-epoch_99 : logs/09_minerva_SimCLR_STL10/Pretext/op_lr_0.01_m_0.9_wd_0.0005_lrep_1000000/SimCLR-Resnet18/version_1/checkpoints/epoch=99-step=31300.ckpt\n"
     ]
    }
   ],
   "source": [
    "import glob\n",
    "\n",
    "# Search for the checkpoint file associated with epoch 99.\n",
    "model_ckpt_files = glob.glob(\"logs/09_minerva_SimCLR_STL10/Pretext/op_lr_0.01_m_0.9_wd_0.0005_lrep_1000000/SimCLR-Resnet18/version_1/checkpoints/epoch=99*\")\n",
    "\n",
    "# Uncomment the following line to evaluate all the checkpoints\n",
    "# model_ckpt_files = glob.glob(\"logs/09_minerva_SimCLR_STL10/Pretext/op_lr_0.01_m_0.9_wd_0.0005_lrep_1000000/SimCLR-Resnet18/version_1/checkpoints/epoch*.ckpt\")\n",
    "\n",
    "# Build a list with (checkpoint basename; checkpoint filename) tuples.\n",
    "checkpoints_list = []\n",
    "for f in model_ckpt_files:\n",
    "    info = f.split(\"/\") \n",
    "    checkpoint_filename = info[7]\n",
    "    epoch_info = checkpoint_filename.split(\"-\")[0]\n",
    "    epoch_info = epoch_info.replace(\"=\",\"_\")\n",
    "    model_basename = f\"Pretrained_SimCLR-{epoch_info}\"\n",
    "    checkpoints_list.append ((model_basename, f))\n",
    "\n",
    "# Print the basename for all checkpoint files found\n",
    "for i, (model_basename, f) in enumerate(checkpoints_list):\n",
    "    print(f\"{i:3d} {model_basename} : {f}\")"
   ]
  },
  {
   "cell_type": "markdown",
   "metadata": {},
   "source": [
    "### 5.3 Building the models\n",
    "\n",
    "The code below constructs multiple versions (`n_versions`) of the models to be evaluated.\n",
    "\n",
    "* The `From_Scratch` model uses a randomly initialized (untrained) backbone.\n",
    "\n",
    "* The `Pretrained_ImageNet` model uses a backbone pretrained on ImageNet.\n",
    "\n",
    "* The `Pretrained_{ckpt_basename}` models use backbones initialized with weights loaded from checkpoints identified by the corresponding `ckpt_basename`."
   ]
  },
  {
   "cell_type": "code",
   "execution_count": 13,
   "metadata": {},
   "outputs": [
    {
     "name": "stderr",
     "output_type": "stream",
     "text": [
      "Seed set to 1969\n"
     ]
    },
    {
     "name": "stdout",
     "output_type": "stream",
     "text": [
      "== The following models were included ==\n",
      "  0 From_Scratch/ft_20_ep/v_0\n",
      "  1 Pretrained_ImageNet/ft_20_ep/v_0\n",
      "  2 Pretrained_SimCLR-epoch_99/ft_20_ep/v_0\n",
      "  3 From_Scratch/ft_20_ep/v_1\n",
      "  4 Pretrained_ImageNet/ft_20_ep/v_1\n",
      "  5 Pretrained_SimCLR-epoch_99/ft_20_ep/v_1\n",
      "  6 From_Scratch/ft_20_ep/v_2\n",
      "  7 Pretrained_ImageNet/ft_20_ep/v_2\n",
      "  8 Pretrained_SimCLR-epoch_99/ft_20_ep/v_2\n"
     ]
    }
   ],
   "source": [
    "from torchvision.models import resnet18, ResNet18_Weights\n",
    "\n",
    "# Let's set the seeds for reproducibility\n",
    "lightning.seed_everything(1969)\n",
    "\n",
    "# For each version id\n",
    "for version in range(n_versions):\n",
    "\n",
    "    # -- Add the from scratch model --\n",
    "    backbone = generate_backbone()\n",
    "    models[f\"From_Scratch/ft_{n_epochs}_ep/v_{version}\"] = {\n",
    "        \"backbone\": backbone,\n",
    "        \"model\": build_SimpleSupervisedModel(backbone),\n",
    "        \"nepochs\": n_epochs,\n",
    "        \"version\": version\n",
    "    }\n",
    "\n",
    "    # -- Add the pretrained model: ImageNet weights --\n",
    "    backbone = generate_backbone(weights=ResNet18_Weights.DEFAULT)\n",
    "    models[f\"Pretrained_ImageNet/ft_{n_epochs}_ep/v_{version}\"] = {\n",
    "        \"backbone\": backbone,\n",
    "        \"model\": build_SimpleSupervisedModel(backbone),\n",
    "        \"nepochs\": n_epochs,\n",
    "        \"version\": version\n",
    "    }\n",
    "\n",
    "    # For each pretrained checkpoint, load the backbone and add a new model to the dictionary\n",
    "    for model_basename, ckpt_filename in checkpoints_list:\n",
    "        backbone = loadPretrainedBackbone(ckpt_filename)\n",
    "        models[f\"{model_basename}/ft_{n_epochs}_ep/v_{version}\"] = {\n",
    "            \"backbone\": backbone,\n",
    "            \"model\": build_SimpleSupervisedModel(backbone),\n",
    "            \"nepochs\": n_epochs,\n",
    "            \"version\": version\n",
    "        }\n",
    "\n",
    "print(\"== The following models were included ==\")\n",
    "for i, k in enumerate(models.keys()):\n",
    "    print(f\"{i:3d} {k}\")"
   ]
  },
  {
   "cell_type": "markdown",
   "metadata": {},
   "source": [
    "### 5.4 Training the models\n",
    "\n",
    "As in previous Lightning/Minerva tutorials, we will use the Lightning `Trainer()` class to train our models.\n",
    "We will configure a `TensorBoardLogger()` to save logs in the `logs/08_SimCLR/Downstream/` directory, and a `ModelCheckpoint()` callback to save the best model based on validation loss.\n",
    "\n",
    "For convenience, the code below also reports training statistics—such as the number of models already trained, how many are left, the elapsed training time, and an estimate of the remaining time to completion."
   ]
  },
  {
   "cell_type": "code",
   "execution_count": 14,
   "metadata": {},
   "outputs": [
    {
     "name": "stderr",
     "output_type": "stream",
     "text": [
      "GPU available: True (cuda), used: True\n",
      "TPU available: False, using: 0 TPU cores\n",
      "HPU available: False, using: 0 HPUs\n",
      "You are using a CUDA device ('NVIDIA A100 80GB PCIe') that has Tensor Cores. To properly utilize them, you should set `torch.set_float32_matmul_precision('medium' | 'high')` which will trade-off precision for performance. For more details, read https://pytorch.org/docs/stable/generated/torch.set_float32_matmul_precision.html#torch.set_float32_matmul_precision\n",
      "LOCAL_RANK: 0 - CUDA_VISIBLE_DEVICES: [0]\n",
      "\n",
      "  | Name     | Type             | Params | Mode \n",
      "------------------------------------------------------\n",
      "0 | backbone | ResNet           | 11.2 M | train\n",
      "1 | fc       | Sequential       | 267 K  | train\n",
      "2 | loss_fn  | CrossEntropyLoss | 0      | train\n",
      "------------------------------------------------------\n",
      "11.4 M    Trainable params\n",
      "0         Non-trainable params\n",
      "11.4 M    Total params\n",
      "45.777    Total estimated model params size (MB)\n",
      "73        Modules in train mode\n",
      "0         Modules in eval mode\n"
     ]
    },
    {
     "name": "stdout",
     "output_type": "stream",
     "text": [
      "***********************************\n",
      " Training model From_Scratch/ft_20_ep/v_0\n",
      "***********************************\n"
     ]
    },
    {
     "data": {
      "application/vnd.jupyter.widget-view+json": {
       "model_id": "95bfcb98275e419393d2e62f5c9846d7",
       "version_major": 2,
       "version_minor": 0
      },
      "text/plain": [
       "Sanity Checking: |          | 0/? [00:00<?, ?it/s]"
      ]
     },
     "metadata": {},
     "output_type": "display_data"
    },
    {
     "data": {
      "application/vnd.jupyter.widget-view+json": {
       "model_id": "224854c70f9a4b94bb276a42586056d2",
       "version_major": 2,
       "version_minor": 0
      },
      "text/plain": [
       "Training: |          | 0/? [00:00<?, ?it/s]"
      ]
     },
     "metadata": {},
     "output_type": "display_data"
    },
    {
     "data": {
      "application/vnd.jupyter.widget-view+json": {
       "model_id": "ad712f71e7174470943a4f71b952e56c",
       "version_major": 2,
       "version_minor": 0
      },
      "text/plain": [
       "Validation: |          | 0/? [00:00<?, ?it/s]"
      ]
     },
     "metadata": {},
     "output_type": "display_data"
    },
    {
     "data": {
      "application/vnd.jupyter.widget-view+json": {
       "model_id": "b017974ad4af490b834d4ed32d32b44a",
       "version_major": 2,
       "version_minor": 0
      },
      "text/plain": [
       "Validation: |          | 0/? [00:00<?, ?it/s]"
      ]
     },
     "metadata": {},
     "output_type": "display_data"
    },
    {
     "data": {
      "application/vnd.jupyter.widget-view+json": {
       "model_id": "525fef4ada0a46ec93781601150a2b9b",
       "version_major": 2,
       "version_minor": 0
      },
      "text/plain": [
       "Validation: |          | 0/? [00:00<?, ?it/s]"
      ]
     },
     "metadata": {},
     "output_type": "display_data"
    },
    {
     "data": {
      "application/vnd.jupyter.widget-view+json": {
       "model_id": "05e88f415ad34ce09032e01e43df91e9",
       "version_major": 2,
       "version_minor": 0
      },
      "text/plain": [
       "Validation: |          | 0/? [00:00<?, ?it/s]"
      ]
     },
     "metadata": {},
     "output_type": "display_data"
    },
    {
     "data": {
      "application/vnd.jupyter.widget-view+json": {
       "model_id": "937b7e06910745fe981c9ca0d0a4bb67",
       "version_major": 2,
       "version_minor": 0
      },
      "text/plain": [
       "Validation: |          | 0/? [00:00<?, ?it/s]"
      ]
     },
     "metadata": {},
     "output_type": "display_data"
    },
    {
     "data": {
      "application/vnd.jupyter.widget-view+json": {
       "model_id": "e7dd344782294e55921a9c536fd96b59",
       "version_major": 2,
       "version_minor": 0
      },
      "text/plain": [
       "Validation: |          | 0/? [00:00<?, ?it/s]"
      ]
     },
     "metadata": {},
     "output_type": "display_data"
    },
    {
     "data": {
      "application/vnd.jupyter.widget-view+json": {
       "model_id": "f56584cb90d542e99ebb593c33abac7a",
       "version_major": 2,
       "version_minor": 0
      },
      "text/plain": [
       "Validation: |          | 0/? [00:00<?, ?it/s]"
      ]
     },
     "metadata": {},
     "output_type": "display_data"
    },
    {
     "data": {
      "application/vnd.jupyter.widget-view+json": {
       "model_id": "eda898f79df9425c8bb5ad12aaf74c74",
       "version_major": 2,
       "version_minor": 0
      },
      "text/plain": [
       "Validation: |          | 0/? [00:00<?, ?it/s]"
      ]
     },
     "metadata": {},
     "output_type": "display_data"
    },
    {
     "data": {
      "application/vnd.jupyter.widget-view+json": {
       "model_id": "84076aef43734ebaa8ac54d7b2ab32c0",
       "version_major": 2,
       "version_minor": 0
      },
      "text/plain": [
       "Validation: |          | 0/? [00:00<?, ?it/s]"
      ]
     },
     "metadata": {},
     "output_type": "display_data"
    },
    {
     "data": {
      "application/vnd.jupyter.widget-view+json": {
       "model_id": "e92052bb6b3d40e383128eef7c7a64a8",
       "version_major": 2,
       "version_minor": 0
      },
      "text/plain": [
       "Validation: |          | 0/? [00:00<?, ?it/s]"
      ]
     },
     "metadata": {},
     "output_type": "display_data"
    },
    {
     "data": {
      "application/vnd.jupyter.widget-view+json": {
       "model_id": "050b6b329c5e45dfa6081bb3867baa84",
       "version_major": 2,
       "version_minor": 0
      },
      "text/plain": [
       "Validation: |          | 0/? [00:00<?, ?it/s]"
      ]
     },
     "metadata": {},
     "output_type": "display_data"
    },
    {
     "data": {
      "application/vnd.jupyter.widget-view+json": {
       "model_id": "8681119d925f4f6d8380e73c4ebfb423",
       "version_major": 2,
       "version_minor": 0
      },
      "text/plain": [
       "Validation: |          | 0/? [00:00<?, ?it/s]"
      ]
     },
     "metadata": {},
     "output_type": "display_data"
    },
    {
     "data": {
      "application/vnd.jupyter.widget-view+json": {
       "model_id": "a58098866a034ed9953443afcfc1e848",
       "version_major": 2,
       "version_minor": 0
      },
      "text/plain": [
       "Validation: |          | 0/? [00:00<?, ?it/s]"
      ]
     },
     "metadata": {},
     "output_type": "display_data"
    },
    {
     "data": {
      "application/vnd.jupyter.widget-view+json": {
       "model_id": "3021e74714254388b74e2687a247c2de",
       "version_major": 2,
       "version_minor": 0
      },
      "text/plain": [
       "Validation: |          | 0/? [00:00<?, ?it/s]"
      ]
     },
     "metadata": {},
     "output_type": "display_data"
    },
    {
     "data": {
      "application/vnd.jupyter.widget-view+json": {
       "model_id": "ada6f7f0329142e68db53cc33d0c5c29",
       "version_major": 2,
       "version_minor": 0
      },
      "text/plain": [
       "Validation: |          | 0/? [00:00<?, ?it/s]"
      ]
     },
     "metadata": {},
     "output_type": "display_data"
    },
    {
     "data": {
      "application/vnd.jupyter.widget-view+json": {
       "model_id": "40e94d3ebca847fb9ee4b5e977568896",
       "version_major": 2,
       "version_minor": 0
      },
      "text/plain": [
       "Validation: |          | 0/? [00:00<?, ?it/s]"
      ]
     },
     "metadata": {},
     "output_type": "display_data"
    },
    {
     "data": {
      "application/vnd.jupyter.widget-view+json": {
       "model_id": "d3810a08b0204cabb37a75ec27e3ef28",
       "version_major": 2,
       "version_minor": 0
      },
      "text/plain": [
       "Validation: |          | 0/? [00:00<?, ?it/s]"
      ]
     },
     "metadata": {},
     "output_type": "display_data"
    },
    {
     "data": {
      "application/vnd.jupyter.widget-view+json": {
       "model_id": "c8610cad2d2a49258ee2e2c162ccce0c",
       "version_major": 2,
       "version_minor": 0
      },
      "text/plain": [
       "Validation: |          | 0/? [00:00<?, ?it/s]"
      ]
     },
     "metadata": {},
     "output_type": "display_data"
    },
    {
     "data": {
      "application/vnd.jupyter.widget-view+json": {
       "model_id": "1ae006f93d7741e3a60c19a0da69c712",
       "version_major": 2,
       "version_minor": 0
      },
      "text/plain": [
       "Validation: |          | 0/? [00:00<?, ?it/s]"
      ]
     },
     "metadata": {},
     "output_type": "display_data"
    },
    {
     "data": {
      "application/vnd.jupyter.widget-view+json": {
       "model_id": "c353eeb72cc84916b232894b753eb638",
       "version_major": 2,
       "version_minor": 0
      },
      "text/plain": [
       "Validation: |          | 0/? [00:00<?, ?it/s]"
      ]
     },
     "metadata": {},
     "output_type": "display_data"
    },
    {
     "name": "stderr",
     "output_type": "stream",
     "text": [
      "`Trainer.fit` stopped: `max_epochs=20` reached.\n",
      "GPU available: True (cuda), used: True\n",
      "TPU available: False, using: 0 TPU cores\n",
      "HPU available: False, using: 0 HPUs\n",
      "LOCAL_RANK: 0 - CUDA_VISIBLE_DEVICES: [0]\n",
      "\n",
      "  | Name     | Type             | Params | Mode \n",
      "------------------------------------------------------\n",
      "0 | backbone | ResNet           | 11.2 M | train\n",
      "1 | fc       | Sequential       | 267 K  | train\n",
      "2 | loss_fn  | CrossEntropyLoss | 0      | train\n",
      "------------------------------------------------------\n",
      "11.4 M    Trainable params\n",
      "0         Non-trainable params\n",
      "11.4 M    Total params\n",
      "45.777    Total estimated model params size (MB)\n",
      "73        Modules in train mode\n",
      "0         Modules in eval mode\n"
     ]
    },
    {
     "name": "stdout",
     "output_type": "stream",
     "text": [
      "-----------------------------------\n",
      "Training stats\n",
      "  - Avg time to train models: 83.77 seconds \n",
      "  - Total # models  : 9 model(s)\n",
      "  - Models trained  : 1 model(s) in 83.77 seconds\n",
      "  - Remaining models: 8 model(s). 670.1522815600038 s remaining (Estimative)\n",
      "  - Total time      : 753.9213167550042 seconds (estimate: avg * # models)\n",
      "***********************************\n",
      " Training model Pretrained_ImageNet/ft_20_ep/v_0\n",
      "***********************************\n"
     ]
    },
    {
     "data": {
      "application/vnd.jupyter.widget-view+json": {
       "model_id": "d1287a29e4f54f618ff8f1da41101113",
       "version_major": 2,
       "version_minor": 0
      },
      "text/plain": [
       "Sanity Checking: |          | 0/? [00:00<?, ?it/s]"
      ]
     },
     "metadata": {},
     "output_type": "display_data"
    },
    {
     "data": {
      "application/vnd.jupyter.widget-view+json": {
       "model_id": "6ff0e2a6a999402aa0c948500de97724",
       "version_major": 2,
       "version_minor": 0
      },
      "text/plain": [
       "Training: |          | 0/? [00:00<?, ?it/s]"
      ]
     },
     "metadata": {},
     "output_type": "display_data"
    },
    {
     "data": {
      "application/vnd.jupyter.widget-view+json": {
       "model_id": "6ed79cbf84ac4dc184847e7ef8bcccef",
       "version_major": 2,
       "version_minor": 0
      },
      "text/plain": [
       "Validation: |          | 0/? [00:00<?, ?it/s]"
      ]
     },
     "metadata": {},
     "output_type": "display_data"
    },
    {
     "data": {
      "application/vnd.jupyter.widget-view+json": {
       "model_id": "5f4f63768df54dc180169f0a0d6cd142",
       "version_major": 2,
       "version_minor": 0
      },
      "text/plain": [
       "Validation: |          | 0/? [00:00<?, ?it/s]"
      ]
     },
     "metadata": {},
     "output_type": "display_data"
    },
    {
     "data": {
      "application/vnd.jupyter.widget-view+json": {
       "model_id": "793b6f05d01a481a8f72b85bfe1dfb7c",
       "version_major": 2,
       "version_minor": 0
      },
      "text/plain": [
       "Validation: |          | 0/? [00:00<?, ?it/s]"
      ]
     },
     "metadata": {},
     "output_type": "display_data"
    },
    {
     "data": {
      "application/vnd.jupyter.widget-view+json": {
       "model_id": "d992713e342f42c2bdcc4d35a1582e39",
       "version_major": 2,
       "version_minor": 0
      },
      "text/plain": [
       "Validation: |          | 0/? [00:00<?, ?it/s]"
      ]
     },
     "metadata": {},
     "output_type": "display_data"
    },
    {
     "data": {
      "application/vnd.jupyter.widget-view+json": {
       "model_id": "b87ab52967044518a509bbed74e2102c",
       "version_major": 2,
       "version_minor": 0
      },
      "text/plain": [
       "Validation: |          | 0/? [00:00<?, ?it/s]"
      ]
     },
     "metadata": {},
     "output_type": "display_data"
    },
    {
     "data": {
      "application/vnd.jupyter.widget-view+json": {
       "model_id": "84f00b1c13024aaf81b95c4b243ce892",
       "version_major": 2,
       "version_minor": 0
      },
      "text/plain": [
       "Validation: |          | 0/? [00:00<?, ?it/s]"
      ]
     },
     "metadata": {},
     "output_type": "display_data"
    },
    {
     "data": {
      "application/vnd.jupyter.widget-view+json": {
       "model_id": "184fc9f44a8a48339e16217f4812da6d",
       "version_major": 2,
       "version_minor": 0
      },
      "text/plain": [
       "Validation: |          | 0/? [00:00<?, ?it/s]"
      ]
     },
     "metadata": {},
     "output_type": "display_data"
    },
    {
     "data": {
      "application/vnd.jupyter.widget-view+json": {
       "model_id": "93515e86ec5446fdaaacd5efb9af2a3c",
       "version_major": 2,
       "version_minor": 0
      },
      "text/plain": [
       "Validation: |          | 0/? [00:00<?, ?it/s]"
      ]
     },
     "metadata": {},
     "output_type": "display_data"
    },
    {
     "data": {
      "application/vnd.jupyter.widget-view+json": {
       "model_id": "39aad432cb184674a34175716d84a229",
       "version_major": 2,
       "version_minor": 0
      },
      "text/plain": [
       "Validation: |          | 0/? [00:00<?, ?it/s]"
      ]
     },
     "metadata": {},
     "output_type": "display_data"
    },
    {
     "data": {
      "application/vnd.jupyter.widget-view+json": {
       "model_id": "99c7b29e7f2348f79e0a94d218596028",
       "version_major": 2,
       "version_minor": 0
      },
      "text/plain": [
       "Validation: |          | 0/? [00:00<?, ?it/s]"
      ]
     },
     "metadata": {},
     "output_type": "display_data"
    },
    {
     "data": {
      "application/vnd.jupyter.widget-view+json": {
       "model_id": "40cd8cd95bc24c0da7dce8a7d64abc83",
       "version_major": 2,
       "version_minor": 0
      },
      "text/plain": [
       "Validation: |          | 0/? [00:00<?, ?it/s]"
      ]
     },
     "metadata": {},
     "output_type": "display_data"
    },
    {
     "data": {
      "application/vnd.jupyter.widget-view+json": {
       "model_id": "5942efc03fd741758bd10441017b513e",
       "version_major": 2,
       "version_minor": 0
      },
      "text/plain": [
       "Validation: |          | 0/? [00:00<?, ?it/s]"
      ]
     },
     "metadata": {},
     "output_type": "display_data"
    },
    {
     "data": {
      "application/vnd.jupyter.widget-view+json": {
       "model_id": "f7c4db065ce947dbb8fab02c499df320",
       "version_major": 2,
       "version_minor": 0
      },
      "text/plain": [
       "Validation: |          | 0/? [00:00<?, ?it/s]"
      ]
     },
     "metadata": {},
     "output_type": "display_data"
    },
    {
     "data": {
      "application/vnd.jupyter.widget-view+json": {
       "model_id": "afa3e3ce965f441abf9b788d9101d191",
       "version_major": 2,
       "version_minor": 0
      },
      "text/plain": [
       "Validation: |          | 0/? [00:00<?, ?it/s]"
      ]
     },
     "metadata": {},
     "output_type": "display_data"
    },
    {
     "data": {
      "application/vnd.jupyter.widget-view+json": {
       "model_id": "7330490b916b4936900827876bfc1b55",
       "version_major": 2,
       "version_minor": 0
      },
      "text/plain": [
       "Validation: |          | 0/? [00:00<?, ?it/s]"
      ]
     },
     "metadata": {},
     "output_type": "display_data"
    },
    {
     "data": {
      "application/vnd.jupyter.widget-view+json": {
       "model_id": "0cca864116784c0eac0b409597bb95ee",
       "version_major": 2,
       "version_minor": 0
      },
      "text/plain": [
       "Validation: |          | 0/? [00:00<?, ?it/s]"
      ]
     },
     "metadata": {},
     "output_type": "display_data"
    },
    {
     "data": {
      "application/vnd.jupyter.widget-view+json": {
       "model_id": "aadd18560c304d7b9ec993a6ee336e62",
       "version_major": 2,
       "version_minor": 0
      },
      "text/plain": [
       "Validation: |          | 0/? [00:00<?, ?it/s]"
      ]
     },
     "metadata": {},
     "output_type": "display_data"
    },
    {
     "data": {
      "application/vnd.jupyter.widget-view+json": {
       "model_id": "06cab3a013df4ca5a861d46edfb8406d",
       "version_major": 2,
       "version_minor": 0
      },
      "text/plain": [
       "Validation: |          | 0/? [00:00<?, ?it/s]"
      ]
     },
     "metadata": {},
     "output_type": "display_data"
    },
    {
     "data": {
      "application/vnd.jupyter.widget-view+json": {
       "model_id": "69d32ce756b84d3a81e8a8250bf16d04",
       "version_major": 2,
       "version_minor": 0
      },
      "text/plain": [
       "Validation: |          | 0/? [00:00<?, ?it/s]"
      ]
     },
     "metadata": {},
     "output_type": "display_data"
    },
    {
     "data": {
      "application/vnd.jupyter.widget-view+json": {
       "model_id": "befcca3e72ca4d51ac652aa2f0a57c49",
       "version_major": 2,
       "version_minor": 0
      },
      "text/plain": [
       "Validation: |          | 0/? [00:00<?, ?it/s]"
      ]
     },
     "metadata": {},
     "output_type": "display_data"
    },
    {
     "name": "stderr",
     "output_type": "stream",
     "text": [
      "`Trainer.fit` stopped: `max_epochs=20` reached.\n",
      "GPU available: True (cuda), used: True\n",
      "TPU available: False, using: 0 TPU cores\n",
      "HPU available: False, using: 0 HPUs\n",
      "LOCAL_RANK: 0 - CUDA_VISIBLE_DEVICES: [0]\n",
      "\n",
      "  | Name     | Type             | Params | Mode \n",
      "------------------------------------------------------\n",
      "0 | backbone | ResNet           | 11.2 M | train\n",
      "1 | fc       | Sequential       | 267 K  | train\n",
      "2 | loss_fn  | CrossEntropyLoss | 0      | train\n",
      "------------------------------------------------------\n",
      "11.4 M    Trainable params\n",
      "0         Non-trainable params\n",
      "11.4 M    Total params\n",
      "45.777    Total estimated model params size (MB)\n",
      "73        Modules in train mode\n",
      "0         Modules in eval mode\n"
     ]
    },
    {
     "name": "stdout",
     "output_type": "stream",
     "text": [
      "-----------------------------------\n",
      "Training stats\n",
      "  - Avg time to train models: 80.89 seconds \n",
      "  - Total # models  : 9 model(s)\n",
      "  - Models trained  : 2 model(s) in 161.78 seconds\n",
      "  - Remaining models: 7 model(s). 566.2378528591362 s remaining (Estimative)\n",
      "  - Total time      : 728.0200965331751 seconds (estimate: avg * # models)\n",
      "***********************************\n",
      " Training model Pretrained_SimCLR-epoch_99/ft_20_ep/v_0\n",
      "***********************************\n"
     ]
    },
    {
     "data": {
      "application/vnd.jupyter.widget-view+json": {
       "model_id": "2396ad834d084131ad24994fb5254774",
       "version_major": 2,
       "version_minor": 0
      },
      "text/plain": [
       "Sanity Checking: |          | 0/? [00:00<?, ?it/s]"
      ]
     },
     "metadata": {},
     "output_type": "display_data"
    },
    {
     "data": {
      "application/vnd.jupyter.widget-view+json": {
       "model_id": "cb022dc16b734698abfab1567bb7cba1",
       "version_major": 2,
       "version_minor": 0
      },
      "text/plain": [
       "Training: |          | 0/? [00:00<?, ?it/s]"
      ]
     },
     "metadata": {},
     "output_type": "display_data"
    },
    {
     "data": {
      "application/vnd.jupyter.widget-view+json": {
       "model_id": "e110d987ea91498e98685cd51910f723",
       "version_major": 2,
       "version_minor": 0
      },
      "text/plain": [
       "Validation: |          | 0/? [00:00<?, ?it/s]"
      ]
     },
     "metadata": {},
     "output_type": "display_data"
    },
    {
     "data": {
      "application/vnd.jupyter.widget-view+json": {
       "model_id": "7ffac274e8c746a8ac58340ce5f46ff3",
       "version_major": 2,
       "version_minor": 0
      },
      "text/plain": [
       "Validation: |          | 0/? [00:00<?, ?it/s]"
      ]
     },
     "metadata": {},
     "output_type": "display_data"
    },
    {
     "data": {
      "application/vnd.jupyter.widget-view+json": {
       "model_id": "382b1083db784eaf9b7fedafb0d11910",
       "version_major": 2,
       "version_minor": 0
      },
      "text/plain": [
       "Validation: |          | 0/? [00:00<?, ?it/s]"
      ]
     },
     "metadata": {},
     "output_type": "display_data"
    },
    {
     "data": {
      "application/vnd.jupyter.widget-view+json": {
       "model_id": "51ba7ee6ad1947dfb8107da4e6ad528d",
       "version_major": 2,
       "version_minor": 0
      },
      "text/plain": [
       "Validation: |          | 0/? [00:00<?, ?it/s]"
      ]
     },
     "metadata": {},
     "output_type": "display_data"
    },
    {
     "data": {
      "application/vnd.jupyter.widget-view+json": {
       "model_id": "b220a88d68d4405ba6d72ddf40078261",
       "version_major": 2,
       "version_minor": 0
      },
      "text/plain": [
       "Validation: |          | 0/? [00:00<?, ?it/s]"
      ]
     },
     "metadata": {},
     "output_type": "display_data"
    },
    {
     "data": {
      "application/vnd.jupyter.widget-view+json": {
       "model_id": "d2466f86c03b41c389b82b67fa2e714f",
       "version_major": 2,
       "version_minor": 0
      },
      "text/plain": [
       "Validation: |          | 0/? [00:00<?, ?it/s]"
      ]
     },
     "metadata": {},
     "output_type": "display_data"
    },
    {
     "data": {
      "application/vnd.jupyter.widget-view+json": {
       "model_id": "b3e54e1246ef4acb81b0d28fd57ba138",
       "version_major": 2,
       "version_minor": 0
      },
      "text/plain": [
       "Validation: |          | 0/? [00:00<?, ?it/s]"
      ]
     },
     "metadata": {},
     "output_type": "display_data"
    },
    {
     "data": {
      "application/vnd.jupyter.widget-view+json": {
       "model_id": "f2f515ec9be14d00b0c826055325ceee",
       "version_major": 2,
       "version_minor": 0
      },
      "text/plain": [
       "Validation: |          | 0/? [00:00<?, ?it/s]"
      ]
     },
     "metadata": {},
     "output_type": "display_data"
    },
    {
     "data": {
      "application/vnd.jupyter.widget-view+json": {
       "model_id": "8b4372fcb71c4aa49e0586d50ffa2595",
       "version_major": 2,
       "version_minor": 0
      },
      "text/plain": [
       "Validation: |          | 0/? [00:00<?, ?it/s]"
      ]
     },
     "metadata": {},
     "output_type": "display_data"
    },
    {
     "data": {
      "application/vnd.jupyter.widget-view+json": {
       "model_id": "eeab065ceb444387a7550e369172d0a5",
       "version_major": 2,
       "version_minor": 0
      },
      "text/plain": [
       "Validation: |          | 0/? [00:00<?, ?it/s]"
      ]
     },
     "metadata": {},
     "output_type": "display_data"
    },
    {
     "data": {
      "application/vnd.jupyter.widget-view+json": {
       "model_id": "70e9cf87ed014d7ba26f37e73920c4df",
       "version_major": 2,
       "version_minor": 0
      },
      "text/plain": [
       "Validation: |          | 0/? [00:00<?, ?it/s]"
      ]
     },
     "metadata": {},
     "output_type": "display_data"
    },
    {
     "data": {
      "application/vnd.jupyter.widget-view+json": {
       "model_id": "8be8412d0a734eabad420f42df9d7722",
       "version_major": 2,
       "version_minor": 0
      },
      "text/plain": [
       "Validation: |          | 0/? [00:00<?, ?it/s]"
      ]
     },
     "metadata": {},
     "output_type": "display_data"
    },
    {
     "data": {
      "application/vnd.jupyter.widget-view+json": {
       "model_id": "89e5625625144f75957d3e54b1b83df1",
       "version_major": 2,
       "version_minor": 0
      },
      "text/plain": [
       "Validation: |          | 0/? [00:00<?, ?it/s]"
      ]
     },
     "metadata": {},
     "output_type": "display_data"
    },
    {
     "data": {
      "application/vnd.jupyter.widget-view+json": {
       "model_id": "007acf24921548eab15c912144b276ae",
       "version_major": 2,
       "version_minor": 0
      },
      "text/plain": [
       "Validation: |          | 0/? [00:00<?, ?it/s]"
      ]
     },
     "metadata": {},
     "output_type": "display_data"
    },
    {
     "data": {
      "application/vnd.jupyter.widget-view+json": {
       "model_id": "0aa25f3abb144a7295040cd231021906",
       "version_major": 2,
       "version_minor": 0
      },
      "text/plain": [
       "Validation: |          | 0/? [00:00<?, ?it/s]"
      ]
     },
     "metadata": {},
     "output_type": "display_data"
    },
    {
     "data": {
      "application/vnd.jupyter.widget-view+json": {
       "model_id": "4510993755e344eea9578d0fb51ede81",
       "version_major": 2,
       "version_minor": 0
      },
      "text/plain": [
       "Validation: |          | 0/? [00:00<?, ?it/s]"
      ]
     },
     "metadata": {},
     "output_type": "display_data"
    },
    {
     "data": {
      "application/vnd.jupyter.widget-view+json": {
       "model_id": "d0c12e8910fe44538bd57cfc9f3806af",
       "version_major": 2,
       "version_minor": 0
      },
      "text/plain": [
       "Validation: |          | 0/? [00:00<?, ?it/s]"
      ]
     },
     "metadata": {},
     "output_type": "display_data"
    },
    {
     "data": {
      "application/vnd.jupyter.widget-view+json": {
       "model_id": "7cb84caaea9d4587a629b9f7dd9472c3",
       "version_major": 2,
       "version_minor": 0
      },
      "text/plain": [
       "Validation: |          | 0/? [00:00<?, ?it/s]"
      ]
     },
     "metadata": {},
     "output_type": "display_data"
    },
    {
     "data": {
      "application/vnd.jupyter.widget-view+json": {
       "model_id": "1c91cd7d2d6b4feabd2b328ab9d23ca5",
       "version_major": 2,
       "version_minor": 0
      },
      "text/plain": [
       "Validation: |          | 0/? [00:00<?, ?it/s]"
      ]
     },
     "metadata": {},
     "output_type": "display_data"
    },
    {
     "data": {
      "application/vnd.jupyter.widget-view+json": {
       "model_id": "aedde01868194ade8687ce79054f8edd",
       "version_major": 2,
       "version_minor": 0
      },
      "text/plain": [
       "Validation: |          | 0/? [00:00<?, ?it/s]"
      ]
     },
     "metadata": {},
     "output_type": "display_data"
    },
    {
     "name": "stderr",
     "output_type": "stream",
     "text": [
      "`Trainer.fit` stopped: `max_epochs=20` reached.\n",
      "GPU available: True (cuda), used: True\n",
      "TPU available: False, using: 0 TPU cores\n",
      "HPU available: False, using: 0 HPUs\n",
      "LOCAL_RANK: 0 - CUDA_VISIBLE_DEVICES: [0]\n",
      "\n",
      "  | Name     | Type             | Params | Mode \n",
      "------------------------------------------------------\n",
      "0 | backbone | ResNet           | 11.2 M | train\n",
      "1 | fc       | Sequential       | 267 K  | train\n",
      "2 | loss_fn  | CrossEntropyLoss | 0      | train\n",
      "------------------------------------------------------\n",
      "11.4 M    Trainable params\n",
      "0         Non-trainable params\n",
      "11.4 M    Total params\n",
      "45.777    Total estimated model params size (MB)\n",
      "73        Modules in train mode\n",
      "0         Modules in eval mode\n"
     ]
    },
    {
     "name": "stdout",
     "output_type": "stream",
     "text": [
      "-----------------------------------\n",
      "Training stats\n",
      "  - Avg time to train models: 79.78 seconds \n",
      "  - Total # models  : 9 model(s)\n",
      "  - Models trained  : 3 model(s) in 239.34 seconds\n",
      "  - Remaining models: 6 model(s). 478.68911904806737 s remaining (Estimative)\n",
      "  - Total time      : 718.033678572101 seconds (estimate: avg * # models)\n",
      "***********************************\n",
      " Training model From_Scratch/ft_20_ep/v_1\n",
      "***********************************\n"
     ]
    },
    {
     "data": {
      "application/vnd.jupyter.widget-view+json": {
       "model_id": "3a734891fc7046e085816ae2bacc43b3",
       "version_major": 2,
       "version_minor": 0
      },
      "text/plain": [
       "Sanity Checking: |          | 0/? [00:00<?, ?it/s]"
      ]
     },
     "metadata": {},
     "output_type": "display_data"
    },
    {
     "data": {
      "application/vnd.jupyter.widget-view+json": {
       "model_id": "e158a73b80064e52aee150dac3e5c3d9",
       "version_major": 2,
       "version_minor": 0
      },
      "text/plain": [
       "Training: |          | 0/? [00:00<?, ?it/s]"
      ]
     },
     "metadata": {},
     "output_type": "display_data"
    },
    {
     "data": {
      "application/vnd.jupyter.widget-view+json": {
       "model_id": "3224439c9f99494f84e6ff2d3e8a917a",
       "version_major": 2,
       "version_minor": 0
      },
      "text/plain": [
       "Validation: |          | 0/? [00:00<?, ?it/s]"
      ]
     },
     "metadata": {},
     "output_type": "display_data"
    },
    {
     "data": {
      "application/vnd.jupyter.widget-view+json": {
       "model_id": "27abcb5e41584499a4a75f416f282678",
       "version_major": 2,
       "version_minor": 0
      },
      "text/plain": [
       "Validation: |          | 0/? [00:00<?, ?it/s]"
      ]
     },
     "metadata": {},
     "output_type": "display_data"
    },
    {
     "data": {
      "application/vnd.jupyter.widget-view+json": {
       "model_id": "17e0173544ad4d2fab0043038f590693",
       "version_major": 2,
       "version_minor": 0
      },
      "text/plain": [
       "Validation: |          | 0/? [00:00<?, ?it/s]"
      ]
     },
     "metadata": {},
     "output_type": "display_data"
    },
    {
     "data": {
      "application/vnd.jupyter.widget-view+json": {
       "model_id": "7253ec63eeb84ce39e2a6ed071abf481",
       "version_major": 2,
       "version_minor": 0
      },
      "text/plain": [
       "Validation: |          | 0/? [00:00<?, ?it/s]"
      ]
     },
     "metadata": {},
     "output_type": "display_data"
    },
    {
     "data": {
      "application/vnd.jupyter.widget-view+json": {
       "model_id": "ab8396baf7c74a25b587fefa85f0aed9",
       "version_major": 2,
       "version_minor": 0
      },
      "text/plain": [
       "Validation: |          | 0/? [00:00<?, ?it/s]"
      ]
     },
     "metadata": {},
     "output_type": "display_data"
    },
    {
     "data": {
      "application/vnd.jupyter.widget-view+json": {
       "model_id": "19e3cc90bffc4b0ea76020930782feef",
       "version_major": 2,
       "version_minor": 0
      },
      "text/plain": [
       "Validation: |          | 0/? [00:00<?, ?it/s]"
      ]
     },
     "metadata": {},
     "output_type": "display_data"
    },
    {
     "data": {
      "application/vnd.jupyter.widget-view+json": {
       "model_id": "494a2bb6a8e24384a1118f8133654f76",
       "version_major": 2,
       "version_minor": 0
      },
      "text/plain": [
       "Validation: |          | 0/? [00:00<?, ?it/s]"
      ]
     },
     "metadata": {},
     "output_type": "display_data"
    },
    {
     "data": {
      "application/vnd.jupyter.widget-view+json": {
       "model_id": "1d48c3cb6b1e41c8af7ca2f86190a6d1",
       "version_major": 2,
       "version_minor": 0
      },
      "text/plain": [
       "Validation: |          | 0/? [00:00<?, ?it/s]"
      ]
     },
     "metadata": {},
     "output_type": "display_data"
    },
    {
     "data": {
      "application/vnd.jupyter.widget-view+json": {
       "model_id": "afb007aef38d474698f5159fc2eaa63d",
       "version_major": 2,
       "version_minor": 0
      },
      "text/plain": [
       "Validation: |          | 0/? [00:00<?, ?it/s]"
      ]
     },
     "metadata": {},
     "output_type": "display_data"
    },
    {
     "data": {
      "application/vnd.jupyter.widget-view+json": {
       "model_id": "8c97de3c283e4d81950e35521784e778",
       "version_major": 2,
       "version_minor": 0
      },
      "text/plain": [
       "Validation: |          | 0/? [00:00<?, ?it/s]"
      ]
     },
     "metadata": {},
     "output_type": "display_data"
    },
    {
     "data": {
      "application/vnd.jupyter.widget-view+json": {
       "model_id": "930e6e61d83d4c9485fa22d4e6e63ca9",
       "version_major": 2,
       "version_minor": 0
      },
      "text/plain": [
       "Validation: |          | 0/? [00:00<?, ?it/s]"
      ]
     },
     "metadata": {},
     "output_type": "display_data"
    },
    {
     "data": {
      "application/vnd.jupyter.widget-view+json": {
       "model_id": "15a8ecd05820402f83b3f7f4f97a5d34",
       "version_major": 2,
       "version_minor": 0
      },
      "text/plain": [
       "Validation: |          | 0/? [00:00<?, ?it/s]"
      ]
     },
     "metadata": {},
     "output_type": "display_data"
    },
    {
     "data": {
      "application/vnd.jupyter.widget-view+json": {
       "model_id": "dffaddb5ccde4d9f99adf90f8605d63c",
       "version_major": 2,
       "version_minor": 0
      },
      "text/plain": [
       "Validation: |          | 0/? [00:00<?, ?it/s]"
      ]
     },
     "metadata": {},
     "output_type": "display_data"
    },
    {
     "data": {
      "application/vnd.jupyter.widget-view+json": {
       "model_id": "783d4ed41015470ab29b16a64f44a79b",
       "version_major": 2,
       "version_minor": 0
      },
      "text/plain": [
       "Validation: |          | 0/? [00:00<?, ?it/s]"
      ]
     },
     "metadata": {},
     "output_type": "display_data"
    },
    {
     "data": {
      "application/vnd.jupyter.widget-view+json": {
       "model_id": "7e8cad6bbbc94fbfb550989d78b53d48",
       "version_major": 2,
       "version_minor": 0
      },
      "text/plain": [
       "Validation: |          | 0/? [00:00<?, ?it/s]"
      ]
     },
     "metadata": {},
     "output_type": "display_data"
    },
    {
     "data": {
      "application/vnd.jupyter.widget-view+json": {
       "model_id": "f83b8c243b1a465bb57c91a00afafff9",
       "version_major": 2,
       "version_minor": 0
      },
      "text/plain": [
       "Validation: |          | 0/? [00:00<?, ?it/s]"
      ]
     },
     "metadata": {},
     "output_type": "display_data"
    },
    {
     "data": {
      "application/vnd.jupyter.widget-view+json": {
       "model_id": "4ea51e4a3a714dafb60def895748928d",
       "version_major": 2,
       "version_minor": 0
      },
      "text/plain": [
       "Validation: |          | 0/? [00:00<?, ?it/s]"
      ]
     },
     "metadata": {},
     "output_type": "display_data"
    },
    {
     "data": {
      "application/vnd.jupyter.widget-view+json": {
       "model_id": "0f39fff964014e878d3dbbb148c7e607",
       "version_major": 2,
       "version_minor": 0
      },
      "text/plain": [
       "Validation: |          | 0/? [00:00<?, ?it/s]"
      ]
     },
     "metadata": {},
     "output_type": "display_data"
    },
    {
     "data": {
      "application/vnd.jupyter.widget-view+json": {
       "model_id": "3d896ac04e944038b9410a0b0bb3addb",
       "version_major": 2,
       "version_minor": 0
      },
      "text/plain": [
       "Validation: |          | 0/? [00:00<?, ?it/s]"
      ]
     },
     "metadata": {},
     "output_type": "display_data"
    },
    {
     "data": {
      "application/vnd.jupyter.widget-view+json": {
       "model_id": "f7ab448ec31d4659ac6e59977b717db2",
       "version_major": 2,
       "version_minor": 0
      },
      "text/plain": [
       "Validation: |          | 0/? [00:00<?, ?it/s]"
      ]
     },
     "metadata": {},
     "output_type": "display_data"
    },
    {
     "name": "stderr",
     "output_type": "stream",
     "text": [
      "`Trainer.fit` stopped: `max_epochs=20` reached.\n",
      "GPU available: True (cuda), used: True\n",
      "TPU available: False, using: 0 TPU cores\n",
      "HPU available: False, using: 0 HPUs\n",
      "LOCAL_RANK: 0 - CUDA_VISIBLE_DEVICES: [0]\n",
      "\n",
      "  | Name     | Type             | Params | Mode \n",
      "------------------------------------------------------\n",
      "0 | backbone | ResNet           | 11.2 M | train\n",
      "1 | fc       | Sequential       | 267 K  | train\n",
      "2 | loss_fn  | CrossEntropyLoss | 0      | train\n",
      "------------------------------------------------------\n",
      "11.4 M    Trainable params\n",
      "0         Non-trainable params\n",
      "11.4 M    Total params\n",
      "45.777    Total estimated model params size (MB)\n",
      "73        Modules in train mode\n",
      "0         Modules in eval mode\n"
     ]
    },
    {
     "name": "stdout",
     "output_type": "stream",
     "text": [
      "-----------------------------------\n",
      "Training stats\n",
      "  - Avg time to train models: 81.67 seconds \n",
      "  - Total # models  : 9 model(s)\n",
      "  - Models trained  : 4 model(s) in 326.69 seconds\n",
      "  - Remaining models: 5 model(s). 408.3599701074854 s remaining (Estimative)\n",
      "  - Total time      : 735.0479461934738 seconds (estimate: avg * # models)\n",
      "***********************************\n",
      " Training model Pretrained_ImageNet/ft_20_ep/v_1\n",
      "***********************************\n"
     ]
    },
    {
     "data": {
      "application/vnd.jupyter.widget-view+json": {
       "model_id": "71e0db8ed44b466595bb58fe6ddf7021",
       "version_major": 2,
       "version_minor": 0
      },
      "text/plain": [
       "Sanity Checking: |          | 0/? [00:00<?, ?it/s]"
      ]
     },
     "metadata": {},
     "output_type": "display_data"
    },
    {
     "data": {
      "application/vnd.jupyter.widget-view+json": {
       "model_id": "fd2e71bd49c04b8db2a112a548d16b76",
       "version_major": 2,
       "version_minor": 0
      },
      "text/plain": [
       "Training: |          | 0/? [00:00<?, ?it/s]"
      ]
     },
     "metadata": {},
     "output_type": "display_data"
    },
    {
     "data": {
      "application/vnd.jupyter.widget-view+json": {
       "model_id": "c94d23c27cdb422e927d3525f6930c36",
       "version_major": 2,
       "version_minor": 0
      },
      "text/plain": [
       "Validation: |          | 0/? [00:00<?, ?it/s]"
      ]
     },
     "metadata": {},
     "output_type": "display_data"
    },
    {
     "data": {
      "application/vnd.jupyter.widget-view+json": {
       "model_id": "82aa41aba1c64ee9bf321e0d632c14d8",
       "version_major": 2,
       "version_minor": 0
      },
      "text/plain": [
       "Validation: |          | 0/? [00:00<?, ?it/s]"
      ]
     },
     "metadata": {},
     "output_type": "display_data"
    },
    {
     "data": {
      "application/vnd.jupyter.widget-view+json": {
       "model_id": "1cdaa8ecb6e6455c97905acbae2df62b",
       "version_major": 2,
       "version_minor": 0
      },
      "text/plain": [
       "Validation: |          | 0/? [00:00<?, ?it/s]"
      ]
     },
     "metadata": {},
     "output_type": "display_data"
    },
    {
     "data": {
      "application/vnd.jupyter.widget-view+json": {
       "model_id": "93783fb918d9415ba882226a6be0bc13",
       "version_major": 2,
       "version_minor": 0
      },
      "text/plain": [
       "Validation: |          | 0/? [00:00<?, ?it/s]"
      ]
     },
     "metadata": {},
     "output_type": "display_data"
    },
    {
     "data": {
      "application/vnd.jupyter.widget-view+json": {
       "model_id": "19d3247f75874c789a682327dc09cc1d",
       "version_major": 2,
       "version_minor": 0
      },
      "text/plain": [
       "Validation: |          | 0/? [00:00<?, ?it/s]"
      ]
     },
     "metadata": {},
     "output_type": "display_data"
    },
    {
     "data": {
      "application/vnd.jupyter.widget-view+json": {
       "model_id": "53209930776d497099a74d1317083a4c",
       "version_major": 2,
       "version_minor": 0
      },
      "text/plain": [
       "Validation: |          | 0/? [00:00<?, ?it/s]"
      ]
     },
     "metadata": {},
     "output_type": "display_data"
    },
    {
     "data": {
      "application/vnd.jupyter.widget-view+json": {
       "model_id": "23b783a3673f4682ad4386ae5fcc2b73",
       "version_major": 2,
       "version_minor": 0
      },
      "text/plain": [
       "Validation: |          | 0/? [00:00<?, ?it/s]"
      ]
     },
     "metadata": {},
     "output_type": "display_data"
    },
    {
     "data": {
      "application/vnd.jupyter.widget-view+json": {
       "model_id": "c4c791c9e2a04e558fc36a7adc4aae94",
       "version_major": 2,
       "version_minor": 0
      },
      "text/plain": [
       "Validation: |          | 0/? [00:00<?, ?it/s]"
      ]
     },
     "metadata": {},
     "output_type": "display_data"
    },
    {
     "data": {
      "application/vnd.jupyter.widget-view+json": {
       "model_id": "aeebd9d864404f8986e62b62a50790b5",
       "version_major": 2,
       "version_minor": 0
      },
      "text/plain": [
       "Validation: |          | 0/? [00:00<?, ?it/s]"
      ]
     },
     "metadata": {},
     "output_type": "display_data"
    },
    {
     "data": {
      "application/vnd.jupyter.widget-view+json": {
       "model_id": "8127c6020eea4e82ad75cdefa2776c80",
       "version_major": 2,
       "version_minor": 0
      },
      "text/plain": [
       "Validation: |          | 0/? [00:00<?, ?it/s]"
      ]
     },
     "metadata": {},
     "output_type": "display_data"
    },
    {
     "data": {
      "application/vnd.jupyter.widget-view+json": {
       "model_id": "cd39b32a314f4853b7ead0f656f3e025",
       "version_major": 2,
       "version_minor": 0
      },
      "text/plain": [
       "Validation: |          | 0/? [00:00<?, ?it/s]"
      ]
     },
     "metadata": {},
     "output_type": "display_data"
    },
    {
     "data": {
      "application/vnd.jupyter.widget-view+json": {
       "model_id": "1871eb52778e4abdbd896b387b84917f",
       "version_major": 2,
       "version_minor": 0
      },
      "text/plain": [
       "Validation: |          | 0/? [00:00<?, ?it/s]"
      ]
     },
     "metadata": {},
     "output_type": "display_data"
    },
    {
     "data": {
      "application/vnd.jupyter.widget-view+json": {
       "model_id": "a1a865ff3307438093f2cb8dd9aadce9",
       "version_major": 2,
       "version_minor": 0
      },
      "text/plain": [
       "Validation: |          | 0/? [00:00<?, ?it/s]"
      ]
     },
     "metadata": {},
     "output_type": "display_data"
    },
    {
     "data": {
      "application/vnd.jupyter.widget-view+json": {
       "model_id": "3ba464d559584909a4e8e506e7a7d499",
       "version_major": 2,
       "version_minor": 0
      },
      "text/plain": [
       "Validation: |          | 0/? [00:00<?, ?it/s]"
      ]
     },
     "metadata": {},
     "output_type": "display_data"
    },
    {
     "data": {
      "application/vnd.jupyter.widget-view+json": {
       "model_id": "bbe807dc5ae84d0eb657bedd82d711f5",
       "version_major": 2,
       "version_minor": 0
      },
      "text/plain": [
       "Validation: |          | 0/? [00:00<?, ?it/s]"
      ]
     },
     "metadata": {},
     "output_type": "display_data"
    },
    {
     "data": {
      "application/vnd.jupyter.widget-view+json": {
       "model_id": "3273a24e94be4f14a39f5e69c8bfa6f2",
       "version_major": 2,
       "version_minor": 0
      },
      "text/plain": [
       "Validation: |          | 0/? [00:00<?, ?it/s]"
      ]
     },
     "metadata": {},
     "output_type": "display_data"
    },
    {
     "data": {
      "application/vnd.jupyter.widget-view+json": {
       "model_id": "040c785c27404ed299e214022ae1c0e0",
       "version_major": 2,
       "version_minor": 0
      },
      "text/plain": [
       "Validation: |          | 0/? [00:00<?, ?it/s]"
      ]
     },
     "metadata": {},
     "output_type": "display_data"
    },
    {
     "data": {
      "application/vnd.jupyter.widget-view+json": {
       "model_id": "9da830bbfa8f4bb7a54a4e87fe5371a7",
       "version_major": 2,
       "version_minor": 0
      },
      "text/plain": [
       "Validation: |          | 0/? [00:00<?, ?it/s]"
      ]
     },
     "metadata": {},
     "output_type": "display_data"
    },
    {
     "data": {
      "application/vnd.jupyter.widget-view+json": {
       "model_id": "4666042aa153467eaea38a7f922d68dc",
       "version_major": 2,
       "version_minor": 0
      },
      "text/plain": [
       "Validation: |          | 0/? [00:00<?, ?it/s]"
      ]
     },
     "metadata": {},
     "output_type": "display_data"
    },
    {
     "data": {
      "application/vnd.jupyter.widget-view+json": {
       "model_id": "8d8d67190fbf45a98fd07b11a6db4b51",
       "version_major": 2,
       "version_minor": 0
      },
      "text/plain": [
       "Validation: |          | 0/? [00:00<?, ?it/s]"
      ]
     },
     "metadata": {},
     "output_type": "display_data"
    },
    {
     "name": "stderr",
     "output_type": "stream",
     "text": [
      "`Trainer.fit` stopped: `max_epochs=20` reached.\n",
      "GPU available: True (cuda), used: True\n",
      "TPU available: False, using: 0 TPU cores\n",
      "HPU available: False, using: 0 HPUs\n",
      "LOCAL_RANK: 0 - CUDA_VISIBLE_DEVICES: [0]\n",
      "\n",
      "  | Name     | Type             | Params | Mode \n",
      "------------------------------------------------------\n",
      "0 | backbone | ResNet           | 11.2 M | train\n",
      "1 | fc       | Sequential       | 267 K  | train\n",
      "2 | loss_fn  | CrossEntropyLoss | 0      | train\n",
      "------------------------------------------------------\n",
      "11.4 M    Trainable params\n",
      "0         Non-trainable params\n",
      "11.4 M    Total params\n",
      "45.777    Total estimated model params size (MB)\n",
      "73        Modules in train mode\n",
      "0         Modules in eval mode\n"
     ]
    },
    {
     "name": "stdout",
     "output_type": "stream",
     "text": [
      "-----------------------------------\n",
      "Training stats\n",
      "  - Avg time to train models: 82.40 seconds \n",
      "  - Total # models  : 9 model(s)\n",
      "  - Models trained  : 5 model(s) in 412.00 seconds\n",
      "  - Remaining models: 4 model(s). 329.6016731840092 s remaining (Estimative)\n",
      "  - Total time      : 741.6037646640208 seconds (estimate: avg * # models)\n",
      "***********************************\n",
      " Training model Pretrained_SimCLR-epoch_99/ft_20_ep/v_1\n",
      "***********************************\n"
     ]
    },
    {
     "data": {
      "application/vnd.jupyter.widget-view+json": {
       "model_id": "75a9f5fd87534a5bb91ee423f337cf4b",
       "version_major": 2,
       "version_minor": 0
      },
      "text/plain": [
       "Sanity Checking: |          | 0/? [00:00<?, ?it/s]"
      ]
     },
     "metadata": {},
     "output_type": "display_data"
    },
    {
     "data": {
      "application/vnd.jupyter.widget-view+json": {
       "model_id": "b653d373225a4ad79b8fba5ecf32f0c8",
       "version_major": 2,
       "version_minor": 0
      },
      "text/plain": [
       "Training: |          | 0/? [00:00<?, ?it/s]"
      ]
     },
     "metadata": {},
     "output_type": "display_data"
    },
    {
     "data": {
      "application/vnd.jupyter.widget-view+json": {
       "model_id": "8af281cee4954649a0fa1bff701ecc53",
       "version_major": 2,
       "version_minor": 0
      },
      "text/plain": [
       "Validation: |          | 0/? [00:00<?, ?it/s]"
      ]
     },
     "metadata": {},
     "output_type": "display_data"
    },
    {
     "data": {
      "application/vnd.jupyter.widget-view+json": {
       "model_id": "5a15b602b4734a9f833b4b5881e27f94",
       "version_major": 2,
       "version_minor": 0
      },
      "text/plain": [
       "Validation: |          | 0/? [00:00<?, ?it/s]"
      ]
     },
     "metadata": {},
     "output_type": "display_data"
    },
    {
     "data": {
      "application/vnd.jupyter.widget-view+json": {
       "model_id": "f2b18ed1c2f84eb9b4fd0be99b4b2aac",
       "version_major": 2,
       "version_minor": 0
      },
      "text/plain": [
       "Validation: |          | 0/? [00:00<?, ?it/s]"
      ]
     },
     "metadata": {},
     "output_type": "display_data"
    },
    {
     "data": {
      "application/vnd.jupyter.widget-view+json": {
       "model_id": "c1eb14cbcfe341329c480998b4be8231",
       "version_major": 2,
       "version_minor": 0
      },
      "text/plain": [
       "Validation: |          | 0/? [00:00<?, ?it/s]"
      ]
     },
     "metadata": {},
     "output_type": "display_data"
    },
    {
     "data": {
      "application/vnd.jupyter.widget-view+json": {
       "model_id": "ae257046eb8e48359b14586c63f29884",
       "version_major": 2,
       "version_minor": 0
      },
      "text/plain": [
       "Validation: |          | 0/? [00:00<?, ?it/s]"
      ]
     },
     "metadata": {},
     "output_type": "display_data"
    },
    {
     "data": {
      "application/vnd.jupyter.widget-view+json": {
       "model_id": "3a618960195b4bb6a6ab07966c50e8e9",
       "version_major": 2,
       "version_minor": 0
      },
      "text/plain": [
       "Validation: |          | 0/? [00:00<?, ?it/s]"
      ]
     },
     "metadata": {},
     "output_type": "display_data"
    },
    {
     "data": {
      "application/vnd.jupyter.widget-view+json": {
       "model_id": "f47c40e9fa7f47038313e5c2b5924a7a",
       "version_major": 2,
       "version_minor": 0
      },
      "text/plain": [
       "Validation: |          | 0/? [00:00<?, ?it/s]"
      ]
     },
     "metadata": {},
     "output_type": "display_data"
    },
    {
     "data": {
      "application/vnd.jupyter.widget-view+json": {
       "model_id": "4663c2d0dea74473a3138eb422fd4d62",
       "version_major": 2,
       "version_minor": 0
      },
      "text/plain": [
       "Validation: |          | 0/? [00:00<?, ?it/s]"
      ]
     },
     "metadata": {},
     "output_type": "display_data"
    },
    {
     "data": {
      "application/vnd.jupyter.widget-view+json": {
       "model_id": "a93d0a48610c4ed7bcaf47071250d424",
       "version_major": 2,
       "version_minor": 0
      },
      "text/plain": [
       "Validation: |          | 0/? [00:00<?, ?it/s]"
      ]
     },
     "metadata": {},
     "output_type": "display_data"
    },
    {
     "data": {
      "application/vnd.jupyter.widget-view+json": {
       "model_id": "da76e513b64d41e08158539242d54a6f",
       "version_major": 2,
       "version_minor": 0
      },
      "text/plain": [
       "Validation: |          | 0/? [00:00<?, ?it/s]"
      ]
     },
     "metadata": {},
     "output_type": "display_data"
    },
    {
     "data": {
      "application/vnd.jupyter.widget-view+json": {
       "model_id": "f3ea362552c04e2b9f1cf70f8afb8ee1",
       "version_major": 2,
       "version_minor": 0
      },
      "text/plain": [
       "Validation: |          | 0/? [00:00<?, ?it/s]"
      ]
     },
     "metadata": {},
     "output_type": "display_data"
    },
    {
     "data": {
      "application/vnd.jupyter.widget-view+json": {
       "model_id": "05ee3088a3a84216afe9bc54a74084b3",
       "version_major": 2,
       "version_minor": 0
      },
      "text/plain": [
       "Validation: |          | 0/? [00:00<?, ?it/s]"
      ]
     },
     "metadata": {},
     "output_type": "display_data"
    },
    {
     "data": {
      "application/vnd.jupyter.widget-view+json": {
       "model_id": "a7d88a8ce7b24725b58200d80b30bfaa",
       "version_major": 2,
       "version_minor": 0
      },
      "text/plain": [
       "Validation: |          | 0/? [00:00<?, ?it/s]"
      ]
     },
     "metadata": {},
     "output_type": "display_data"
    },
    {
     "data": {
      "application/vnd.jupyter.widget-view+json": {
       "model_id": "b2941481f88c4faca460ba3c8a5bd786",
       "version_major": 2,
       "version_minor": 0
      },
      "text/plain": [
       "Validation: |          | 0/? [00:00<?, ?it/s]"
      ]
     },
     "metadata": {},
     "output_type": "display_data"
    },
    {
     "data": {
      "application/vnd.jupyter.widget-view+json": {
       "model_id": "e2c130864f3b477385f0f8011ab964ba",
       "version_major": 2,
       "version_minor": 0
      },
      "text/plain": [
       "Validation: |          | 0/? [00:00<?, ?it/s]"
      ]
     },
     "metadata": {},
     "output_type": "display_data"
    },
    {
     "data": {
      "application/vnd.jupyter.widget-view+json": {
       "model_id": "cad193c5d8084bee8d9421618dd07864",
       "version_major": 2,
       "version_minor": 0
      },
      "text/plain": [
       "Validation: |          | 0/? [00:00<?, ?it/s]"
      ]
     },
     "metadata": {},
     "output_type": "display_data"
    },
    {
     "data": {
      "application/vnd.jupyter.widget-view+json": {
       "model_id": "ac6af927878f494da77021b57b4a1823",
       "version_major": 2,
       "version_minor": 0
      },
      "text/plain": [
       "Validation: |          | 0/? [00:00<?, ?it/s]"
      ]
     },
     "metadata": {},
     "output_type": "display_data"
    },
    {
     "data": {
      "application/vnd.jupyter.widget-view+json": {
       "model_id": "ca8ca8ebe88748a9ab23d1538f7c27b0",
       "version_major": 2,
       "version_minor": 0
      },
      "text/plain": [
       "Validation: |          | 0/? [00:00<?, ?it/s]"
      ]
     },
     "metadata": {},
     "output_type": "display_data"
    },
    {
     "data": {
      "application/vnd.jupyter.widget-view+json": {
       "model_id": "cb201c2e9903466c9bd99116a1179219",
       "version_major": 2,
       "version_minor": 0
      },
      "text/plain": [
       "Validation: |          | 0/? [00:00<?, ?it/s]"
      ]
     },
     "metadata": {},
     "output_type": "display_data"
    },
    {
     "data": {
      "application/vnd.jupyter.widget-view+json": {
       "model_id": "e3c9f5e914404340af6695a746001f43",
       "version_major": 2,
       "version_minor": 0
      },
      "text/plain": [
       "Validation: |          | 0/? [00:00<?, ?it/s]"
      ]
     },
     "metadata": {},
     "output_type": "display_data"
    },
    {
     "name": "stderr",
     "output_type": "stream",
     "text": [
      "`Trainer.fit` stopped: `max_epochs=20` reached.\n",
      "GPU available: True (cuda), used: True\n",
      "TPU available: False, using: 0 TPU cores\n",
      "HPU available: False, using: 0 HPUs\n",
      "LOCAL_RANK: 0 - CUDA_VISIBLE_DEVICES: [0]\n",
      "\n",
      "  | Name     | Type             | Params | Mode \n",
      "------------------------------------------------------\n",
      "0 | backbone | ResNet           | 11.2 M | train\n",
      "1 | fc       | Sequential       | 267 K  | train\n",
      "2 | loss_fn  | CrossEntropyLoss | 0      | train\n",
      "------------------------------------------------------\n",
      "11.4 M    Trainable params\n",
      "0         Non-trainable params\n",
      "11.4 M    Total params\n",
      "45.777    Total estimated model params size (MB)\n",
      "73        Modules in train mode\n",
      "0         Modules in eval mode\n"
     ]
    },
    {
     "name": "stdout",
     "output_type": "stream",
     "text": [
      "-----------------------------------\n",
      "Training stats\n",
      "  - Avg time to train models: 82.62 seconds \n",
      "  - Total # models  : 9 model(s)\n",
      "  - Models trained  : 6 model(s) in 495.73 seconds\n",
      "  - Remaining models: 3 model(s). 247.86408147099428 s remaining (Estimative)\n",
      "  - Total time      : 743.5922444129828 seconds (estimate: avg * # models)\n",
      "***********************************\n",
      " Training model From_Scratch/ft_20_ep/v_2\n",
      "***********************************\n"
     ]
    },
    {
     "data": {
      "application/vnd.jupyter.widget-view+json": {
       "model_id": "aa6174dd7c1143a490d358d78b9d44ff",
       "version_major": 2,
       "version_minor": 0
      },
      "text/plain": [
       "Sanity Checking: |          | 0/? [00:00<?, ?it/s]"
      ]
     },
     "metadata": {},
     "output_type": "display_data"
    },
    {
     "data": {
      "application/vnd.jupyter.widget-view+json": {
       "model_id": "490c5dd763ed42729b2d970dd92d7e25",
       "version_major": 2,
       "version_minor": 0
      },
      "text/plain": [
       "Training: |          | 0/? [00:00<?, ?it/s]"
      ]
     },
     "metadata": {},
     "output_type": "display_data"
    },
    {
     "data": {
      "application/vnd.jupyter.widget-view+json": {
       "model_id": "e3e8bc990c1346d1ae9a9cab9c2a20f7",
       "version_major": 2,
       "version_minor": 0
      },
      "text/plain": [
       "Validation: |          | 0/? [00:00<?, ?it/s]"
      ]
     },
     "metadata": {},
     "output_type": "display_data"
    },
    {
     "data": {
      "application/vnd.jupyter.widget-view+json": {
       "model_id": "4515d8962cfa4278b5210a9f422c4e16",
       "version_major": 2,
       "version_minor": 0
      },
      "text/plain": [
       "Validation: |          | 0/? [00:00<?, ?it/s]"
      ]
     },
     "metadata": {},
     "output_type": "display_data"
    },
    {
     "data": {
      "application/vnd.jupyter.widget-view+json": {
       "model_id": "214ed8c62ca1472188ebf1d917406673",
       "version_major": 2,
       "version_minor": 0
      },
      "text/plain": [
       "Validation: |          | 0/? [00:00<?, ?it/s]"
      ]
     },
     "metadata": {},
     "output_type": "display_data"
    },
    {
     "data": {
      "application/vnd.jupyter.widget-view+json": {
       "model_id": "f0e1f171672f489b8313c557419d2de0",
       "version_major": 2,
       "version_minor": 0
      },
      "text/plain": [
       "Validation: |          | 0/? [00:00<?, ?it/s]"
      ]
     },
     "metadata": {},
     "output_type": "display_data"
    },
    {
     "data": {
      "application/vnd.jupyter.widget-view+json": {
       "model_id": "4e80721d19cd48e6be5b86d0701a7bbd",
       "version_major": 2,
       "version_minor": 0
      },
      "text/plain": [
       "Validation: |          | 0/? [00:00<?, ?it/s]"
      ]
     },
     "metadata": {},
     "output_type": "display_data"
    },
    {
     "data": {
      "application/vnd.jupyter.widget-view+json": {
       "model_id": "5bf15c4de51144dabbaef4900c6da301",
       "version_major": 2,
       "version_minor": 0
      },
      "text/plain": [
       "Validation: |          | 0/? [00:00<?, ?it/s]"
      ]
     },
     "metadata": {},
     "output_type": "display_data"
    },
    {
     "data": {
      "application/vnd.jupyter.widget-view+json": {
       "model_id": "f15db3add85741a8b695193cbe210d92",
       "version_major": 2,
       "version_minor": 0
      },
      "text/plain": [
       "Validation: |          | 0/? [00:00<?, ?it/s]"
      ]
     },
     "metadata": {},
     "output_type": "display_data"
    },
    {
     "data": {
      "application/vnd.jupyter.widget-view+json": {
       "model_id": "9ef0d4bfec0e470887b6569a7e9d87bc",
       "version_major": 2,
       "version_minor": 0
      },
      "text/plain": [
       "Validation: |          | 0/? [00:00<?, ?it/s]"
      ]
     },
     "metadata": {},
     "output_type": "display_data"
    },
    {
     "data": {
      "application/vnd.jupyter.widget-view+json": {
       "model_id": "094a676e21f34ecba4ef10aa5276cc13",
       "version_major": 2,
       "version_minor": 0
      },
      "text/plain": [
       "Validation: |          | 0/? [00:00<?, ?it/s]"
      ]
     },
     "metadata": {},
     "output_type": "display_data"
    },
    {
     "data": {
      "application/vnd.jupyter.widget-view+json": {
       "model_id": "4f68f42f182242d88a31b687a57ecd32",
       "version_major": 2,
       "version_minor": 0
      },
      "text/plain": [
       "Validation: |          | 0/? [00:00<?, ?it/s]"
      ]
     },
     "metadata": {},
     "output_type": "display_data"
    },
    {
     "data": {
      "application/vnd.jupyter.widget-view+json": {
       "model_id": "372d6c5a1156417cb38ffa8e8cf92498",
       "version_major": 2,
       "version_minor": 0
      },
      "text/plain": [
       "Validation: |          | 0/? [00:00<?, ?it/s]"
      ]
     },
     "metadata": {},
     "output_type": "display_data"
    },
    {
     "data": {
      "application/vnd.jupyter.widget-view+json": {
       "model_id": "2e2c1f8d6b514fbb8c91777cadf8a1b8",
       "version_major": 2,
       "version_minor": 0
      },
      "text/plain": [
       "Validation: |          | 0/? [00:00<?, ?it/s]"
      ]
     },
     "metadata": {},
     "output_type": "display_data"
    },
    {
     "data": {
      "application/vnd.jupyter.widget-view+json": {
       "model_id": "5ed1f755b6bd41a5bd2381cb38d735fc",
       "version_major": 2,
       "version_minor": 0
      },
      "text/plain": [
       "Validation: |          | 0/? [00:00<?, ?it/s]"
      ]
     },
     "metadata": {},
     "output_type": "display_data"
    },
    {
     "data": {
      "application/vnd.jupyter.widget-view+json": {
       "model_id": "a6618d7f1f114f91ae77ca930912bc6e",
       "version_major": 2,
       "version_minor": 0
      },
      "text/plain": [
       "Validation: |          | 0/? [00:00<?, ?it/s]"
      ]
     },
     "metadata": {},
     "output_type": "display_data"
    },
    {
     "data": {
      "application/vnd.jupyter.widget-view+json": {
       "model_id": "21f7b8a119984cfe8fba4a33a96cc36c",
       "version_major": 2,
       "version_minor": 0
      },
      "text/plain": [
       "Validation: |          | 0/? [00:00<?, ?it/s]"
      ]
     },
     "metadata": {},
     "output_type": "display_data"
    },
    {
     "data": {
      "application/vnd.jupyter.widget-view+json": {
       "model_id": "4ad5fcf8f9db49789961e190d80c5c15",
       "version_major": 2,
       "version_minor": 0
      },
      "text/plain": [
       "Validation: |          | 0/? [00:00<?, ?it/s]"
      ]
     },
     "metadata": {},
     "output_type": "display_data"
    },
    {
     "data": {
      "application/vnd.jupyter.widget-view+json": {
       "model_id": "3b8ac38286254a67990895c957975d30",
       "version_major": 2,
       "version_minor": 0
      },
      "text/plain": [
       "Validation: |          | 0/? [00:00<?, ?it/s]"
      ]
     },
     "metadata": {},
     "output_type": "display_data"
    },
    {
     "data": {
      "application/vnd.jupyter.widget-view+json": {
       "model_id": "c63d91e3032140e2a3b35453a4181a8e",
       "version_major": 2,
       "version_minor": 0
      },
      "text/plain": [
       "Validation: |          | 0/? [00:00<?, ?it/s]"
      ]
     },
     "metadata": {},
     "output_type": "display_data"
    },
    {
     "data": {
      "application/vnd.jupyter.widget-view+json": {
       "model_id": "ed985ba6dc29414a95108fb5fd5dc510",
       "version_major": 2,
       "version_minor": 0
      },
      "text/plain": [
       "Validation: |          | 0/? [00:00<?, ?it/s]"
      ]
     },
     "metadata": {},
     "output_type": "display_data"
    },
    {
     "data": {
      "application/vnd.jupyter.widget-view+json": {
       "model_id": "cc26ae17e2ab4a05ba0270ee8625ddfa",
       "version_major": 2,
       "version_minor": 0
      },
      "text/plain": [
       "Validation: |          | 0/? [00:00<?, ?it/s]"
      ]
     },
     "metadata": {},
     "output_type": "display_data"
    },
    {
     "name": "stderr",
     "output_type": "stream",
     "text": [
      "`Trainer.fit` stopped: `max_epochs=20` reached.\n",
      "GPU available: True (cuda), used: True\n",
      "TPU available: False, using: 0 TPU cores\n",
      "HPU available: False, using: 0 HPUs\n",
      "LOCAL_RANK: 0 - CUDA_VISIBLE_DEVICES: [0]\n",
      "\n",
      "  | Name     | Type             | Params | Mode \n",
      "------------------------------------------------------\n",
      "0 | backbone | ResNet           | 11.2 M | train\n",
      "1 | fc       | Sequential       | 267 K  | train\n",
      "2 | loss_fn  | CrossEntropyLoss | 0      | train\n",
      "------------------------------------------------------\n",
      "11.4 M    Trainable params\n",
      "0         Non-trainable params\n",
      "11.4 M    Total params\n",
      "45.777    Total estimated model params size (MB)\n",
      "73        Modules in train mode\n",
      "0         Modules in eval mode\n"
     ]
    },
    {
     "name": "stdout",
     "output_type": "stream",
     "text": [
      "-----------------------------------\n",
      "Training stats\n",
      "  - Avg time to train models: 83.17 seconds \n",
      "  - Total # models  : 9 model(s)\n",
      "  - Models trained  : 7 model(s) in 582.21 seconds\n",
      "  - Remaining models: 2 model(s). 166.34619306886043 s remaining (Estimative)\n",
      "  - Total time      : 748.5578688098717 seconds (estimate: avg * # models)\n",
      "***********************************\n",
      " Training model Pretrained_ImageNet/ft_20_ep/v_2\n",
      "***********************************\n"
     ]
    },
    {
     "data": {
      "application/vnd.jupyter.widget-view+json": {
       "model_id": "5dc992deee584daaa6e863a8c33bf012",
       "version_major": 2,
       "version_minor": 0
      },
      "text/plain": [
       "Sanity Checking: |          | 0/? [00:00<?, ?it/s]"
      ]
     },
     "metadata": {},
     "output_type": "display_data"
    },
    {
     "data": {
      "application/vnd.jupyter.widget-view+json": {
       "model_id": "1cd8a61b55f545a78e257d6e05dc5f45",
       "version_major": 2,
       "version_minor": 0
      },
      "text/plain": [
       "Training: |          | 0/? [00:00<?, ?it/s]"
      ]
     },
     "metadata": {},
     "output_type": "display_data"
    },
    {
     "data": {
      "application/vnd.jupyter.widget-view+json": {
       "model_id": "647979e84b6647fbb72ba55a5219b287",
       "version_major": 2,
       "version_minor": 0
      },
      "text/plain": [
       "Validation: |          | 0/? [00:00<?, ?it/s]"
      ]
     },
     "metadata": {},
     "output_type": "display_data"
    },
    {
     "data": {
      "application/vnd.jupyter.widget-view+json": {
       "model_id": "d4ad0d4f64384456b74f5988c95dee25",
       "version_major": 2,
       "version_minor": 0
      },
      "text/plain": [
       "Validation: |          | 0/? [00:00<?, ?it/s]"
      ]
     },
     "metadata": {},
     "output_type": "display_data"
    },
    {
     "data": {
      "application/vnd.jupyter.widget-view+json": {
       "model_id": "1f39324227244120bcb26e5b6ef7b671",
       "version_major": 2,
       "version_minor": 0
      },
      "text/plain": [
       "Validation: |          | 0/? [00:00<?, ?it/s]"
      ]
     },
     "metadata": {},
     "output_type": "display_data"
    },
    {
     "data": {
      "application/vnd.jupyter.widget-view+json": {
       "model_id": "70fb11087d8c4794a8bfc658c85b4906",
       "version_major": 2,
       "version_minor": 0
      },
      "text/plain": [
       "Validation: |          | 0/? [00:00<?, ?it/s]"
      ]
     },
     "metadata": {},
     "output_type": "display_data"
    },
    {
     "data": {
      "application/vnd.jupyter.widget-view+json": {
       "model_id": "295fdaefc76640939000c5e93fbc368c",
       "version_major": 2,
       "version_minor": 0
      },
      "text/plain": [
       "Validation: |          | 0/? [00:00<?, ?it/s]"
      ]
     },
     "metadata": {},
     "output_type": "display_data"
    },
    {
     "data": {
      "application/vnd.jupyter.widget-view+json": {
       "model_id": "be94f3bdb94948699b769c9dfa6ceb15",
       "version_major": 2,
       "version_minor": 0
      },
      "text/plain": [
       "Validation: |          | 0/? [00:00<?, ?it/s]"
      ]
     },
     "metadata": {},
     "output_type": "display_data"
    },
    {
     "data": {
      "application/vnd.jupyter.widget-view+json": {
       "model_id": "6469fe4200ff453eb7909b041e7ae0b5",
       "version_major": 2,
       "version_minor": 0
      },
      "text/plain": [
       "Validation: |          | 0/? [00:00<?, ?it/s]"
      ]
     },
     "metadata": {},
     "output_type": "display_data"
    },
    {
     "data": {
      "application/vnd.jupyter.widget-view+json": {
       "model_id": "05b97555290f43b79727ed8c2108e6f6",
       "version_major": 2,
       "version_minor": 0
      },
      "text/plain": [
       "Validation: |          | 0/? [00:00<?, ?it/s]"
      ]
     },
     "metadata": {},
     "output_type": "display_data"
    },
    {
     "data": {
      "application/vnd.jupyter.widget-view+json": {
       "model_id": "b5fbb38b8038467f84a124e2552a9437",
       "version_major": 2,
       "version_minor": 0
      },
      "text/plain": [
       "Validation: |          | 0/? [00:00<?, ?it/s]"
      ]
     },
     "metadata": {},
     "output_type": "display_data"
    },
    {
     "data": {
      "application/vnd.jupyter.widget-view+json": {
       "model_id": "cf8713d5b8be4b5391df3c439925b1b0",
       "version_major": 2,
       "version_minor": 0
      },
      "text/plain": [
       "Validation: |          | 0/? [00:00<?, ?it/s]"
      ]
     },
     "metadata": {},
     "output_type": "display_data"
    },
    {
     "data": {
      "application/vnd.jupyter.widget-view+json": {
       "model_id": "bf887142b12d41bbbd464c07f981f280",
       "version_major": 2,
       "version_minor": 0
      },
      "text/plain": [
       "Validation: |          | 0/? [00:00<?, ?it/s]"
      ]
     },
     "metadata": {},
     "output_type": "display_data"
    },
    {
     "data": {
      "application/vnd.jupyter.widget-view+json": {
       "model_id": "6116fbb6238c4726a5c97ec21b53df94",
       "version_major": 2,
       "version_minor": 0
      },
      "text/plain": [
       "Validation: |          | 0/? [00:00<?, ?it/s]"
      ]
     },
     "metadata": {},
     "output_type": "display_data"
    },
    {
     "data": {
      "application/vnd.jupyter.widget-view+json": {
       "model_id": "aab6f98969b14b2e886955064d0eaa13",
       "version_major": 2,
       "version_minor": 0
      },
      "text/plain": [
       "Validation: |          | 0/? [00:00<?, ?it/s]"
      ]
     },
     "metadata": {},
     "output_type": "display_data"
    },
    {
     "data": {
      "application/vnd.jupyter.widget-view+json": {
       "model_id": "60295d1281444ecf99a029510992993a",
       "version_major": 2,
       "version_minor": 0
      },
      "text/plain": [
       "Validation: |          | 0/? [00:00<?, ?it/s]"
      ]
     },
     "metadata": {},
     "output_type": "display_data"
    },
    {
     "data": {
      "application/vnd.jupyter.widget-view+json": {
       "model_id": "558982d2201544dba7ac6d8992e0ebf9",
       "version_major": 2,
       "version_minor": 0
      },
      "text/plain": [
       "Validation: |          | 0/? [00:00<?, ?it/s]"
      ]
     },
     "metadata": {},
     "output_type": "display_data"
    },
    {
     "data": {
      "application/vnd.jupyter.widget-view+json": {
       "model_id": "82483c2dd63944bc823058dd5724dc08",
       "version_major": 2,
       "version_minor": 0
      },
      "text/plain": [
       "Validation: |          | 0/? [00:00<?, ?it/s]"
      ]
     },
     "metadata": {},
     "output_type": "display_data"
    },
    {
     "data": {
      "application/vnd.jupyter.widget-view+json": {
       "model_id": "eac16b43fe334af38d909df23dafa6f2",
       "version_major": 2,
       "version_minor": 0
      },
      "text/plain": [
       "Validation: |          | 0/? [00:00<?, ?it/s]"
      ]
     },
     "metadata": {},
     "output_type": "display_data"
    },
    {
     "data": {
      "application/vnd.jupyter.widget-view+json": {
       "model_id": "dc55698434db4b2f9cdaeb6f34dc0c36",
       "version_major": 2,
       "version_minor": 0
      },
      "text/plain": [
       "Validation: |          | 0/? [00:00<?, ?it/s]"
      ]
     },
     "metadata": {},
     "output_type": "display_data"
    },
    {
     "data": {
      "application/vnd.jupyter.widget-view+json": {
       "model_id": "d37c244a8f874501be9323af212a482e",
       "version_major": 2,
       "version_minor": 0
      },
      "text/plain": [
       "Validation: |          | 0/? [00:00<?, ?it/s]"
      ]
     },
     "metadata": {},
     "output_type": "display_data"
    },
    {
     "data": {
      "application/vnd.jupyter.widget-view+json": {
       "model_id": "18574b6c19de492db65e62511007f0c3",
       "version_major": 2,
       "version_minor": 0
      },
      "text/plain": [
       "Validation: |          | 0/? [00:00<?, ?it/s]"
      ]
     },
     "metadata": {},
     "output_type": "display_data"
    },
    {
     "name": "stderr",
     "output_type": "stream",
     "text": [
      "`Trainer.fit` stopped: `max_epochs=20` reached.\n",
      "GPU available: True (cuda), used: True\n",
      "TPU available: False, using: 0 TPU cores\n",
      "HPU available: False, using: 0 HPUs\n",
      "LOCAL_RANK: 0 - CUDA_VISIBLE_DEVICES: [0]\n",
      "\n",
      "  | Name     | Type             | Params | Mode \n",
      "------------------------------------------------------\n",
      "0 | backbone | ResNet           | 11.2 M | train\n",
      "1 | fc       | Sequential       | 267 K  | train\n",
      "2 | loss_fn  | CrossEntropyLoss | 0      | train\n",
      "------------------------------------------------------\n",
      "11.4 M    Trainable params\n",
      "0         Non-trainable params\n",
      "11.4 M    Total params\n",
      "45.777    Total estimated model params size (MB)\n",
      "73        Modules in train mode\n",
      "0         Modules in eval mode\n"
     ]
    },
    {
     "name": "stdout",
     "output_type": "stream",
     "text": [
      "-----------------------------------\n",
      "Training stats\n",
      "  - Avg time to train models: 82.88 seconds \n",
      "  - Total # models  : 9 model(s)\n",
      "  - Models trained  : 8 model(s) in 663.05 seconds\n",
      "  - Remaining models: 1 model(s). 82.8811751653775 s remaining (Estimative)\n",
      "  - Total time      : 745.9305764883975 seconds (estimate: avg * # models)\n",
      "***********************************\n",
      " Training model Pretrained_SimCLR-epoch_99/ft_20_ep/v_2\n",
      "***********************************\n"
     ]
    },
    {
     "data": {
      "application/vnd.jupyter.widget-view+json": {
       "model_id": "c1587e84f3574410b60cc6502e261d7c",
       "version_major": 2,
       "version_minor": 0
      },
      "text/plain": [
       "Sanity Checking: |          | 0/? [00:00<?, ?it/s]"
      ]
     },
     "metadata": {},
     "output_type": "display_data"
    },
    {
     "data": {
      "application/vnd.jupyter.widget-view+json": {
       "model_id": "dcbb8546f17b44f69ff9a494ea9f084b",
       "version_major": 2,
       "version_minor": 0
      },
      "text/plain": [
       "Training: |          | 0/? [00:00<?, ?it/s]"
      ]
     },
     "metadata": {},
     "output_type": "display_data"
    },
    {
     "data": {
      "application/vnd.jupyter.widget-view+json": {
       "model_id": "348f8d3a31d2469fb128b6b2bc17e337",
       "version_major": 2,
       "version_minor": 0
      },
      "text/plain": [
       "Validation: |          | 0/? [00:00<?, ?it/s]"
      ]
     },
     "metadata": {},
     "output_type": "display_data"
    },
    {
     "data": {
      "application/vnd.jupyter.widget-view+json": {
       "model_id": "40084e5b05c74d47a0d5eaf45a3c3221",
       "version_major": 2,
       "version_minor": 0
      },
      "text/plain": [
       "Validation: |          | 0/? [00:00<?, ?it/s]"
      ]
     },
     "metadata": {},
     "output_type": "display_data"
    },
    {
     "data": {
      "application/vnd.jupyter.widget-view+json": {
       "model_id": "d0ce56a59e474192b61371ce9a9ce560",
       "version_major": 2,
       "version_minor": 0
      },
      "text/plain": [
       "Validation: |          | 0/? [00:00<?, ?it/s]"
      ]
     },
     "metadata": {},
     "output_type": "display_data"
    },
    {
     "data": {
      "application/vnd.jupyter.widget-view+json": {
       "model_id": "71420f5466414cbc82ec572198a7da91",
       "version_major": 2,
       "version_minor": 0
      },
      "text/plain": [
       "Validation: |          | 0/? [00:00<?, ?it/s]"
      ]
     },
     "metadata": {},
     "output_type": "display_data"
    },
    {
     "data": {
      "application/vnd.jupyter.widget-view+json": {
       "model_id": "ba11b22a13714e3b996b9f18650cd5ec",
       "version_major": 2,
       "version_minor": 0
      },
      "text/plain": [
       "Validation: |          | 0/? [00:00<?, ?it/s]"
      ]
     },
     "metadata": {},
     "output_type": "display_data"
    },
    {
     "data": {
      "application/vnd.jupyter.widget-view+json": {
       "model_id": "a4bf2e58d304421484526d995cd2de97",
       "version_major": 2,
       "version_minor": 0
      },
      "text/plain": [
       "Validation: |          | 0/? [00:00<?, ?it/s]"
      ]
     },
     "metadata": {},
     "output_type": "display_data"
    },
    {
     "data": {
      "application/vnd.jupyter.widget-view+json": {
       "model_id": "7d41bb13d6514cc080759c69a489909f",
       "version_major": 2,
       "version_minor": 0
      },
      "text/plain": [
       "Validation: |          | 0/? [00:00<?, ?it/s]"
      ]
     },
     "metadata": {},
     "output_type": "display_data"
    },
    {
     "data": {
      "application/vnd.jupyter.widget-view+json": {
       "model_id": "6a8c94e8a2ed4a2ba26694815eab6959",
       "version_major": 2,
       "version_minor": 0
      },
      "text/plain": [
       "Validation: |          | 0/? [00:00<?, ?it/s]"
      ]
     },
     "metadata": {},
     "output_type": "display_data"
    },
    {
     "data": {
      "application/vnd.jupyter.widget-view+json": {
       "model_id": "28ad1d464352423f9dff4168d70c8299",
       "version_major": 2,
       "version_minor": 0
      },
      "text/plain": [
       "Validation: |          | 0/? [00:00<?, ?it/s]"
      ]
     },
     "metadata": {},
     "output_type": "display_data"
    },
    {
     "data": {
      "application/vnd.jupyter.widget-view+json": {
       "model_id": "fbf68e4e194840a78c7b1a724c63fcaf",
       "version_major": 2,
       "version_minor": 0
      },
      "text/plain": [
       "Validation: |          | 0/? [00:00<?, ?it/s]"
      ]
     },
     "metadata": {},
     "output_type": "display_data"
    },
    {
     "data": {
      "application/vnd.jupyter.widget-view+json": {
       "model_id": "83d85bfd82f04689a7031bf441deedd0",
       "version_major": 2,
       "version_minor": 0
      },
      "text/plain": [
       "Validation: |          | 0/? [00:00<?, ?it/s]"
      ]
     },
     "metadata": {},
     "output_type": "display_data"
    },
    {
     "data": {
      "application/vnd.jupyter.widget-view+json": {
       "model_id": "0e65ccef0ade43c2bf79f03f60b5c5fd",
       "version_major": 2,
       "version_minor": 0
      },
      "text/plain": [
       "Validation: |          | 0/? [00:00<?, ?it/s]"
      ]
     },
     "metadata": {},
     "output_type": "display_data"
    },
    {
     "data": {
      "application/vnd.jupyter.widget-view+json": {
       "model_id": "f4f6119d9c8449fa82b0db8a489768c4",
       "version_major": 2,
       "version_minor": 0
      },
      "text/plain": [
       "Validation: |          | 0/? [00:00<?, ?it/s]"
      ]
     },
     "metadata": {},
     "output_type": "display_data"
    },
    {
     "data": {
      "application/vnd.jupyter.widget-view+json": {
       "model_id": "aec01cd43354408bb21e1ae8ec0c48ad",
       "version_major": 2,
       "version_minor": 0
      },
      "text/plain": [
       "Validation: |          | 0/? [00:00<?, ?it/s]"
      ]
     },
     "metadata": {},
     "output_type": "display_data"
    },
    {
     "data": {
      "application/vnd.jupyter.widget-view+json": {
       "model_id": "a75cb63eb69941629efe31620a3cb62d",
       "version_major": 2,
       "version_minor": 0
      },
      "text/plain": [
       "Validation: |          | 0/? [00:00<?, ?it/s]"
      ]
     },
     "metadata": {},
     "output_type": "display_data"
    },
    {
     "data": {
      "application/vnd.jupyter.widget-view+json": {
       "model_id": "e8cbb296d62740ec8076e08031f18b84",
       "version_major": 2,
       "version_minor": 0
      },
      "text/plain": [
       "Validation: |          | 0/? [00:00<?, ?it/s]"
      ]
     },
     "metadata": {},
     "output_type": "display_data"
    },
    {
     "data": {
      "application/vnd.jupyter.widget-view+json": {
       "model_id": "742b0a941a5b4324a83d4d4f91a22668",
       "version_major": 2,
       "version_minor": 0
      },
      "text/plain": [
       "Validation: |          | 0/? [00:00<?, ?it/s]"
      ]
     },
     "metadata": {},
     "output_type": "display_data"
    },
    {
     "data": {
      "application/vnd.jupyter.widget-view+json": {
       "model_id": "fe6d2c793d654217a2651b7463a007de",
       "version_major": 2,
       "version_minor": 0
      },
      "text/plain": [
       "Validation: |          | 0/? [00:00<?, ?it/s]"
      ]
     },
     "metadata": {},
     "output_type": "display_data"
    },
    {
     "data": {
      "application/vnd.jupyter.widget-view+json": {
       "model_id": "a37d9ad797e843ce89ddaae2d3294295",
       "version_major": 2,
       "version_minor": 0
      },
      "text/plain": [
       "Validation: |          | 0/? [00:00<?, ?it/s]"
      ]
     },
     "metadata": {},
     "output_type": "display_data"
    },
    {
     "data": {
      "application/vnd.jupyter.widget-view+json": {
       "model_id": "f2074e894f394c43968318e55e45805d",
       "version_major": 2,
       "version_minor": 0
      },
      "text/plain": [
       "Validation: |          | 0/? [00:00<?, ?it/s]"
      ]
     },
     "metadata": {},
     "output_type": "display_data"
    },
    {
     "name": "stderr",
     "output_type": "stream",
     "text": [
      "`Trainer.fit` stopped: `max_epochs=20` reached.\n"
     ]
    },
    {
     "name": "stdout",
     "output_type": "stream",
     "text": [
      "-----------------------------------\n",
      "Training stats\n",
      "  - Avg time to train models: 83.21 seconds \n",
      "  - Total # models  : 9 model(s)\n",
      "  - Models trained  : 9 model(s) in 748.85 seconds\n",
      "  - Remaining models: 0 model(s). 0.0 s remaining (Estimative)\n",
      "  - Total time      : 748.8529727770365 seconds (estimate: avg * # models)\n"
     ]
    }
   ],
   "source": [
    "from lightning import Trainer\n",
    "from lightning.pytorch.loggers import TensorBoardLogger\n",
    "from lightning.pytorch.callbacks import ModelCheckpoint\n",
    "\n",
    "# Register stats\n",
    "from timeit import default_timer as timer\n",
    "n_configs = len(models)\n",
    "n_configs_trained = 0\n",
    "start_time = timer()\n",
    "\n",
    "for model_name, model_info in models.items():\n",
    "    print(\"***********************************\")\n",
    "    print(f\" Training model {model_name}\")\n",
    "    print(\"***********************************\")\n",
    "    logger = TensorBoardLogger(save_dir=f\"logs/10_SimCLR/Downstream/\", name=model_name)                               \n",
    "    trainer = Trainer(max_epochs=model_info[\"nepochs\"], benchmark=True, \n",
    "                      log_every_n_steps=8, logger=logger,\n",
    "                      callbacks=[ModelCheckpoint(monitor=\"val_loss\", mode=\"min\")])\n",
    "    trainer.fit(model_info[\"model\"], datamodule=datamodule)\n",
    "\n",
    "    # Compute and display training statistics\n",
    "    elapsed = timer() - start_time\n",
    "    n_configs_trained += 1\n",
    "    avg = elapsed / n_configs_trained  \n",
    "    print(\"-----------------------------------\")\n",
    "    print(f\"Training stats\")\n",
    "    print(f\"  - Avg time to train models: {avg:.2f} seconds \")\n",
    "    est_total = avg * n_configs\n",
    "    est_remaining = est_total - elapsed\n",
    "    print(f\"  - Total # models  : {n_configs} model(s)\")\n",
    "    print(f\"  - Models trained  : {n_configs_trained} model(s) in {elapsed:.2f} seconds\")\n",
    "    print(f\"  - Remaining models: {n_configs-n_configs_trained} model(s). {est_remaining} s remaining (Estimative)\")\n",
    "    print(f\"  - Total time      : {est_total} seconds (estimate: avg * # models)\")"
   ]
  },
  {
   "cell_type": "markdown",
   "metadata": {},
   "source": [
    "## <a id=\"sec_6\">6. Evaluating the models on the test set</a>"
   ]
  },
  {
   "cell_type": "markdown",
   "metadata": {},
   "source": [
    "Now, let's evaluate the models we trained using the test set.\n",
    "First, we will compute the test accuracy for each model.\n",
    "Then, we will visualize the results in a plot."
   ]
  },
  {
   "cell_type": "markdown",
   "metadata": {},
   "source": [
    "### 6.1 Load the model weights and evaluate their peformance"
   ]
  },
  {
   "cell_type": "markdown",
   "metadata": {},
   "source": [
    "First, let's list all checkpoint files generated by the training process."
   ]
  },
  {
   "cell_type": "code",
   "execution_count": 15,
   "metadata": {},
   "outputs": [
    {
     "name": "stdout",
     "output_type": "stream",
     "text": [
      "** 9 model_ckpt_files **\n",
      "   0 logs/10_SimCLR/Downstream/From_Scratch/ft_20_ep/v_1/version_0/checkpoints/epoch=9-step=1250.ckpt\n",
      "   1 logs/10_SimCLR/Downstream/From_Scratch/ft_20_ep/v_2/version_0/checkpoints/epoch=9-step=1250.ckpt\n",
      "   2 logs/10_SimCLR/Downstream/From_Scratch/ft_20_ep/v_0/version_0/checkpoints/epoch=9-step=1250.ckpt\n",
      "   3 logs/10_SimCLR/Downstream/Pretrained_SimCLR-epoch_99/ft_20_ep/v_0/version_0/checkpoints/epoch=2-step=375.ckpt\n",
      "   4 logs/10_SimCLR/Downstream/Pretrained_SimCLR-epoch_99/ft_20_ep/v_1/version_0/checkpoints/epoch=4-step=625.ckpt\n",
      "   5 logs/10_SimCLR/Downstream/Pretrained_SimCLR-epoch_99/ft_20_ep/v_2/version_0/checkpoints/epoch=6-step=875.ckpt\n",
      "   6 logs/10_SimCLR/Downstream/Pretrained_ImageNet/ft_20_ep/v_0/version_0/checkpoints/epoch=3-step=500.ckpt\n",
      "   7 logs/10_SimCLR/Downstream/Pretrained_ImageNet/ft_20_ep/v_1/version_0/checkpoints/epoch=19-step=2500.ckpt\n",
      "   8 logs/10_SimCLR/Downstream/Pretrained_ImageNet/ft_20_ep/v_2/version_0/checkpoints/epoch=4-step=625.ckpt\n"
     ]
    }
   ],
   "source": [
    "import glob\n",
    "\n",
    "model_ckpt_files = glob.glob(f\"logs/10_SimCLR/Downstream/*/ft_{n_epochs}_ep/v_*/version_*/checkpoints/*\")\n",
    "\n",
    "print(f\"** {len(model_ckpt_files)} model_ckpt_files **\")\n",
    "for i, f in enumerate(model_ckpt_files):\n",
    "    print(f\" {i:3d} {f}\")"
   ]
  },
  {
   "cell_type": "markdown",
   "metadata": {},
   "source": [
    "Now, for each checkpoint, we will load its weights into the `SimpleSupervisedModel` used for the downstream task and evaluate its performance on the test set.\n",
    "\n",
    "During this process, the model's accuracy will be recorded in the CSV file specified by the `output_csv_filename` variable."
   ]
  },
  {
   "cell_type": "code",
   "execution_count": 16,
   "metadata": {},
   "outputs": [
    {
     "name": "stderr",
     "output_type": "stream",
     "text": [
      "You are using the plain ModelCheckpoint callback. Consider using LitModelCheckpoint which with seamless uploading to Model registry.\n",
      "GPU available: True (cuda), used: True\n",
      "TPU available: False, using: 0 TPU cores\n",
      "HPU available: False, using: 0 HPUs\n"
     ]
    },
    {
     "name": "stdout",
     "output_type": "stream",
     "text": [
      "====   0 logs/10_SimCLR/Downstream/From_Scratch/ft_20_ep/v_1/version_0/checkpoints/epoch=9-step=1250.ckpt ====\n",
      "* Filename: logs/10_SimCLR/Downstream/From_Scratch/ft_20_ep/v_1/version_0/checkpoints/epoch=9-step=1250.ckpt\n",
      "* Basename: From_Scratch\n",
      "* Version:v_1-version_0\n"
     ]
    },
    {
     "name": "stderr",
     "output_type": "stream",
     "text": [
      "LOCAL_RANK: 0 - CUDA_VISIBLE_DEVICES: [0]\n"
     ]
    },
    {
     "data": {
      "application/vnd.jupyter.widget-view+json": {
       "model_id": "d21d5118c46142a8bc3b25a24726fa0f",
       "version_major": 2,
       "version_minor": 0
      },
      "text/plain": [
       "Testing: |          | 0/? [00:00<?, ?it/s]"
      ]
     },
     "metadata": {},
     "output_type": "display_data"
    },
    {
     "data": {
      "text/html": [
       "<pre style=\"white-space:pre;overflow-x:auto;line-height:normal;font-family:Menlo,'DejaVu Sans Mono',consolas,'Courier New',monospace\">┏━━━━━━━━━━━━━━━━━━━━━━━━━━━┳━━━━━━━━━━━━━━━━━━━━━━━━━━━┓\n",
       "┃<span style=\"font-weight: bold\">        Test metric        </span>┃<span style=\"font-weight: bold\">       DataLoader 0        </span>┃\n",
       "┡━━━━━━━━━━━━━━━━━━━━━━━━━━━╇━━━━━━━━━━━━━━━━━━━━━━━━━━━┩\n",
       "│<span style=\"color: #008080; text-decoration-color: #008080\">       test_accuracy       </span>│<span style=\"color: #800080; text-decoration-color: #800080\">         0.578125          </span>│\n",
       "│<span style=\"color: #008080; text-decoration-color: #008080\">         test_loss         </span>│<span style=\"color: #800080; text-decoration-color: #800080\">    1.2379345893859863     </span>│\n",
       "└───────────────────────────┴───────────────────────────┘\n",
       "</pre>\n"
      ],
      "text/plain": [
       "┏━━━━━━━━━━━━━━━━━━━━━━━━━━━┳━━━━━━━━━━━━━━━━━━━━━━━━━━━┓\n",
       "┃\u001b[1m \u001b[0m\u001b[1m       Test metric       \u001b[0m\u001b[1m \u001b[0m┃\u001b[1m \u001b[0m\u001b[1m      DataLoader 0       \u001b[0m\u001b[1m \u001b[0m┃\n",
       "┡━━━━━━━━━━━━━━━━━━━━━━━━━━━╇━━━━━━━━━━━━━━━━━━━━━━━━━━━┩\n",
       "│\u001b[36m \u001b[0m\u001b[36m      test_accuracy      \u001b[0m\u001b[36m \u001b[0m│\u001b[35m \u001b[0m\u001b[35m        0.578125         \u001b[0m\u001b[35m \u001b[0m│\n",
       "│\u001b[36m \u001b[0m\u001b[36m        test_loss        \u001b[0m\u001b[36m \u001b[0m│\u001b[35m \u001b[0m\u001b[35m   1.2379345893859863    \u001b[0m\u001b[35m \u001b[0m│\n",
       "└───────────────────────────┴───────────────────────────┘\n"
      ]
     },
     "metadata": {},
     "output_type": "display_data"
    },
    {
     "name": "stdout",
     "output_type": "stream",
     "text": [
      "====   1 logs/10_SimCLR/Downstream/From_Scratch/ft_20_ep/v_2/version_0/checkpoints/epoch=9-step=1250.ckpt ====\n",
      "* Filename: logs/10_SimCLR/Downstream/From_Scratch/ft_20_ep/v_2/version_0/checkpoints/epoch=9-step=1250.ckpt\n",
      "* Basename: From_Scratch\n",
      "* Version:v_2-version_0\n"
     ]
    },
    {
     "name": "stderr",
     "output_type": "stream",
     "text": [
      "LOCAL_RANK: 0 - CUDA_VISIBLE_DEVICES: [0]\n"
     ]
    },
    {
     "data": {
      "application/vnd.jupyter.widget-view+json": {
       "model_id": "4f6ca010c2fa461b8df6296b7b12f96f",
       "version_major": 2,
       "version_minor": 0
      },
      "text/plain": [
       "Testing: |          | 0/? [00:00<?, ?it/s]"
      ]
     },
     "metadata": {},
     "output_type": "display_data"
    },
    {
     "data": {
      "text/html": [
       "<pre style=\"white-space:pre;overflow-x:auto;line-height:normal;font-family:Menlo,'DejaVu Sans Mono',consolas,'Courier New',monospace\">┏━━━━━━━━━━━━━━━━━━━━━━━━━━━┳━━━━━━━━━━━━━━━━━━━━━━━━━━━┓\n",
       "┃<span style=\"font-weight: bold\">        Test metric        </span>┃<span style=\"font-weight: bold\">       DataLoader 0        </span>┃\n",
       "┡━━━━━━━━━━━━━━━━━━━━━━━━━━━╇━━━━━━━━━━━━━━━━━━━━━━━━━━━┩\n",
       "│<span style=\"color: #008080; text-decoration-color: #008080\">       test_accuracy       </span>│<span style=\"color: #800080; text-decoration-color: #800080\">    0.5770000219345093     </span>│\n",
       "│<span style=\"color: #008080; text-decoration-color: #008080\">         test_loss         </span>│<span style=\"color: #800080; text-decoration-color: #800080\">     1.269349455833435     </span>│\n",
       "└───────────────────────────┴───────────────────────────┘\n",
       "</pre>\n"
      ],
      "text/plain": [
       "┏━━━━━━━━━━━━━━━━━━━━━━━━━━━┳━━━━━━━━━━━━━━━━━━━━━━━━━━━┓\n",
       "┃\u001b[1m \u001b[0m\u001b[1m       Test metric       \u001b[0m\u001b[1m \u001b[0m┃\u001b[1m \u001b[0m\u001b[1m      DataLoader 0       \u001b[0m\u001b[1m \u001b[0m┃\n",
       "┡━━━━━━━━━━━━━━━━━━━━━━━━━━━╇━━━━━━━━━━━━━━━━━━━━━━━━━━━┩\n",
       "│\u001b[36m \u001b[0m\u001b[36m      test_accuracy      \u001b[0m\u001b[36m \u001b[0m│\u001b[35m \u001b[0m\u001b[35m   0.5770000219345093    \u001b[0m\u001b[35m \u001b[0m│\n",
       "│\u001b[36m \u001b[0m\u001b[36m        test_loss        \u001b[0m\u001b[36m \u001b[0m│\u001b[35m \u001b[0m\u001b[35m    1.269349455833435    \u001b[0m\u001b[35m \u001b[0m│\n",
       "└───────────────────────────┴───────────────────────────┘\n"
      ]
     },
     "metadata": {},
     "output_type": "display_data"
    },
    {
     "name": "stdout",
     "output_type": "stream",
     "text": [
      "====   2 logs/10_SimCLR/Downstream/From_Scratch/ft_20_ep/v_0/version_0/checkpoints/epoch=9-step=1250.ckpt ====\n",
      "* Filename: logs/10_SimCLR/Downstream/From_Scratch/ft_20_ep/v_0/version_0/checkpoints/epoch=9-step=1250.ckpt\n",
      "* Basename: From_Scratch\n",
      "* Version:v_0-version_0\n"
     ]
    },
    {
     "name": "stderr",
     "output_type": "stream",
     "text": [
      "LOCAL_RANK: 0 - CUDA_VISIBLE_DEVICES: [0]\n"
     ]
    },
    {
     "data": {
      "application/vnd.jupyter.widget-view+json": {
       "model_id": "ba6456cbcffc4c4aa81108060d6a2f88",
       "version_major": 2,
       "version_minor": 0
      },
      "text/plain": [
       "Testing: |          | 0/? [00:00<?, ?it/s]"
      ]
     },
     "metadata": {},
     "output_type": "display_data"
    },
    {
     "data": {
      "text/html": [
       "<pre style=\"white-space:pre;overflow-x:auto;line-height:normal;font-family:Menlo,'DejaVu Sans Mono',consolas,'Courier New',monospace\">┏━━━━━━━━━━━━━━━━━━━━━━━━━━━┳━━━━━━━━━━━━━━━━━━━━━━━━━━━┓\n",
       "┃<span style=\"font-weight: bold\">        Test metric        </span>┃<span style=\"font-weight: bold\">       DataLoader 0        </span>┃\n",
       "┡━━━━━━━━━━━━━━━━━━━━━━━━━━━╇━━━━━━━━━━━━━━━━━━━━━━━━━━━┩\n",
       "│<span style=\"color: #008080; text-decoration-color: #008080\">       test_accuracy       </span>│<span style=\"color: #800080; text-decoration-color: #800080\">    0.5786250233650208     </span>│\n",
       "│<span style=\"color: #008080; text-decoration-color: #008080\">         test_loss         </span>│<span style=\"color: #800080; text-decoration-color: #800080\">    1.2741591930389404     </span>│\n",
       "└───────────────────────────┴───────────────────────────┘\n",
       "</pre>\n"
      ],
      "text/plain": [
       "┏━━━━━━━━━━━━━━━━━━━━━━━━━━━┳━━━━━━━━━━━━━━━━━━━━━━━━━━━┓\n",
       "┃\u001b[1m \u001b[0m\u001b[1m       Test metric       \u001b[0m\u001b[1m \u001b[0m┃\u001b[1m \u001b[0m\u001b[1m      DataLoader 0       \u001b[0m\u001b[1m \u001b[0m┃\n",
       "┡━━━━━━━━━━━━━━━━━━━━━━━━━━━╇━━━━━━━━━━━━━━━━━━━━━━━━━━━┩\n",
       "│\u001b[36m \u001b[0m\u001b[36m      test_accuracy      \u001b[0m\u001b[36m \u001b[0m│\u001b[35m \u001b[0m\u001b[35m   0.5786250233650208    \u001b[0m\u001b[35m \u001b[0m│\n",
       "│\u001b[36m \u001b[0m\u001b[36m        test_loss        \u001b[0m\u001b[36m \u001b[0m│\u001b[35m \u001b[0m\u001b[35m   1.2741591930389404    \u001b[0m\u001b[35m \u001b[0m│\n",
       "└───────────────────────────┴───────────────────────────┘\n"
      ]
     },
     "metadata": {},
     "output_type": "display_data"
    },
    {
     "name": "stdout",
     "output_type": "stream",
     "text": [
      "====   3 logs/10_SimCLR/Downstream/Pretrained_SimCLR-epoch_99/ft_20_ep/v_0/version_0/checkpoints/epoch=2-step=375.ckpt ====\n",
      "* Filename: logs/10_SimCLR/Downstream/Pretrained_SimCLR-epoch_99/ft_20_ep/v_0/version_0/checkpoints/epoch=2-step=375.ckpt\n",
      "* Basename: Pretrained_SimCLR-epoch_99\n",
      "* Version:v_0-version_0\n"
     ]
    },
    {
     "name": "stderr",
     "output_type": "stream",
     "text": [
      "LOCAL_RANK: 0 - CUDA_VISIBLE_DEVICES: [0]\n"
     ]
    },
    {
     "data": {
      "application/vnd.jupyter.widget-view+json": {
       "model_id": "4e83bcea10db4f278a04c245565210f9",
       "version_major": 2,
       "version_minor": 0
      },
      "text/plain": [
       "Testing: |          | 0/? [00:00<?, ?it/s]"
      ]
     },
     "metadata": {},
     "output_type": "display_data"
    },
    {
     "data": {
      "text/html": [
       "<pre style=\"white-space:pre;overflow-x:auto;line-height:normal;font-family:Menlo,'DejaVu Sans Mono',consolas,'Courier New',monospace\">┏━━━━━━━━━━━━━━━━━━━━━━━━━━━┳━━━━━━━━━━━━━━━━━━━━━━━━━━━┓\n",
       "┃<span style=\"font-weight: bold\">        Test metric        </span>┃<span style=\"font-weight: bold\">       DataLoader 0        </span>┃\n",
       "┡━━━━━━━━━━━━━━━━━━━━━━━━━━━╇━━━━━━━━━━━━━━━━━━━━━━━━━━━┩\n",
       "│<span style=\"color: #008080; text-decoration-color: #008080\">       test_accuracy       </span>│<span style=\"color: #800080; text-decoration-color: #800080\">    0.6302499771118164     </span>│\n",
       "│<span style=\"color: #008080; text-decoration-color: #008080\">         test_loss         </span>│<span style=\"color: #800080; text-decoration-color: #800080\">    1.0451271533966064     </span>│\n",
       "└───────────────────────────┴───────────────────────────┘\n",
       "</pre>\n"
      ],
      "text/plain": [
       "┏━━━━━━━━━━━━━━━━━━━━━━━━━━━┳━━━━━━━━━━━━━━━━━━━━━━━━━━━┓\n",
       "┃\u001b[1m \u001b[0m\u001b[1m       Test metric       \u001b[0m\u001b[1m \u001b[0m┃\u001b[1m \u001b[0m\u001b[1m      DataLoader 0       \u001b[0m\u001b[1m \u001b[0m┃\n",
       "┡━━━━━━━━━━━━━━━━━━━━━━━━━━━╇━━━━━━━━━━━━━━━━━━━━━━━━━━━┩\n",
       "│\u001b[36m \u001b[0m\u001b[36m      test_accuracy      \u001b[0m\u001b[36m \u001b[0m│\u001b[35m \u001b[0m\u001b[35m   0.6302499771118164    \u001b[0m\u001b[35m \u001b[0m│\n",
       "│\u001b[36m \u001b[0m\u001b[36m        test_loss        \u001b[0m\u001b[36m \u001b[0m│\u001b[35m \u001b[0m\u001b[35m   1.0451271533966064    \u001b[0m\u001b[35m \u001b[0m│\n",
       "└───────────────────────────┴───────────────────────────┘\n"
      ]
     },
     "metadata": {},
     "output_type": "display_data"
    },
    {
     "name": "stdout",
     "output_type": "stream",
     "text": [
      "====   4 logs/10_SimCLR/Downstream/Pretrained_SimCLR-epoch_99/ft_20_ep/v_1/version_0/checkpoints/epoch=4-step=625.ckpt ====\n",
      "* Filename: logs/10_SimCLR/Downstream/Pretrained_SimCLR-epoch_99/ft_20_ep/v_1/version_0/checkpoints/epoch=4-step=625.ckpt\n",
      "* Basename: Pretrained_SimCLR-epoch_99\n",
      "* Version:v_1-version_0\n"
     ]
    },
    {
     "name": "stderr",
     "output_type": "stream",
     "text": [
      "LOCAL_RANK: 0 - CUDA_VISIBLE_DEVICES: [0]\n"
     ]
    },
    {
     "data": {
      "application/vnd.jupyter.widget-view+json": {
       "model_id": "85994f325efb4635b68f3a4e989dacbb",
       "version_major": 2,
       "version_minor": 0
      },
      "text/plain": [
       "Testing: |          | 0/? [00:00<?, ?it/s]"
      ]
     },
     "metadata": {},
     "output_type": "display_data"
    },
    {
     "data": {
      "text/html": [
       "<pre style=\"white-space:pre;overflow-x:auto;line-height:normal;font-family:Menlo,'DejaVu Sans Mono',consolas,'Courier New',monospace\">┏━━━━━━━━━━━━━━━━━━━━━━━━━━━┳━━━━━━━━━━━━━━━━━━━━━━━━━━━┓\n",
       "┃<span style=\"font-weight: bold\">        Test metric        </span>┃<span style=\"font-weight: bold\">       DataLoader 0        </span>┃\n",
       "┡━━━━━━━━━━━━━━━━━━━━━━━━━━━╇━━━━━━━━━━━━━━━━━━━━━━━━━━━┩\n",
       "│<span style=\"color: #008080; text-decoration-color: #008080\">       test_accuracy       </span>│<span style=\"color: #800080; text-decoration-color: #800080\">    0.6341249942779541     </span>│\n",
       "│<span style=\"color: #008080; text-decoration-color: #008080\">         test_loss         </span>│<span style=\"color: #800080; text-decoration-color: #800080\">    1.0864801406860352     </span>│\n",
       "└───────────────────────────┴───────────────────────────┘\n",
       "</pre>\n"
      ],
      "text/plain": [
       "┏━━━━━━━━━━━━━━━━━━━━━━━━━━━┳━━━━━━━━━━━━━━━━━━━━━━━━━━━┓\n",
       "┃\u001b[1m \u001b[0m\u001b[1m       Test metric       \u001b[0m\u001b[1m \u001b[0m┃\u001b[1m \u001b[0m\u001b[1m      DataLoader 0       \u001b[0m\u001b[1m \u001b[0m┃\n",
       "┡━━━━━━━━━━━━━━━━━━━━━━━━━━━╇━━━━━━━━━━━━━━━━━━━━━━━━━━━┩\n",
       "│\u001b[36m \u001b[0m\u001b[36m      test_accuracy      \u001b[0m\u001b[36m \u001b[0m│\u001b[35m \u001b[0m\u001b[35m   0.6341249942779541    \u001b[0m\u001b[35m \u001b[0m│\n",
       "│\u001b[36m \u001b[0m\u001b[36m        test_loss        \u001b[0m\u001b[36m \u001b[0m│\u001b[35m \u001b[0m\u001b[35m   1.0864801406860352    \u001b[0m\u001b[35m \u001b[0m│\n",
       "└───────────────────────────┴───────────────────────────┘\n"
      ]
     },
     "metadata": {},
     "output_type": "display_data"
    },
    {
     "name": "stdout",
     "output_type": "stream",
     "text": [
      "====   5 logs/10_SimCLR/Downstream/Pretrained_SimCLR-epoch_99/ft_20_ep/v_2/version_0/checkpoints/epoch=6-step=875.ckpt ====\n",
      "* Filename: logs/10_SimCLR/Downstream/Pretrained_SimCLR-epoch_99/ft_20_ep/v_2/version_0/checkpoints/epoch=6-step=875.ckpt\n",
      "* Basename: Pretrained_SimCLR-epoch_99\n",
      "* Version:v_2-version_0\n"
     ]
    },
    {
     "name": "stderr",
     "output_type": "stream",
     "text": [
      "LOCAL_RANK: 0 - CUDA_VISIBLE_DEVICES: [0]\n"
     ]
    },
    {
     "data": {
      "application/vnd.jupyter.widget-view+json": {
       "model_id": "d4f829864a324f44bd6dfa5071698a18",
       "version_major": 2,
       "version_minor": 0
      },
      "text/plain": [
       "Testing: |          | 0/? [00:00<?, ?it/s]"
      ]
     },
     "metadata": {},
     "output_type": "display_data"
    },
    {
     "data": {
      "text/html": [
       "<pre style=\"white-space:pre;overflow-x:auto;line-height:normal;font-family:Menlo,'DejaVu Sans Mono',consolas,'Courier New',monospace\">┏━━━━━━━━━━━━━━━━━━━━━━━━━━━┳━━━━━━━━━━━━━━━━━━━━━━━━━━━┓\n",
       "┃<span style=\"font-weight: bold\">        Test metric        </span>┃<span style=\"font-weight: bold\">       DataLoader 0        </span>┃\n",
       "┡━━━━━━━━━━━━━━━━━━━━━━━━━━━╇━━━━━━━━━━━━━━━━━━━━━━━━━━━┩\n",
       "│<span style=\"color: #008080; text-decoration-color: #008080\">       test_accuracy       </span>│<span style=\"color: #800080; text-decoration-color: #800080\">    0.6754999756813049     </span>│\n",
       "│<span style=\"color: #008080; text-decoration-color: #008080\">         test_loss         </span>│<span style=\"color: #800080; text-decoration-color: #800080\">     1.053962230682373     </span>│\n",
       "└───────────────────────────┴───────────────────────────┘\n",
       "</pre>\n"
      ],
      "text/plain": [
       "┏━━━━━━━━━━━━━━━━━━━━━━━━━━━┳━━━━━━━━━━━━━━━━━━━━━━━━━━━┓\n",
       "┃\u001b[1m \u001b[0m\u001b[1m       Test metric       \u001b[0m\u001b[1m \u001b[0m┃\u001b[1m \u001b[0m\u001b[1m      DataLoader 0       \u001b[0m\u001b[1m \u001b[0m┃\n",
       "┡━━━━━━━━━━━━━━━━━━━━━━━━━━━╇━━━━━━━━━━━━━━━━━━━━━━━━━━━┩\n",
       "│\u001b[36m \u001b[0m\u001b[36m      test_accuracy      \u001b[0m\u001b[36m \u001b[0m│\u001b[35m \u001b[0m\u001b[35m   0.6754999756813049    \u001b[0m\u001b[35m \u001b[0m│\n",
       "│\u001b[36m \u001b[0m\u001b[36m        test_loss        \u001b[0m\u001b[36m \u001b[0m│\u001b[35m \u001b[0m\u001b[35m    1.053962230682373    \u001b[0m\u001b[35m \u001b[0m│\n",
       "└───────────────────────────┴───────────────────────────┘\n"
      ]
     },
     "metadata": {},
     "output_type": "display_data"
    },
    {
     "name": "stdout",
     "output_type": "stream",
     "text": [
      "====   6 logs/10_SimCLR/Downstream/Pretrained_ImageNet/ft_20_ep/v_0/version_0/checkpoints/epoch=3-step=500.ckpt ====\n",
      "* Filename: logs/10_SimCLR/Downstream/Pretrained_ImageNet/ft_20_ep/v_0/version_0/checkpoints/epoch=3-step=500.ckpt\n",
      "* Basename: Pretrained_ImageNet\n",
      "* Version:v_0-version_0\n"
     ]
    },
    {
     "name": "stderr",
     "output_type": "stream",
     "text": [
      "LOCAL_RANK: 0 - CUDA_VISIBLE_DEVICES: [0]\n"
     ]
    },
    {
     "data": {
      "application/vnd.jupyter.widget-view+json": {
       "model_id": "ffed2c3f4042477d80a2afd62b17d0bf",
       "version_major": 2,
       "version_minor": 0
      },
      "text/plain": [
       "Testing: |          | 0/? [00:00<?, ?it/s]"
      ]
     },
     "metadata": {},
     "output_type": "display_data"
    },
    {
     "data": {
      "text/html": [
       "<pre style=\"white-space:pre;overflow-x:auto;line-height:normal;font-family:Menlo,'DejaVu Sans Mono',consolas,'Courier New',monospace\">┏━━━━━━━━━━━━━━━━━━━━━━━━━━━┳━━━━━━━━━━━━━━━━━━━━━━━━━━━┓\n",
       "┃<span style=\"font-weight: bold\">        Test metric        </span>┃<span style=\"font-weight: bold\">       DataLoader 0        </span>┃\n",
       "┡━━━━━━━━━━━━━━━━━━━━━━━━━━━╇━━━━━━━━━━━━━━━━━━━━━━━━━━━┩\n",
       "│<span style=\"color: #008080; text-decoration-color: #008080\">       test_accuracy       </span>│<span style=\"color: #800080; text-decoration-color: #800080\">    0.7052500247955322     </span>│\n",
       "│<span style=\"color: #008080; text-decoration-color: #008080\">         test_loss         </span>│<span style=\"color: #800080; text-decoration-color: #800080\">    0.9277666807174683     </span>│\n",
       "└───────────────────────────┴───────────────────────────┘\n",
       "</pre>\n"
      ],
      "text/plain": [
       "┏━━━━━━━━━━━━━━━━━━━━━━━━━━━┳━━━━━━━━━━━━━━━━━━━━━━━━━━━┓\n",
       "┃\u001b[1m \u001b[0m\u001b[1m       Test metric       \u001b[0m\u001b[1m \u001b[0m┃\u001b[1m \u001b[0m\u001b[1m      DataLoader 0       \u001b[0m\u001b[1m \u001b[0m┃\n",
       "┡━━━━━━━━━━━━━━━━━━━━━━━━━━━╇━━━━━━━━━━━━━━━━━━━━━━━━━━━┩\n",
       "│\u001b[36m \u001b[0m\u001b[36m      test_accuracy      \u001b[0m\u001b[36m \u001b[0m│\u001b[35m \u001b[0m\u001b[35m   0.7052500247955322    \u001b[0m\u001b[35m \u001b[0m│\n",
       "│\u001b[36m \u001b[0m\u001b[36m        test_loss        \u001b[0m\u001b[36m \u001b[0m│\u001b[35m \u001b[0m\u001b[35m   0.9277666807174683    \u001b[0m\u001b[35m \u001b[0m│\n",
       "└───────────────────────────┴───────────────────────────┘\n"
      ]
     },
     "metadata": {},
     "output_type": "display_data"
    },
    {
     "name": "stdout",
     "output_type": "stream",
     "text": [
      "====   7 logs/10_SimCLR/Downstream/Pretrained_ImageNet/ft_20_ep/v_1/version_0/checkpoints/epoch=19-step=2500.ckpt ====\n",
      "* Filename: logs/10_SimCLR/Downstream/Pretrained_ImageNet/ft_20_ep/v_1/version_0/checkpoints/epoch=19-step=2500.ckpt\n",
      "* Basename: Pretrained_ImageNet\n",
      "* Version:v_1-version_0\n"
     ]
    },
    {
     "name": "stderr",
     "output_type": "stream",
     "text": [
      "LOCAL_RANK: 0 - CUDA_VISIBLE_DEVICES: [0]\n"
     ]
    },
    {
     "data": {
      "application/vnd.jupyter.widget-view+json": {
       "model_id": "d00f4042c33b472397132650ee08768f",
       "version_major": 2,
       "version_minor": 0
      },
      "text/plain": [
       "Testing: |          | 0/? [00:00<?, ?it/s]"
      ]
     },
     "metadata": {},
     "output_type": "display_data"
    },
    {
     "data": {
      "text/html": [
       "<pre style=\"white-space:pre;overflow-x:auto;line-height:normal;font-family:Menlo,'DejaVu Sans Mono',consolas,'Courier New',monospace\">┏━━━━━━━━━━━━━━━━━━━━━━━━━━━┳━━━━━━━━━━━━━━━━━━━━━━━━━━━┓\n",
       "┃<span style=\"font-weight: bold\">        Test metric        </span>┃<span style=\"font-weight: bold\">       DataLoader 0        </span>┃\n",
       "┡━━━━━━━━━━━━━━━━━━━━━━━━━━━╇━━━━━━━━━━━━━━━━━━━━━━━━━━━┩\n",
       "│<span style=\"color: #008080; text-decoration-color: #008080\">       test_accuracy       </span>│<span style=\"color: #800080; text-decoration-color: #800080\">    0.7601249814033508     </span>│\n",
       "│<span style=\"color: #008080; text-decoration-color: #008080\">         test_loss         </span>│<span style=\"color: #800080; text-decoration-color: #800080\">     0.967815101146698     </span>│\n",
       "└───────────────────────────┴───────────────────────────┘\n",
       "</pre>\n"
      ],
      "text/plain": [
       "┏━━━━━━━━━━━━━━━━━━━━━━━━━━━┳━━━━━━━━━━━━━━━━━━━━━━━━━━━┓\n",
       "┃\u001b[1m \u001b[0m\u001b[1m       Test metric       \u001b[0m\u001b[1m \u001b[0m┃\u001b[1m \u001b[0m\u001b[1m      DataLoader 0       \u001b[0m\u001b[1m \u001b[0m┃\n",
       "┡━━━━━━━━━━━━━━━━━━━━━━━━━━━╇━━━━━━━━━━━━━━━━━━━━━━━━━━━┩\n",
       "│\u001b[36m \u001b[0m\u001b[36m      test_accuracy      \u001b[0m\u001b[36m \u001b[0m│\u001b[35m \u001b[0m\u001b[35m   0.7601249814033508    \u001b[0m\u001b[35m \u001b[0m│\n",
       "│\u001b[36m \u001b[0m\u001b[36m        test_loss        \u001b[0m\u001b[36m \u001b[0m│\u001b[35m \u001b[0m\u001b[35m    0.967815101146698    \u001b[0m\u001b[35m \u001b[0m│\n",
       "└───────────────────────────┴───────────────────────────┘\n"
      ]
     },
     "metadata": {},
     "output_type": "display_data"
    },
    {
     "name": "stdout",
     "output_type": "stream",
     "text": [
      "====   8 logs/10_SimCLR/Downstream/Pretrained_ImageNet/ft_20_ep/v_2/version_0/checkpoints/epoch=4-step=625.ckpt ====\n",
      "* Filename: logs/10_SimCLR/Downstream/Pretrained_ImageNet/ft_20_ep/v_2/version_0/checkpoints/epoch=4-step=625.ckpt\n",
      "* Basename: Pretrained_ImageNet\n",
      "* Version:v_2-version_0\n"
     ]
    },
    {
     "name": "stderr",
     "output_type": "stream",
     "text": [
      "LOCAL_RANK: 0 - CUDA_VISIBLE_DEVICES: [0]\n"
     ]
    },
    {
     "data": {
      "application/vnd.jupyter.widget-view+json": {
       "model_id": "523ef36209bb4f7bbfd5e4316638da52",
       "version_major": 2,
       "version_minor": 0
      },
      "text/plain": [
       "Testing: |          | 0/? [00:00<?, ?it/s]"
      ]
     },
     "metadata": {},
     "output_type": "display_data"
    },
    {
     "data": {
      "text/html": [
       "<pre style=\"white-space:pre;overflow-x:auto;line-height:normal;font-family:Menlo,'DejaVu Sans Mono',consolas,'Courier New',monospace\">┏━━━━━━━━━━━━━━━━━━━━━━━━━━━┳━━━━━━━━━━━━━━━━━━━━━━━━━━━┓\n",
       "┃<span style=\"font-weight: bold\">        Test metric        </span>┃<span style=\"font-weight: bold\">       DataLoader 0        </span>┃\n",
       "┡━━━━━━━━━━━━━━━━━━━━━━━━━━━╇━━━━━━━━━━━━━━━━━━━━━━━━━━━┩\n",
       "│<span style=\"color: #008080; text-decoration-color: #008080\">       test_accuracy       </span>│<span style=\"color: #800080; text-decoration-color: #800080\">    0.7551249861717224     </span>│\n",
       "│<span style=\"color: #008080; text-decoration-color: #008080\">         test_loss         </span>│<span style=\"color: #800080; text-decoration-color: #800080\">    0.7859376072883606     </span>│\n",
       "└───────────────────────────┴───────────────────────────┘\n",
       "</pre>\n"
      ],
      "text/plain": [
       "┏━━━━━━━━━━━━━━━━━━━━━━━━━━━┳━━━━━━━━━━━━━━━━━━━━━━━━━━━┓\n",
       "┃\u001b[1m \u001b[0m\u001b[1m       Test metric       \u001b[0m\u001b[1m \u001b[0m┃\u001b[1m \u001b[0m\u001b[1m      DataLoader 0       \u001b[0m\u001b[1m \u001b[0m┃\n",
       "┡━━━━━━━━━━━━━━━━━━━━━━━━━━━╇━━━━━━━━━━━━━━━━━━━━━━━━━━━┩\n",
       "│\u001b[36m \u001b[0m\u001b[36m      test_accuracy      \u001b[0m\u001b[36m \u001b[0m│\u001b[35m \u001b[0m\u001b[35m   0.7551249861717224    \u001b[0m\u001b[35m \u001b[0m│\n",
       "│\u001b[36m \u001b[0m\u001b[36m        test_loss        \u001b[0m\u001b[36m \u001b[0m│\u001b[35m \u001b[0m\u001b[35m   0.7859376072883606    \u001b[0m\u001b[35m \u001b[0m│\n",
       "└───────────────────────────┴───────────────────────────┘\n"
      ]
     },
     "metadata": {},
     "output_type": "display_data"
    }
   ],
   "source": [
    "from lightning import Trainer\n",
    "\n",
    "trainer = Trainer()\n",
    "\n",
    "# Write output CSV file header\n",
    "with open(output_csv_filename, \"w\") as f:\n",
    "    f.write(f\"Model name,Version,Accuracy,ckpt_filename\\n\")\n",
    "\n",
    "# For each checkpoint file.\n",
    "for i, ckpt_filename in enumerate(model_ckpt_files):\n",
    "    print(f\"==== {i:3d} {ckpt_filename} ====\")\n",
    "\n",
    "    # Model basename\n",
    "    info = ckpt_filename.split(\"/\")    \n",
    "    basename = info[3]\n",
    "    version = info[5] + \"-\" + info[6]\n",
    "    print(f\"* Filename: {ckpt_filename}\\n* Basename: {basename}\\n* Version:{version}\")\n",
    "\n",
    "    # Load the model\n",
    "    model = SimpleSupervisedModel.load_from_checkpoint(ckpt_filename, \n",
    "                                        backbone=generate_backbone(), \n",
    "                                        fc = generate_pred_head(),\n",
    "                                        loss_fn=torch.nn.CrossEntropyLoss(),\n",
    "                                        test_metrics={\"accuracy\": Accuracy(\"multiclass\", num_classes=len(class_names))})\n",
    "\n",
    "    # Compute the accuracy on test set.\n",
    "    test_result = trainer.test(model, datamodule)\n",
    "    acc = test_result[0][\"test_accuracy\"] * 100\n",
    "\n",
    "    # Append result to CSV file.\n",
    "    with open(output_csv_filename, \"a\") as f:\n",
    "        f.write(f\"{basename},{version},{acc},{ckpt_filename}\\n\")"
   ]
  },
  {
   "cell_type": "markdown",
   "metadata": {},
   "source": [
    "### 6.3 Plotting the results\n",
    "\n",
    "Finally, let's visualize the results stored in the CSV file.\n",
    "We will use the Pandas and Plotly libraries for data handling and interactive plotting.\n",
    "To begin, we will load the CSV contents into a Pandas DataFrame."
   ]
  },
  {
   "cell_type": "code",
   "execution_count": 17,
   "metadata": {},
   "outputs": [
    {
     "data": {
      "text/html": [
       "<div>\n",
       "<style scoped>\n",
       "    .dataframe tbody tr th:only-of-type {\n",
       "        vertical-align: middle;\n",
       "    }\n",
       "\n",
       "    .dataframe tbody tr th {\n",
       "        vertical-align: top;\n",
       "    }\n",
       "\n",
       "    .dataframe thead th {\n",
       "        text-align: right;\n",
       "    }\n",
       "</style>\n",
       "<table border=\"1\" class=\"dataframe\">\n",
       "  <thead>\n",
       "    <tr style=\"text-align: right;\">\n",
       "      <th></th>\n",
       "      <th>Model name</th>\n",
       "      <th>Version</th>\n",
       "      <th>Accuracy</th>\n",
       "      <th>ckpt_filename</th>\n",
       "    </tr>\n",
       "  </thead>\n",
       "  <tbody>\n",
       "    <tr>\n",
       "      <th>0</th>\n",
       "      <td>From_Scratch</td>\n",
       "      <td>v_1-version_0</td>\n",
       "      <td>57.812500</td>\n",
       "      <td>logs/10_SimCLR/Downstream/From_Scratch/ft_20_e...</td>\n",
       "    </tr>\n",
       "    <tr>\n",
       "      <th>1</th>\n",
       "      <td>From_Scratch</td>\n",
       "      <td>v_2-version_0</td>\n",
       "      <td>57.700002</td>\n",
       "      <td>logs/10_SimCLR/Downstream/From_Scratch/ft_20_e...</td>\n",
       "    </tr>\n",
       "    <tr>\n",
       "      <th>2</th>\n",
       "      <td>From_Scratch</td>\n",
       "      <td>v_0-version_0</td>\n",
       "      <td>57.862502</td>\n",
       "      <td>logs/10_SimCLR/Downstream/From_Scratch/ft_20_e...</td>\n",
       "    </tr>\n",
       "    <tr>\n",
       "      <th>3</th>\n",
       "      <td>Pretrained_SimCLR-epoch_99</td>\n",
       "      <td>v_0-version_0</td>\n",
       "      <td>63.024998</td>\n",
       "      <td>logs/10_SimCLR/Downstream/Pretrained_SimCLR-ep...</td>\n",
       "    </tr>\n",
       "    <tr>\n",
       "      <th>4</th>\n",
       "      <td>Pretrained_SimCLR-epoch_99</td>\n",
       "      <td>v_1-version_0</td>\n",
       "      <td>63.412499</td>\n",
       "      <td>logs/10_SimCLR/Downstream/Pretrained_SimCLR-ep...</td>\n",
       "    </tr>\n",
       "  </tbody>\n",
       "</table>\n",
       "</div>"
      ],
      "text/plain": [
       "                   Model name        Version   Accuracy  \\\n",
       "0                From_Scratch  v_1-version_0  57.812500   \n",
       "1                From_Scratch  v_2-version_0  57.700002   \n",
       "2                From_Scratch  v_0-version_0  57.862502   \n",
       "3  Pretrained_SimCLR-epoch_99  v_0-version_0  63.024998   \n",
       "4  Pretrained_SimCLR-epoch_99  v_1-version_0  63.412499   \n",
       "\n",
       "                                       ckpt_filename  \n",
       "0  logs/10_SimCLR/Downstream/From_Scratch/ft_20_e...  \n",
       "1  logs/10_SimCLR/Downstream/From_Scratch/ft_20_e...  \n",
       "2  logs/10_SimCLR/Downstream/From_Scratch/ft_20_e...  \n",
       "3  logs/10_SimCLR/Downstream/Pretrained_SimCLR-ep...  \n",
       "4  logs/10_SimCLR/Downstream/Pretrained_SimCLR-ep...  "
      ]
     },
     "execution_count": 17,
     "metadata": {},
     "output_type": "execute_result"
    }
   ],
   "source": [
    "import pandas as pd\n",
    "df = pd.read_csv(output_csv_filename)\n",
    "# Show the first entries\n",
    "df.head()"
   ]
  },
  {
   "cell_type": "markdown",
   "metadata": {},
   "source": [
    "Note that the DataFrame is structured such that each row represents the accuracy achieved by a single model version.\n",
    "\n",
    "The next command lists all the unique values found on the `Model name` column."
   ]
  },
  {
   "cell_type": "code",
   "execution_count": 18,
   "metadata": {},
   "outputs": [
    {
     "data": {
      "text/plain": [
       "['From_Scratch', 'Pretrained_ImageNet', 'Pretrained_SimCLR-epoch_99']"
      ]
     },
     "execution_count": 18,
     "metadata": {},
     "output_type": "execute_result"
    }
   ],
   "source": [
    "sorted(df[\"Model name\"].unique())"
   ]
  },
  {
   "cell_type": "markdown",
   "metadata": {},
   "source": [
    "Now, let’s visualize the results using Plotly's box plot tool.\n",
    "\n",
    "> **Hint**: If you want to display an interactive Plotly chart, set `pio.renderers.default` to `\"jupyterlab\"` or `\"vscode\"`.\n",
    "You can list the available renderers on your system by printing the `pio.renderers` variable."
   ]
  },
  {
   "cell_type": "code",
   "execution_count": 19,
   "metadata": {},
   "outputs": [
    {
     "data": {
      "image/png": "[encoded data removed]"
     },
     "metadata": {},
     "output_type": "display_data"
    }
   ],
   "source": [
    "import plotly.express as px\n",
    "\n",
    "# Configure the plotly renderer to use jupyterlab - you might print the \n",
    "# contents of the pio.renderers variable to check for other available \n",
    "# renderers (examples include: vscode, png, jpeg, pdf, ...)\n",
    "import plotly.io as pio\n",
    "pio.renderers.default = \"png\"\n",
    "#print(pio.renderers)\n",
    "#pio.renderers.default = \"jupyterlab\"\n",
    "\n",
    "# Create and show the plot.\n",
    "fig = px.box(df, x=\"Model name\", y=\"Accuracy\", color=\"Model name\", points=\"all\")\n",
    "fig.show()"
   ]
  },
  {
   "cell_type": "markdown",
   "metadata": {},
   "source": [
    "Notice that models with backbones pretrained on ImageNet consistently outperform the others.\n",
    "Additionally, models using backbones pretrained with SimCLR for 20 epochs perform significantly better than those trained from scratch.\n",
    "\n",
    "Although the SimCLR-pretrained backbones do not reach the performance level of those pretrained on ImageNet, it's important to highlight that they were pretrained for only 20 epochs—and notably, without the use of labels. \n",
    "This contrasts with ImageNet pretraining, which relies on extensive labeled data."
   ]
  },
  {
   "cell_type": "markdown",
   "metadata": {},
   "source": [
    "#### Note on Plotly box plots\n",
    "\n",
    "Plotly offers a rich API that enables extensive customization and export of charts in various formats.\n",
    "For example, the following code demonstrates how to adjust the display order of data categories, customize label formatting, and control the position of the legend."
   ]
  },
  {
   "cell_type": "code",
   "execution_count": 20,
   "metadata": {},
   "outputs": [
    {
     "data": {
      "image/png": "[encoded data removed]"
     },
     "metadata": {},
     "output_type": "display_data"
    }
   ],
   "source": [
    "import plotly.express as px\n",
    "\n",
    "# Create the plot.\n",
    "fig = px.box(df, x=\"Model name\", y=\"Accuracy\", \n",
    "             color=\"Model name\", points=\"all\",\n",
    "             category_orders={\"Model name\": [\"From_Scratch\", \"Pretrained_SimCLR-epoch_99\", \"Pretrained_ImageNet\"]},\n",
    "             labels={\"Model name\": \"Models\", \"Accuracy\": \"Accuracy (%)\"}\n",
    "             )\n",
    "# Hide the group legend\n",
    "fig.update_xaxes(showticklabels=False)\n",
    "# Format y-axis values\n",
    "fig.layout.yaxis.ticksuffix = '%'\n",
    "# Format legend positioning.\n",
    "fig.update_layout(legend=dict(\n",
    "    orientation=\"h\",\n",
    "    yanchor=\"bottom\",\n",
    "    y=1.02,\n",
    "    xanchor=\"left\",\n",
    "    x=0.0\n",
    "))\n",
    "\n",
    "fig.show()"
   ]
  },
  {
   "cell_type": "markdown",
   "metadata": {},
   "source": [
    "## <a id=\"sec_7\">7. Exercises</a>"
   ]
  },
  {
   "cell_type": "markdown",
   "metadata": {},
   "source": [
    "### 7.1 Inspecting the Training Curves\n",
    "\n",
    "Train the models for an extended number of epochs (e.g., 50 or 100) and examine the training and validation loss and accuracy curves using TensorBoard.\n",
    "\n",
    "* What trends do you observe at the beginning and end of training?\n",
    "\n",
    "* Are there noticeable differences in convergence or overfitting across different backbone types?\n",
    "\n",
    "### 7.2 Freeze vs Full Fine-tuning\n",
    "\n",
    "Modify the training procedure to include models where the backbone is frozen (i.e., only the prediction head is trained), and compare them to models with fully fine-tuned backbones.\n",
    "\n",
    "* How does freezing the backbone impact performance across the different pretrained settings (Scratch, SimCLR, ImageNet)?\n",
    "\n",
    "* What insights can you draw about the quality and transferability of the learned representations?\n",
    "\n",
    "### 7.3 Qualitative evaluation of embeddings with t-SNE\n",
    "\n",
    "Use the pretrained backbones to extract feature embeddings from the dataset, and visualize them using the t-SNE dimensionality reduction technique.\n",
    "\n",
    "* How well-separated are the classes in the embedding space for each backbone type?\n",
    "\n",
    "* What conclusions can you draw about the discriminative power of the learned representations?\n",
    "\n",
    "### 7.4 Training with Limited Data\n",
    "\n",
    "Train the models using only a small subset of the training dataset. \n",
    "Compare the performance of models with the following backbone types:\n",
    "  - **From scratch**;\n",
    "  - **Pretrained on ImageNet**; and \n",
    "  - **Pretrained with SimCLR**.\n",
    "\n",
    "Try different data proportions such as 1%, 5%, 10%, 50%, and 100% of the training set.\n",
    "\n",
    "* How does the amount of data affect the performance of each model?\n",
    "\n",
    "* Which backbones are more robust in low-data regimes?\n",
    "\n"
   ]
  }
 ],
 "metadata": {
  "kernelspec": {
   "display_name": "Python 3",
   "language": "python",
   "name": "python3"
  },
  "language_info": {
   "codemirror_mode": {
    "name": "ipython",
    "version": 3
   },
   "file_extension": ".py",
   "mimetype": "text/x-python",
   "name": "python",
   "nbconvert_exporter": "python",
   "pygments_lexer": "ipython3",
   "version": "3.10.12"
  }
 },
 "nbformat": 4,
 "nbformat_minor": 2
}
