{
  "cells": [
    {
      "cell_type": "markdown",
      "metadata": {
        "id": "RgqFcfBDd_wR"
      },
      "source": [
        "<a href=\"https://colab.research.google.com/github/eborin/SSL-course/blob/main/07_minerva_computer_vision_example.ipynb\" target=\"_parent\"><img src=\"https://colab.research.google.com/assets/colab-badge.svg\" alt=\"Open In Colab\"/></a>\n",
        "\n",
        "[View Source Code](https://github.com/eborin/SSL-course/blob/main/07_minerva_computer_vision_example.ipynb)\n",
        "\n",
        "# Introduction to Minerva\n",
        "\n",
        "This notebook introduces the [Minerva framework](https://github.com/discovery-unicamp/Minerva) and demonstrates how to solve a computer vision task similar to the one covered in tutorials `03_pytorch_computer_vision.ipynb` and `06_lightning_computer_vision_example.ipynb` -- image classification.\n",
        "\n",
        "As you'll see, Minerva is built on top of the Lightning API, and training a model with Minerva is very similar to doing so with Lightning."
      ]
    },
    {
      "cell_type": "markdown",
      "metadata": {
        "id": "23a20MfJd_wT"
      },
      "source": [
        "## <a id=\"sec_1\">1. Introduction</a>"
      ]
    },
    {
      "cell_type": "markdown",
      "metadata": {
        "id": "W2dh14Eud_wT"
      },
      "source": [
        "### 1.1 Objective\n",
        "\n",
        "The main objective of this tutorial is to simplify the transition from PyTorch to Minerva by guiding users through a computer vision task similar to those explored in the PyTorch-based (`03_pytorch_computer_vision.ipynb`) and Lightning-based (`06_lightning_computer_vision_example.ipynb`) tutorials.\n",
        "\n",
        "Specifically, we will build, train, and evaluate a downstream machine learning model to solve the STL10 image classification task using the Minerva framework.\n",
        "> Note: To ease the transition from Lightning, this tutorial focuses solely on the downstream task. \n",
        "  We will not cover pretraining a backbone using self-supervised learning (SSL) techniques at this stage."
      ]
    },
    {
      "cell_type": "markdown",
      "metadata": {},
      "source": [
        "### 1.2 The Minerva Framework\n",
        "\n",
        "[Minerva](https://github.com/discovery-unicamp/Minerva) is a PyTorch-Lightning-based framework for training machine learning models, designed to support research and experimentation with self-supervised learning (SSL) methods. \n",
        "\n",
        "It provides a modular set of building blocks—such as backbones, projection and prediction heads, pretext tasks, loss functions, optimizers, and more—that can be composed to implement and evaluate various SSL techniques.\n",
        "\n",
        "Minerva offers a wide range of features to support your machine learning projects:\n",
        "\n",
        "* **Model Creation** -- Offers a variety of models and architectures to choose from.\n",
        "\n",
        "* **Training and Evaluation** --  Provides tools to train and evaluate models, including loss functions, optimizers, and evaluation metrics.\n",
        "\n",
        "* **Data Transformation** --  Includes tools for preprocessing and transforming data, such as data loaders, data augmentation, and normalization.\n",
        "\n",
        "* **Modular Design** --  Designed to be modular and extensible, allowing easy integration of new features and functionalities.\n",
        "\n",
        "* **Reproducibility** --  Ensures reproducibility with tools for versioning, configuration, and experiment logging.\n",
        "\n",
        "* **Self-Supervised Learning (SSL) Support** --  Supports Self-Supervised Learning (SSL) for training models with limited labeled data.\n",
        "\n",
        "* **Development Environment** --  Provides a pre-configured development environment with all dependencies installed.\n",
        "\n",
        "\n",
        "#### 1.2.1 Key concepts\n",
        "\n",
        "The figure below illustrates a self-supervised learning (SSL) framework.\n",
        "\n",
        "First, a **pretext task** is used to train a **backbone**.\n",
        "Once trained, this **pretrained backbone** is then used as part of the target model, which is trained to solve the **downstream (or target)** task.\n",
        "> Note: In this tutorial, we will focus solely on the downstream task and will not cover the pretraining phase.\n",
        "To that end, we will use a ResNet50 model pre-trained on the ImageNet dataset as the backbone.\n",
        "\n",
        "![SSL overview](https://raw.githubusercontent.com/eborin/SSL-course/main/images/07-fig-backbone-projector-predictor.png)\n",
        "\n",
        "The **Backbone** is also known as the feature extractor or representation extractor.\n",
        "This is typically a machine learning model (or a subset of its layers) used to encode input data into meaningful representations.\n",
        "As illustrated in the previous figure, it is tipically combined with other components (e.g., a projection head) and trained in the pretext task.\n",
        "\n",
        "The **Pretext task** is a training task designed to learn useful representations in an unsupervised manner—i.e., without requiring manually labeled data.\n",
        "\n",
        "The **Projection head** is a model component (tipically, layers) appended to the backbone during pretext training, enabling the model to solve the pretext task.\n",
        "\n",
        "The **Downstream task**, also called the target task, is usually a supervised learning task trained using labeled data. \n",
        "It is designed to train the downstream model to solve the target task.\n",
        "\n",
        "The **Prediction head** is a model component (tipically layers) attached to the backbone to compose the downstream model.\n",
        "\n",
        "The **Downstream model** is the model designed to solve the target task. It is usually composed of a pretrained backbone and a prediction head, which are further refined (trained) using the target dataset.\n",
        "\n",
        "#### 1.2.2 Minerva structure\n",
        "\n",
        "Minerva is organized into the following key modules:\n",
        "\n",
        "1. **data**: The [`minerva.data`](https://discovery-unicamp.github.io/Minerva/autoapi/minerva/data/index.html) module includes classes for reading and constructing datasets, as well as building data modules.\n",
        "Refer to the [README.md](https://github.com/discovery-unicamp/Minerva/blob/main/minerva/data/README.md) file for a list of available dataset readers.\n",
        "    > Note: In this notebook we use the [MinervaDataModule](https://discovery-unicamp.github.io/Minerva/autoapi/minerva/data/data_modules/base/index.html#minerva.data.data_modules.base.MinervaDataModule) to manage the training, validation, and test splits of the STL dataset.\n",
        "\n",
        "2. **models**: The [`minerva.models`](https://discovery-unicamp.github.io/Minerva/autoapi/minerva/models/index.html) module provides model components, including backbones, heads, and pretext task implementations.\n",
        "See the [README.md](https://github.com/discovery-unicamp/Minerva/blob/main/minerva/models/README.md)  for details on supported SSL techniques.\n",
        "This module is divided into two submodules:\n",
        "  - **`nets`**: Contains components like backbones, prediction heads, and projection heads, along with tools for building downstream models.\n",
        "  - **`ssl`**: Includes models that implement pretext tasks used during the pretraining of backbones.\n",
        "    > Note: This notebook utilizes the [`SimpleSupervisedModel`](https://discovery-unicamp.github.io/Minerva/autoapi/minerva/models/nets/base/index.html#minerva.models.nets.base.SimpleSupervisedModel) to build a supervised model with a backbone and a prediction head.\n",
        "\n",
        "3. **losses**: The [`minerva.losses`](https://discovery-unicamp.github.io/Minerva/autoapi/minerva/losses/index.html) module provides a collection of loss functions commonly used in SSL tasks.\n",
        "\n",
        "4. **optimizers**: The [`minerva.optimizers`](https://discovery-unicamp.github.io/Minerva/autoapi/minerva/optimizers/index.html) module offers implementations of alternative optimizers.\n",
        "    > Note: Minerva is fully compatible with PyTorch and PyTorch Lightning optimizers. Users are encouraged to reuse existing optimizers rather than reimplementing them.\n",
        "\n",
        "5. **transforms**: The [`minerva.transforms`](https://discovery-unicamp.github.io/Minerva/autoapi/minerva/transforms/index.html) module includes a suite of dataset transformations, useful for data augmentation—particularly in contrastive SSL setups.\n",
        "\n",
        "6. **pipelines**: The [`minerva.pipelines`](https://discovery-unicamp.github.io/Minerva/autoapi/minerva/pipelines/index.html) module offers utilities for structuring training and evaluation in a reproducible manner.\n",
        "\n",
        "7. **analysis**: The [`minerva.analysis`](https://discovery-unicamp.github.io/Minerva/autoapi/minerva/analysis/index.html) module provides tools for performance evaluation and visualization.\n",
        "\n",
        "8. **callback**: The [`minerva.callback`](https://discovery-unicamp.github.io/Minerva/autoapi/minerva/callback/index.html) module contains PyTorch Lightning-based callbacks for training monitoring and logging.\n",
        "\n",
        "9. **samplers**: The [`minerva.samplers`](https://discovery-unicamp.github.io/Minerva/autoapi/minerva/samplers/index.html) module includes advanced data samplers to support complex sampling strategies.\n",
        "\n",
        "10. **utils**: The [`minerva.utils`](https://discovery-unicamp.github.io/Minerva/autoapi/minerva/utils/index.html) module provides general-purpose utility functions and classes.\n",
        "\n",
        "#### 1.2.3 Training backbones with SSL\n",
        "\n",
        "To pretrain a backbone with minerva, you may follow these steps:\n",
        "\n",
        "##### Instantiate the backbone\n",
        "\n",
        "First, you need an instance of a backbone to be pretrained. \n",
        "Backbones are PyTorch models and can be reused in Lightning and Minerva workflows. A variety of backbone architectures are implemented within the models module.\n",
        "\n",
        "##### Build the Minerva SSL model\n",
        "\n",
        "Minerva provides several SSL models under the `models.ssl` submodule. \n",
        "These models typically accept a backbone and, optionally, a projection head, to configure the pretext task.\n",
        "\n",
        "##### Setup the data modules\n",
        "\n",
        "Depending on the SSL method, a data module should be instantiated with an appropriate dataset. \n",
        "The dataset may be labeled or unlabeled and often includes augmentation transformations suited to the SSL technique.\n",
        "Minerva `data` module includes classes for reading and constructing datasets, as well as building data modules. Also, Minerva `transforms` module includes a suite of dataset transformations, useful for data augmentation—particularly in contrastive SSL setups.\n",
        "\n",
        "##### Training the model\n",
        "\n",
        "Once the SSL model and datamodule are set up, use the PyTorch Lightning Trainer's `fit()` method to start the pretraining process.\n",
        "\n",
        "#### 1.2.4 Building and Refining a Downstream Model with a Pretrained Backbone\n",
        "\n",
        "After pretraining a backbone, it can be leveraged to construct a downstream model—i.e., a model tailored for a specific supervised task. \n",
        "This downstream model is then trained using labeled data in a fully supervised manner.\n",
        "\n",
        "There are multiple strategies for assembling a downstream model from a pretrained backbone. \n",
        "A common approach involves attaching a prediction head to the backbone, forming a complete architecture for the target task.\n",
        "\n",
        "In this tutorial, we utilize the [`SimpleSupervisedModel`](https://discovery-unicamp.github.io/Minerva/autoapi/minerva/models/nets/index.html#minerva.models.nets.SimpleSupervisedModel) class provided by Minerva. \n",
        "This utility simplifies the process of building supervised models by seamlessly integrating a backbone with a prediction head.\n",
        "\n"
      ]
    },
    {
      "cell_type": "markdown",
      "metadata": {
        "id": "9zkejg4Ne00w"
      },
      "source": [
        "### 1.3 Importing Minerva\n",
        "\n"
      ]
    },
    {
      "cell_type": "markdown",
      "metadata": {
        "id": "4s_T3nJbe_eO"
      },
      "source": [
        "To import the Minerva module, you must first install it.\n",
        "If you already installed the modules in the `requirements.txt` file, Minerva is already installed.\n",
        "If not, you may install Minerva using `pip` by running the following command on your terminal:\n",
        "\n",
        "```bash\n",
        "pip install minerva-ml\n",
        "```\n",
        "\n",
        "We recommend installing all the packages in `requirements.txt`. To do so, you may run the following command on your terminal:\n",
        "\n",
        "```bash\n",
        "pip install -r requirements.txt\n",
        "```\n",
        "\n",
        "For your convenience, the following code tries to import Minerva module and, if it fails, it tries to install it and import again (It should work on Google Colab)."
      ]
    },
    {
      "cell_type": "code",
      "execution_count": 5,
      "metadata": {
        "id": "J20igr1WfBUF"
      },
      "outputs": [],
      "source": [
        "try:\n",
        "    import minerva\n",
        "except:\n",
        "    try:\n",
        "        #Try to install it and import again\n",
        "        print(\"[INFO]: Could not import the minerva module. Trying to install it!\")\n",
        "        !pip install -q minerva-ml\n",
        "        import minerva\n",
        "        print(\"[INFO]: It looks like minerva was successfully imported!\")\n",
        "    except:\n",
        "        raise Exception(\"[ERROR] Couldn't find the minerva module ... \\n\" +\n",
        "                        \"Please, install it before running the notebook.\\n\"+\n",
        "                        \"You might want to install the modules listed at requirements.txt\\n\" +\n",
        "                        \"To do so, run: \\\"pip install -r requirements.txt\\\"\")"
      ]
    },
    {
      "cell_type": "markdown",
      "metadata": {
        "id": "7Oonlkzwd_wW"
      },
      "source": [
        "### 1.4 What we're going to cover\n",
        "\n",
        "In this tutorial, we’ll demonstrate how to use the [Minerva framework](https://github.com/discovery-unicamp/Minerva) to build and train a model for a computer vision task. \n",
        "Specifically, we will build a supervised model by combining a pretrained backbone (ResNet50 from `torchvision`) with a prediction head and train them so solve the STL10 image classification task using the Minerva framework.\n",
        "\n",
        "| **Topic** | **Contents** |\n",
        "| ----- | ----- |\n",
        "| [**2. Basic setup**](#sec_2) | Import useful modules (torch, torchvision, and lightning). |\n",
        "| [**3. Getting the dataset and datamodule ready**](#sec_3) | Download the dataset and split the train set into train and validation subsets and create the `datamodule`. |\n",
        "| [**4. Building a Minerva SimpleSupervisedModel**](#sec_4) | Build a minerva `SimpleSupervisedModel` to solve the computer vision task. |\n",
        "| [**5. Training the model**](#sec_5) | Train and check the model performance. |\n",
        "| [**6. Predicting with the trained model**](#sec_6) | Perform predictions with the trained model. |\n",
        "| [**7. Exercises**](#sec_7) | Suggested Exercises. |"
      ]
    },
    {
      "cell_type": "markdown",
      "metadata": {
        "id": "jepKs41sd_wW"
      },
      "source": [
        "### 1.5 Where can you get help?\n",
        "\n",
        "In addition to discussing with your colleagues or the course professor, you might also consider:\n",
        "\n",
        "* PyTorch: check the [PyTorch documentation](https://pytorch.org/docs/stable/index.html) and research or post PyTorch related question on the [PyTorch developer forums](https://discuss.pytorch.org/).\n",
        "\n",
        "* Lightning: check the [Lightning documentation](https://lightning.ai/docs/overview/getting-started) and research or post Lightning related question on the [PyTorch Lightning forum](https://lightning.ai/forums/).\n",
        "\n",
        "* Minerva: check the [Minerva docs](https://discovery-unicamp.github.io/Minerva/).\n"
      ]
    },
    {
      "cell_type": "markdown",
      "metadata": {
        "id": "USBxlOBMd_wW"
      },
      "source": [
        "## <a id=\"sec_2\">2. Basic setup</a>"
      ]
    },
    {
      "cell_type": "markdown",
      "metadata": {
        "id": "verPPJDTd_wW"
      },
      "source": [
        "Let's import the basic modules, such as lightning, torch, and other utility modules."
      ]
    },
    {
      "cell_type": "code",
      "execution_count": 6,
      "metadata": {
        "colab": {
          "base_uri": "https://localhost:8080/"
        },
        "id": "hBsHHn48d_wW",
        "outputId": "99aa7286-9c53-4a4a-c283-08d368e404f9"
      },
      "outputs": [
        {
          "name": "stdout",
          "output_type": "stream",
          "text": [
            "PyTorch version: 2.6.0\n",
            "torchvision version: 0.21.0\n",
            "Lightning version: 2.5.0.post0\n"
          ]
        }
      ],
      "source": [
        "# Import PyTorch\n",
        "import torch\n",
        "\n",
        "# Import torchvision\n",
        "import torchvision\n",
        "\n",
        "# Import lightning\n",
        "import lightning as L\n",
        "\n",
        "# Import minerva\n",
        "import minerva\n",
        "\n",
        "# Check versions\n",
        "# Note: your PyTorch version shouldn't be lower than 1.10.0 and torchvision version shouldn't be lower than 0.11\n",
        "print(f\"PyTorch version: {torch.__version__}\")\n",
        "print(f\"torchvision version: {torchvision.__version__}\")\n",
        "print(f\"Lightning version: {L.__version__}\")\n",
        "#print(f\"Minerva version: {M.__version__}\") ## TODO\n",
        "\n",
        "# Import matplotlib for visualization\n",
        "import matplotlib.pyplot as plt"
      ]
    },
    {
      "cell_type": "markdown",
      "metadata": {
        "id": "sEyMCl4gd_wX"
      },
      "source": [
        "Like we did in the Lightning tutorial, let's skip selecting the target device and just focus on defining our set_seed() function. We'll use PyTorch Lightning's `seed_everything()` utility to handle seed setting in a clean and consistent way."
      ]
    },
    {
      "cell_type": "code",
      "execution_count": 7,
      "metadata": {
        "id": "yz29_Xuqd_wX"
      },
      "outputs": [],
      "source": [
        "# Auxiliary function to set both the CPU and GPU seeds\n",
        "def set_seed(seed):\n",
        "    L.seed_everything(seed)"
      ]
    },
    {
      "cell_type": "markdown",
      "metadata": {
        "id": "JewgjmOMd_wX"
      },
      "source": [
        "## <a id='sec_3'>3. Getting the dataset and datamodule ready</a>"
      ]
    },
    {
      "cell_type": "markdown",
      "metadata": {},
      "source": [
        "### 3.1 Getting the STL10 dataset"
      ]
    },
    {
      "cell_type": "markdown",
      "metadata": {
        "id": "NvVlQNTBd_wX"
      },
      "source": [
        "As in the previous tutorial, we will use `torchvision` to get the dataset.\n",
        "However, instead of FashionMNIST, we will work with STL10."
      ]
    },
    {
      "cell_type": "code",
      "execution_count": 8,
      "metadata": {
        "id": "8-mlcfbId_wX"
      },
      "outputs": [],
      "source": [
        "# Setup training data\n",
        "train_dataset = torchvision.datasets.STL10(root=\"data\",\n",
        "                                           split=\"train\",\n",
        "                                           download=True,\n",
        "                                           transform=torchvision.transforms.ToTensor(),\n",
        "                                           target_transform=None)\n",
        "\n",
        "# Setup test data\n",
        "test_dataset = torchvision.datasets.STL10(root=\"data\",\n",
        "                                          split=\"test\",\n",
        "                                          download=True,\n",
        "                                          transform=torchvision.transforms.ToTensor(),\n",
        "                                          target_transform=None)\n",
        "\n",
        "class_names = train_dataset.classes"
      ]
    },
    {
      "cell_type": "markdown",
      "metadata": {
        "id": "_E9hB9D-d_wX"
      },
      "source": [
        "### 3.2 Partitioning the STL10 training set"
      ]
    },
    {
      "cell_type": "markdown",
      "metadata": {
        "id": "IOl1iolqd_wX"
      },
      "source": [
        "Alright. Now, let's split the train_dataset into train and validation sets."
      ]
    },
    {
      "cell_type": "code",
      "execution_count": 9,
      "metadata": {
        "colab": {
          "base_uri": "https://localhost:8080/"
        },
        "id": "2tWKvpAId_wY",
        "outputId": "928ef52e-fd76-438a-ad78-4a5cc76109e4"
      },
      "outputs": [
        {
          "name": "stderr",
          "output_type": "stream",
          "text": [
            "Seed set to 42\n"
          ]
        }
      ],
      "source": [
        "from torch.utils.data import random_split\n",
        "\n",
        "set_seed(42)\n",
        "\n",
        "# Define split sizes (e.g., 80% training, 20% validation)\n",
        "train_size = int(0.8 * len(train_dataset))\n",
        "val_size = len(train_dataset) - train_size\n",
        "\n",
        "# Split the dataset\n",
        "train_data, val_data = random_split(train_dataset, [train_size, val_size])"
      ]
    },
    {
      "cell_type": "markdown",
      "metadata": {
        "id": "1ru1yOVRd_wY"
      },
      "source": [
        "### 3.3 Setting Up the Minerva DataModule"
      ]
    },
    {
      "cell_type": "markdown",
      "metadata": {
        "id": "WggMaQNed_wY"
      },
      "source": [
        "Now that we have the train, validation, and test splits, let's build the `MinervaDataModule`.\n",
        "\n",
        "Minerva DataModules are conceptually similar to PyTorch Lightning DataModules — they encapsulate the training, validation, and test DataLoaders in a single, organized class.\n",
        "While neither Minerva nor Lightning require the use of a DataModule, they help structure the code more cleanly.\n",
        "\n",
        "As we saw in the previous tutorial, it's perfectly valid to instantiate and use PyTorch DataLoaders directly.\n",
        "However, using a DataModule simplifies things by centralizing the data loading logic.\n",
        "Additionally, the trainer object can automatically access the appropriate DataLoader (e.g., for training or testing) from the DataModule.\n",
        "\n",
        "The following code defines the `MinervaDataModule` using the datasets we prepared earlier:"
      ]
    },
    {
      "cell_type": "code",
      "execution_count": 10,
      "metadata": {
        "colab": {
          "base_uri": "https://localhost:8080/"
        },
        "id": "SwqKPJvCd_wY",
        "outputId": "e715f1df-b488-4531-fcc8-29ad47d5de6c"
      },
      "outputs": [
        {
          "name": "stdout",
          "output_type": "stream",
          "text": [
            "==================================================\n",
            "                      🆔 STL10\n",
            "==================================================\n",
            "├── Predict Split: test\n",
            "└── Dataloader class: <class 'torch.utils.data.dataloader.DataLoader'>\n",
            "📂 Datasets:\n",
            "   ├── Train Dataset:\n",
            "   │      <torch.utils.data.dataset.Subset object at 0x14aef4ec0>\n",
            "   ├── Val Dataset:\n",
            "   │      <torch.utils.data.dataset.Subset object at 0x16810ad50>\n",
            "   └── Test Dataset:\n",
            "          Dataset STL10\n",
            "              Number of datapoints: 8000\n",
            "              Root location: data\n",
            "              Split: test\n",
            "              StandardTransform\n",
            "          Transform: ToTensor()\n",
            "\n",
            "🛠 **Dataloader Configurations:**\n",
            "   ├── Train Dataloader Kwargs:\n",
            "         ├── batch_size: 32\n",
            "         ├── num_workers: 7\n",
            "         ├── shuffle: true\n",
            "         ├── drop_last: false\n",
            "   ├── Val Dataloader Kwargs:\n",
            "         ├── batch_size: 32\n",
            "         ├── num_workers: 7\n",
            "         ├── shuffle: false\n",
            "         ├── drop_last: false\n",
            "   └── Test Dataloader Kwargs:\n",
            "         ├── batch_size: 32\n",
            "         ├── num_workers: 7\n",
            "         ├── shuffle: false\n",
            "         ├── drop_last: false\n",
            "==================================================\n"
          ]
        }
      ],
      "source": [
        "from minerva.data.data_modules.base import MinervaDataModule\n",
        "\n",
        "data_module = MinervaDataModule(name=\"STL10\",\n",
        "                                train_dataset=train_data,\n",
        "                                val_dataset=val_data,\n",
        "                                test_dataset=test_dataset,\n",
        "                                batch_size=32, num_workers=7)\n",
        "\n",
        "print(data_module)"
      ]
    },
    {
      "cell_type": "markdown",
      "metadata": {
        "id": "e66gqo2Qd_wY"
      },
      "source": [
        "Nice! Our DataModule contains three datasets: Train, Val, and Test."
      ]
    },
    {
      "cell_type": "markdown",
      "metadata": {
        "id": "pxUHXXzYd_wY"
      },
      "source": [
        "### 3.4 Inspecting one of the samples"
      ]
    },
    {
      "cell_type": "markdown",
      "metadata": {
        "id": "vPnML1twd_wY"
      },
      "source": [
        "\n",
        "Let's access one of the datasets and inspect one of its samples."
      ]
    },
    {
      "cell_type": "code",
      "execution_count": 11,
      "metadata": {
        "colab": {
          "base_uri": "https://localhost:8080/"
        },
        "id": "zAiia2aGd_wY",
        "outputId": "cbc00352-f097-424e-fb84-19150a08f90e"
      },
      "outputs": [
        {
          "name": "stdout",
          "output_type": "stream",
          "text": [
            "sample[0] - features shape: torch.Size([3, 96, 96])\n",
            "sample[0] - label: 6 (horse)\n"
          ]
        }
      ],
      "source": [
        "test_ds = data_module.test_dataset\n",
        "\n",
        "# Inspect the first sample from test_ds\n",
        "sample = test_ds[0]\n",
        "print(\"sample[0] - features shape:\", sample[0].shape)\n",
        "print(\"sample[0] - label:\", sample[1], f\"({class_names[sample[1]]})\")"
      ]
    },
    {
      "cell_type": "markdown",
      "metadata": {
        "id": "7lg7iGmzd_wY"
      },
      "source": [
        "Alright. Now, lets plot the image."
      ]
    },
    {
      "cell_type": "code",
      "execution_count": 12,
      "metadata": {
        "colab": {
          "base_uri": "https://localhost:8080/",
          "height": 452
        },
        "id": "n3voaVu0d_wZ",
        "outputId": "d45ccd8e-b082-4314-fbbb-58c1d792f2eb"
      },
      "outputs": [
        {
          "data": {
            "image/png": "[encoded data removed]",
            "text/plain": [
              "<Figure size 640x480 with 1 Axes>"
            ]
          },
          "metadata": {},
          "output_type": "display_data"
        }
      ],
      "source": [
        "image, label = sample\n",
        "plt.imshow(image.permute(1, 2, 0))\n",
        "plt.title(class_names[label])\n",
        "plt.show()"
      ]
    },
    {
      "cell_type": "markdown",
      "metadata": {
        "id": "bV58i1J5d_wZ"
      },
      "source": [
        "## <a id='sec_4'>4. Building a Minerva SimpleSupervisedModel</a>"
      ]
    },
    {
      "cell_type": "markdown",
      "metadata": {
        "id": "5_N0s16nd_wZ"
      },
      "source": [
        "Minerva was originally designed to support research in self-supervised learning methods.\n",
        "In this context, downstream models are typically structured using two main components: a backbone and a head (either a projection head or a prediction head).\n"
      ]
    },
    {
      "cell_type": "markdown",
      "metadata": {
        "id": "t0U1Zxkqd_wZ"
      },
      "source": [
        "### 4.1 Backbone"
      ]
    },
    {
      "cell_type": "markdown",
      "metadata": {
        "id": "E3e-ygQVd_wZ"
      },
      "source": [
        "We'll start by defining the model's backbone.\n",
        "To do this, we'll reuse the ResNet50 architecture from `torchvision`, as demonstrated in the earlier tutorial `05_pytorch_transfer_learning`.\n",
        "\n",
        "> Note: In a typical Minerva workflow, this backbone would be pretrained using a self-supervised learning (SSL) technique. \n",
        "However, to keep the transition from PyTorch/Lightning to Minerva straightforward, we're using an already pretrained ResNet50 model for this tutorial."
      ]
    },
    {
      "cell_type": "code",
      "execution_count": 13,
      "metadata": {
        "colab": {
          "base_uri": "https://localhost:8080/"
        },
        "id": "a0J_3QAMd_wZ",
        "outputId": "2efbc302-4046-4bad-f411-50954352ceef"
      },
      "outputs": [],
      "source": [
        "from torchvision.models import resnet50, ResNet50_Weights\n",
        "\n",
        "backbone = resnet50(weights=ResNet50_Weights.DEFAULT)\n",
        "backbone.fc = torch.nn.Identity() # Remove classifier layer from the backbone"
      ]
    },
    {
      "cell_type": "markdown",
      "metadata": {
        "id": "1d-_bmIad_wZ"
      },
      "source": [
        "Let's check the shape of the features our backbone produces when processing one of our samples."
      ]
    },
    {
      "cell_type": "code",
      "execution_count": 14,
      "metadata": {
        "colab": {
          "base_uri": "https://localhost:8080/"
        },
        "id": "tXInfKzMd_wa",
        "outputId": "401a305c-a841-4ed4-97ac-b13b2891b16e"
      },
      "outputs": [
        {
          "name": "stdout",
          "output_type": "stream",
          "text": [
            "input data shape       : torch.Size([1, 3, 96, 96])\n",
            "computed features shape: torch.Size([1, 2048])\n"
          ]
        }
      ],
      "source": [
        "# Model expects a batch dimension. Unsqueeze(0) to add this dimension.\n",
        "input = sample[0].unsqueeze(0)\n",
        "features = backbone(input)\n",
        "\n",
        "print(\"input data shape       :\", input.shape)\n",
        "print(\"computed features shape:\", features.shape)"
      ]
    },
    {
      "cell_type": "markdown",
      "metadata": {
        "id": "QkMTfrSwd_wa"
      },
      "source": [
        "Alright, the backbone has processed a batch with one `3x96x96` input tensor and produced a batch with one 2048-dimensional feature vector."
      ]
    },
    {
      "cell_type": "markdown",
      "metadata": {
        "id": "3mmkD27Ld_wa"
      },
      "source": [
        "### 4.2 Prediction Head"
      ]
    },
    {
      "cell_type": "markdown",
      "metadata": {
        "id": "YdfXyRrdd_wa"
      },
      "source": [
        "Now, let's build the prediction head.\n",
        "For this experiment, we'll keep it simple and use a single linear layer.\n",
        "As expected, the prediction head should accept a 2048-dimensional input (the output from the backbone) and produce an output vector with `len(class_names)` values—one for each class."
      ]
    },
    {
      "cell_type": "code",
      "execution_count": 15,
      "metadata": {
        "id": "KkV5LodMd_wa"
      },
      "outputs": [],
      "source": [
        "prediction_head = torch.nn.Linear(2048, len(class_names))"
      ]
    },
    {
      "cell_type": "markdown",
      "metadata": {
        "id": "qqDhcP5yd_wa"
      },
      "source": [
        "### 4.3 The [`SimpleSupervisedModel`](https://discovery-unicamp.github.io/Minerva/autoapi/minerva/models/nets/index.html#minerva.models.nets.SimpleSupervisedModel)"
      ]
    },
    {
      "cell_type": "markdown",
      "metadata": {
        "id": "kmyQNC06d_wa"
      },
      "source": [
        "Now that we have both a backbone and a prediction head, we can assemble the full model.\n",
        "There are several ways to do this, but we'll use the `SimpleSupervisedModel` class—a convenient utility provided by `minerva` for building supervised models.\n",
        "\n",
        "The [`SimpleSupervisedModel`](https://discovery-unicamp.github.io/Minerva/autoapi/minerva/models/nets/index.html#minerva.models.nets.SimpleSupervisedModel) class takes a backbone and a head as input, combining them into a complete end-to-end model.\n",
        "In addition, it allows you to specify the loss function and evaluation metrics to be used during training and validation.\n",
        "> Note: Minerva can use metrics from the `torchmetrics` library to evaluate model performance. \n",
        "In this example, we are using the `Accuracy` metric provided by `torchmetrics`.\n",
        "For more information on `torchmetrics`, you may check [https://lightning.ai/docs/torchmetrics/stable](https://lightning.ai/docs/torchmetrics/stable/)."
      ]
    },
    {
      "cell_type": "code",
      "execution_count": 16,
      "metadata": {
        "id": "ahvDypvTd_wa"
      },
      "outputs": [
        {
          "name": "stderr",
          "output_type": "stream",
          "text": [
            "/Users/edson/Desktop/2025-Ensino-MO810/2025-MO810-SSL/.venv/lib/python3.13/site-packages/tqdm/auto.py:21: TqdmWarning: IProgress not found. Please update jupyter and ipywidgets. See https://ipywidgets.readthedocs.io/en/stable/user_install.html\n",
            "  from .autonotebook import tqdm as notebook_tqdm\n"
          ]
        }
      ],
      "source": [
        "from minerva.models.nets.base import SimpleSupervisedModel\n",
        "from torchmetrics import  Accuracy\n",
        "\n",
        "simple_resnet = SimpleSupervisedModel(\n",
        "    backbone=backbone,\n",
        "    fc=prediction_head,\n",
        "    loss_fn=torch.nn.CrossEntropyLoss(),\n",
        "    train_metrics={\"accuracy\": Accuracy(\"multiclass\", num_classes=len(class_names))},\n",
        "    val_metrics={\"accuracy\": Accuracy(\"multiclass\", num_classes=len(class_names))},\n",
        "    test_metrics={\"accuracy\": Accuracy(\"multiclass\", num_classes=len(class_names))},\n",
        ")"
      ]
    },
    {
      "cell_type": "markdown",
      "metadata": {
        "id": "Iac-O2mFd_wa"
      },
      "source": [
        "## <a id='sec_5'>5. Training the model</a>"
      ]
    },
    {
      "cell_type": "markdown",
      "metadata": {
        "id": "KMj0fMNdd_wb"
      },
      "source": [
        "To train the model, we simply create a Lightning Trainer object and call its `fit()` method—just as we would in any standard Lightning workflow.\n",
        "\n",
        "This time, we will configure the `Trainer` to log information to the `logs/07_minerva` directory. \n",
        "To achieve this, we will instantiate a `TensorBoardLogger` and pass it to the Trainer during its creation.\n",
        "\n",
        "> Note: In the following code block, you can adjust the maximum number of epochs to balance between execution time and model accuracy, depending on your specific needs."
      ]
    },
    {
      "cell_type": "code",
      "execution_count": null,
      "metadata": {
        "colab": {
          "base_uri": "https://localhost:8080/",
          "height": 625,
          "referenced_widgets": [
            "17561b77c244419d8204dc2203a41257",
            "46a2f3b082ca427198308a24a2db8975",
            "950120b1e7a0438899c00fd3a63037b5",
            "f82f8aa10ac44c62b950ee594b96a5e4",
            "b3019bc998ec4bc581bf81b3b6121516",
            "00204f383940481cb5397598e1b4fcf6",
            "bd526673f1c64dadbfb64c3ef6d1e69e",
            "dea20e33053c4e63b7fadac20a1362a5",
            "6323fc6801704cdbb3323525f5ab6eb9",
            "ecf806196b8d4129a6d9283132037c8c",
            "970ad8b51ddd4cc2a6c07d1550b557fc",
            "5511ccf6ecba492a824ed6b00ad0086a",
            "3a20964af1984fc29a34b4834fa1a035",
            "d6b8c08e4fe6474fa28b89c58362fae5",
            "d4e9cafafa6444afbbf0b0de5b170f6c",
            "882ac7550ba94affb9dcf8565152575b",
            "dc60c94972b64dc1a228e2f45a546fff",
            "e6c9f8e6394d4467830fef49448de26f",
            "87cbad2b4a4d4eeb95ed44faf581be50",
            "4af2d138c71f42fb8014e6b66403954c",
            "28a37ecadfc34c7c80b5e3de2ca141c9",
            "0e8a6f1a99cd41f0bbd6a75e58f99743"
          ]
        },
        "id": "J57kdh8Wd_wb",
        "outputId": "3988a506-2bbe-4704-99bb-b171986bf84a"
      },
      "outputs": [
        {
          "name": "stderr",
          "output_type": "stream",
          "text": [
            "GPU available: True (mps), used: True\n",
            "TPU available: False, using: 0 TPU cores\n",
            "HPU available: False, using: 0 HPUs\n",
            "\n",
            "  | Name     | Type             | Params | Mode \n",
            "------------------------------------------------------\n",
            "0 | backbone | ResNet           | 23.5 M | train\n",
            "1 | fc       | Linear           | 20.5 K | train\n",
            "2 | loss_fn  | CrossEntropyLoss | 0      | train\n",
            "------------------------------------------------------\n",
            "23.5 M    Trainable params\n",
            "0         Non-trainable params\n",
            "23.5 M    Total params\n",
            "94.114    Total estimated model params size (MB)\n",
            "153       Modules in train mode\n",
            "0         Modules in eval mode\n"
          ]
        },
        {
          "name": "stdout",
          "output_type": "stream",
          "text": [
            "Sanity Checking: |          | 0/? [00:00<?, ?it/s]"
          ]
        },
        {
          "name": "stderr",
          "output_type": "stream",
          "text": [
            "/Users/edson/Desktop/2025-Ensino-MO810/2025-MO810-SSL/.venv/lib/python3.13/site-packages/lightning/pytorch/trainer/connectors/data_connector.py:420: Consider setting `persistent_workers=True` in 'val_dataloader' to speed up the dataloader worker initialization.\n"
          ]
        },
        {
          "name": "stdout",
          "output_type": "stream",
          "text": [
            "                                                                           \r"
          ]
        },
        {
          "name": "stderr",
          "output_type": "stream",
          "text": [
            "/Users/edson/Desktop/2025-Ensino-MO810/2025-MO810-SSL/.venv/lib/python3.13/site-packages/lightning/pytorch/trainer/connectors/data_connector.py:420: Consider setting `persistent_workers=True` in 'train_dataloader' to speed up the dataloader worker initialization.\n"
          ]
        },
        {
          "name": "stdout",
          "output_type": "stream",
          "text": [
            "Epoch 4: 100%|██████████| 125/125 [01:35<00:00,  1.32it/s, v_num=0, val_loss=0.681, val_accuracy=0.769, train_loss=0.225, train_accuracy=0.922]"
          ]
        }
      ],
      "source": [
        "from lightning import Trainer\n",
        "from lightning.pytorch.loggers import TensorBoardLogger\n",
        "\n",
        "trainer = Trainer(max_epochs=20, log_every_n_steps=8,\n",
        "                  logger = TensorBoardLogger(save_dir=\"logs/07_Minerva/\", name=\"SimpleSupervisedModel\"))\n",
        "\n",
        "trainer.fit(simple_resnet, data_module)"
      ]
    },
    {
      "cell_type": "markdown",
      "metadata": {
        "id": "3HwEJcKompyu"
      },
      "source": [
        "Now we can test the model using the Trainer `test()` method."
      ]
    },
    {
      "cell_type": "code",
      "execution_count": null,
      "metadata": {
        "id": "kgVYaapAd_wb"
      },
      "outputs": [
        {
          "name": "stderr",
          "output_type": "stream",
          "text": [
            "LOCAL_RANK: 0 - CUDA_VISIBLE_DEVICES: [0]\n"
          ]
        },
        {
          "name": "stdout",
          "output_type": "stream",
          "text": [
            "Testing DataLoader 0: 100%|██████████| 250/250 [00:03<00:00, 71.08it/s]\n"
          ]
        },
        {
          "data": {
            "text/html": [
              "<pre style=\"white-space:pre;overflow-x:auto;line-height:normal;font-family:Menlo,'DejaVu Sans Mono',consolas,'Courier New',monospace\">┏━━━━━━━━━━━━━━━━━━━━━━━━━━━┳━━━━━━━━━━━━━━━━━━━━━━━━━━━┓\n",
              "┃<span style=\"font-weight: bold\">        Test metric        </span>┃<span style=\"font-weight: bold\">       DataLoader 0        </span>┃\n",
              "┡━━━━━━━━━━━━━━━━━━━━━━━━━━━╇━━━━━━━━━━━━━━━━━━━━━━━━━━━┩\n",
              "│<span style=\"color: #008080; text-decoration-color: #008080\">       test_accuracy       </span>│<span style=\"color: #800080; text-decoration-color: #800080\">     0.784375011920929     </span>│\n",
              "│<span style=\"color: #008080; text-decoration-color: #008080\">         test_loss         </span>│<span style=\"color: #800080; text-decoration-color: #800080\">    0.8935132622718811     </span>│\n",
              "└───────────────────────────┴───────────────────────────┘\n",
              "</pre>\n"
            ],
            "text/plain": [
              "┏━━━━━━━━━━━━━━━━━━━━━━━━━━━┳━━━━━━━━━━━━━━━━━━━━━━━━━━━┓\n",
              "┃\u001b[1m \u001b[0m\u001b[1m       Test metric       \u001b[0m\u001b[1m \u001b[0m┃\u001b[1m \u001b[0m\u001b[1m      DataLoader 0       \u001b[0m\u001b[1m \u001b[0m┃\n",
              "┡━━━━━━━━━━━━━━━━━━━━━━━━━━━╇━━━━━━━━━━━━━━━━━━━━━━━━━━━┩\n",
              "│\u001b[36m \u001b[0m\u001b[36m      test_accuracy      \u001b[0m\u001b[36m \u001b[0m│\u001b[35m \u001b[0m\u001b[35m    0.784375011920929    \u001b[0m\u001b[35m \u001b[0m│\n",
              "│\u001b[36m \u001b[0m\u001b[36m        test_loss        \u001b[0m\u001b[36m \u001b[0m│\u001b[35m \u001b[0m\u001b[35m   0.8935132622718811    \u001b[0m\u001b[35m \u001b[0m│\n",
              "└───────────────────────────┴───────────────────────────┘\n"
            ]
          },
          "metadata": {},
          "output_type": "display_data"
        },
        {
          "data": {
            "text/plain": [
              "[{'test_loss': 0.8935132622718811, 'test_accuracy': 0.784375011920929}]"
            ]
          },
          "execution_count": 14,
          "metadata": {},
          "output_type": "execute_result"
        }
      ],
      "source": [
        "trainer.test(simple_resnet, data_module)"
      ]
    },
    {
      "cell_type": "markdown",
      "metadata": {
        "id": "hWafYiFGd_wb"
      },
      "source": [
        "Done!\n",
        "\n",
        "Once again, not much different from the previous tutorials."
      ]
    },
    {
      "cell_type": "markdown",
      "metadata": {
        "id": "MiImrJIOd_wb"
      },
      "source": [
        "### 5.1 Monitoring training statistics with TensorBoard\n",
        "\n",
        "As discussed in our previous tutorials, it's often helpful to track training statistics—such as training and validation loss—throughout the training process.\n",
        "\n",
        "Once you execute the previous code, you will find a folder named `logs/07_Minerva/SimpleSupervisedModel/` with all logs in your working directory.\n",
        "\n",
        "Each time you run the Trainer, a new subfolder is created inside `logs/07_Minerva/SimpleSupervisedModel/`, containing all the logging information and model checkpoints generated by the training or testing processes.\n",
        "\n",
        "As discussed in tutorial `06_lightning_computer_vision_example.ipynb`, a common way to view these logs is by using TensorBoard, a tool that reads the contents of these folders and displays the data in clear, interactive charts.\n",
        "\n",
        "The following image shows the TensorBoard dashboard with statistics collected by the previous training process.\n",
        "\n",
        "![Training statistics on TensorBoard](https://raw.githubusercontent.com/eborin/SSL-course/main/images/07-tensorboard-1.png)"
      ]
    },
    {
      "cell_type": "markdown",
      "metadata": {
        "id": "XCuoS69md_wb"
      },
      "source": [
        "If you want to monitor training performance in real time while the Trainer is running, you can click the reload icon in the TensorBoard interface.\n",
        "This will refresh the view by re-reading the log files and updating the charts accordingly."
      ]
    },
    {
      "cell_type": "markdown",
      "metadata": {
        "id": "-0peF2g-d_wb"
      },
      "source": [
        "## <a id=\"sec_6\">6. Predicting with the trained model</a>"
      ]
    },
    {
      "cell_type": "markdown",
      "metadata": {
        "id": "-BV3p2_Ld_wb"
      },
      "source": [
        "The minerva `SimpleSupervisedModel` class supports prediction with the trainer `predict()` method.\n",
        "For each item in the dataloader, it computes the values produced by the prediction head and return them on a list.\n",
        "\n",
        "Let's use the trained model to predict the values in the test set."
      ]
    },
    {
      "cell_type": "code",
      "execution_count": null,
      "metadata": {
        "id": "GnT7Uqw8d_wb"
      },
      "outputs": [
        {
          "name": "stderr",
          "output_type": "stream",
          "text": [
            "LOCAL_RANK: 0 - CUDA_VISIBLE_DEVICES: [0]\n"
          ]
        },
        {
          "name": "stdout",
          "output_type": "stream",
          "text": [
            "Predicting DataLoader 0: 100%|██████████| 250/250 [00:02<00:00, 87.36it/s]\n",
            "type(preds): <class 'list'>\n",
            "len(preds) : 250\n"
          ]
        }
      ],
      "source": [
        "preds = trainer.predict(simple_resnet, data_module.test_dataloader())\n",
        "\n",
        "print(\"type(preds):\", type(preds))\n",
        "print(\"len(preds) :\", len(preds))"
      ]
    },
    {
      "cell_type": "markdown",
      "metadata": {},
      "source": [
        "By default, the `MinervaDataModule` returns the `test` set for predictions. Hence, the following command would have the same effect as the previous one:\n",
        "\n",
        "```python\n",
        "preds = trainer.predict(simple_resnet, data_module)\n",
        "```"
      ]
    },
    {
      "cell_type": "markdown",
      "metadata": {
        "id": "DgkO0a1Ld_wc"
      },
      "source": [
        "Alright, now, let's convert these logits into labels."
      ]
    },
    {
      "cell_type": "code",
      "execution_count": null,
      "metadata": {
        "id": "0ZNb2Bzod_wc"
      },
      "outputs": [
        {
          "data": {
            "text/plain": [
              "array([6, 4, 3, ..., 8, 9, 8])"
            ]
          },
          "execution_count": 16,
          "metadata": {},
          "output_type": "execute_result"
        }
      ],
      "source": [
        "# Concatenate all prediction tensors\n",
        "all_preds = torch.cat(preds)\n",
        "\n",
        "# Run argmax on the concatenated tensor\n",
        "predicted_labels = torch.argmax(all_preds, dim=1)\n",
        "\n",
        "predicted_labels = predicted_labels.cpu().numpy()\n",
        "\n",
        "predicted_labels"
      ]
    },
    {
      "cell_type": "markdown",
      "metadata": {
        "id": "twf3JTzSd_wc"
      },
      "source": [
        "Finally, lets print the confusion matrix."
      ]
    },
    {
      "cell_type": "code",
      "execution_count": null,
      "metadata": {
        "id": "Q5lecWL7d_wc"
      },
      "outputs": [
        {
          "data": {
            "text/plain": [
              "<sklearn.metrics._plot.confusion_matrix.ConfusionMatrixDisplay at 0x7f8d0ca28250>"
            ]
          },
          "execution_count": 17,
          "metadata": {},
          "output_type": "execute_result"
        },
        {
          "data": {
            "image/png": "[encoded data removed]",
            "text/plain": [
              "<Figure size 640x480 with 2 Axes>"
            ]
          },
          "metadata": {},
          "output_type": "display_data"
        }
      ],
      "source": [
        "from sklearn.metrics import confusion_matrix, ConfusionMatrixDisplay\n",
        "\n",
        "#get only the labels from the test dataset\n",
        "true_labels = [label for _, label in data_module.predict_dataset]\n",
        "\n",
        "cm = confusion_matrix(y_true=true_labels, y_pred=predicted_labels)\n",
        "ConfusionMatrixDisplay(cm, display_labels=class_names).plot(xticks_rotation=\"vertical\")"
      ]
    },
    {
      "cell_type": "markdown",
      "metadata": {
        "id": "bQtW2ieud_wc"
      },
      "source": [
        "## <a id=\"sec_7\">7. Exercises</a>"
      ]
    },
    {
      "cell_type": "markdown",
      "metadata": {
        "id": "x4B8Jb5Xd_wc"
      },
      "source": [
        "While there is no designated exercise for this tutorial, the following activities can help you familiarize with Minerva.\n",
        "\n",
        "* **Metrics**: Change the previous code to report other metrics during model training and testing.\n",
        "\n",
        "* **Checkpoints**: Modify the previous code to save checkpoints according to (i) the smallest validation loss, (ii) highest validation accuracy, and (iii) smallest training loss. Then, load these checkpoints and compare the respective model performances.\n",
        "\n",
        "* **Early stopping**: Configure the trainer with an Early stopping mechanism. To do so, explore Lightning the [EarlyStopping callback](https://lightning.ai/docs/pytorch/stable/common/early_stopping.html), and modify the previous code to train for up to 30 epochs, but stop early if the validation accuracy does not improve for 2 consecutive epochs."
      ]
    }
  ],
  "metadata": {
    "accelerator": "GPU",
    "colab": {
      "gpuType": "T4",
      "provenance": [],
      "toc_visible": true
    },
    "kernelspec": {
      "display_name": "Python 3",
      "language": "python",
      "name": "python3"
    },
    "language_info": {
      "codemirror_mode": {
        "name": "ipython",
        "version": 3
      },
      "file_extension": ".py",
      "mimetype": "text/x-python",
      "name": "python",
      "nbconvert_exporter": "python",
      "pygments_lexer": "ipython3",
      "version": "3.10.12"
    },
    "widgets": {
      "application/vnd.jupyter.widget-state+json": {
        "00204f383940481cb5397598e1b4fcf6": {
          "model_module": "@jupyter-widgets/base",
          "model_module_version": "1.2.0",
          "model_name": "LayoutModel",
          "state": {
            "_model_module": "@jupyter-widgets/base",
            "_model_module_version": "1.2.0",
            "_model_name": "LayoutModel",
            "_view_count": null,
            "_view_module": "@jupyter-widgets/base",
            "_view_module_version": "1.2.0",
            "_view_name": "LayoutView",
            "align_content": null,
            "align_items": null,
            "align_self": null,
            "border": null,
            "bottom": null,
            "display": null,
            "flex": null,
            "flex_flow": null,
            "grid_area": null,
            "grid_auto_columns": null,
            "grid_auto_flow": null,
            "grid_auto_rows": null,
            "grid_column": null,
            "grid_gap": null,
            "grid_row": null,
            "grid_template_areas": null,
            "grid_template_columns": null,
            "grid_template_rows": null,
            "height": null,
            "justify_content": null,
            "justify_items": null,
            "left": null,
            "margin": null,
            "max_height": null,
            "max_width": null,
            "min_height": null,
            "min_width": null,
            "object_fit": null,
            "object_position": null,
            "order": null,
            "overflow": null,
            "overflow_x": null,
            "overflow_y": null,
            "padding": null,
            "right": null,
            "top": null,
            "visibility": null,
            "width": null
          }
        },
        "0e8a6f1a99cd41f0bbd6a75e58f99743": {
          "model_module": "@jupyter-widgets/controls",
          "model_module_version": "1.5.0",
          "model_name": "DescriptionStyleModel",
          "state": {
            "_model_module": "@jupyter-widgets/controls",
            "_model_module_version": "1.5.0",
            "_model_name": "DescriptionStyleModel",
            "_view_count": null,
            "_view_module": "@jupyter-widgets/base",
            "_view_module_version": "1.2.0",
            "_view_name": "StyleView",
            "description_width": ""
          }
        },
        "17561b77c244419d8204dc2203a41257": {
          "model_module": "@jupyter-widgets/controls",
          "model_module_version": "1.5.0",
          "model_name": "HBoxModel",
          "state": {
            "_dom_classes": [],
            "_model_module": "@jupyter-widgets/controls",
            "_model_module_version": "1.5.0",
            "_model_name": "HBoxModel",
            "_view_count": null,
            "_view_module": "@jupyter-widgets/controls",
            "_view_module_version": "1.5.0",
            "_view_name": "HBoxView",
            "box_style": "",
            "children": [
              "IPY_MODEL_46a2f3b082ca427198308a24a2db8975",
              "IPY_MODEL_950120b1e7a0438899c00fd3a63037b5",
              "IPY_MODEL_f82f8aa10ac44c62b950ee594b96a5e4"
            ],
            "layout": "IPY_MODEL_b3019bc998ec4bc581bf81b3b6121516"
          }
        },
        "28a37ecadfc34c7c80b5e3de2ca141c9": {
          "model_module": "@jupyter-widgets/base",
          "model_module_version": "1.2.0",
          "model_name": "LayoutModel",
          "state": {
            "_model_module": "@jupyter-widgets/base",
            "_model_module_version": "1.2.0",
            "_model_name": "LayoutModel",
            "_view_count": null,
            "_view_module": "@jupyter-widgets/base",
            "_view_module_version": "1.2.0",
            "_view_name": "LayoutView",
            "align_content": null,
            "align_items": null,
            "align_self": null,
            "border": null,
            "bottom": null,
            "display": null,
            "flex": null,
            "flex_flow": null,
            "grid_area": null,
            "grid_auto_columns": null,
            "grid_auto_flow": null,
            "grid_auto_rows": null,
            "grid_column": null,
            "grid_gap": null,
            "grid_row": null,
            "grid_template_areas": null,
            "grid_template_columns": null,
            "grid_template_rows": null,
            "height": null,
            "justify_content": null,
            "justify_items": null,
            "left": null,
            "margin": null,
            "max_height": null,
            "max_width": null,
            "min_height": null,
            "min_width": null,
            "object_fit": null,
            "object_position": null,
            "order": null,
            "overflow": null,
            "overflow_x": null,
            "overflow_y": null,
            "padding": null,
            "right": null,
            "top": null,
            "visibility": null,
            "width": null
          }
        },
        "3a20964af1984fc29a34b4834fa1a035": {
          "model_module": "@jupyter-widgets/controls",
          "model_module_version": "1.5.0",
          "model_name": "HTMLModel",
          "state": {
            "_dom_classes": [],
            "_model_module": "@jupyter-widgets/controls",
            "_model_module_version": "1.5.0",
            "_model_name": "HTMLModel",
            "_view_count": null,
            "_view_module": "@jupyter-widgets/controls",
            "_view_module_version": "1.5.0",
            "_view_name": "HTMLView",
            "description": "",
            "description_tooltip": null,
            "layout": "IPY_MODEL_dc60c94972b64dc1a228e2f45a546fff",
            "placeholder": "​",
            "style": "IPY_MODEL_e6c9f8e6394d4467830fef49448de26f",
            "value": "Epoch 0:  26%"
          }
        },
        "46a2f3b082ca427198308a24a2db8975": {
          "model_module": "@jupyter-widgets/controls",
          "model_module_version": "1.5.0",
          "model_name": "HTMLModel",
          "state": {
            "_dom_classes": [],
            "_model_module": "@jupyter-widgets/controls",
            "_model_module_version": "1.5.0",
            "_model_name": "HTMLModel",
            "_view_count": null,
            "_view_module": "@jupyter-widgets/controls",
            "_view_module_version": "1.5.0",
            "_view_name": "HTMLView",
            "description": "",
            "description_tooltip": null,
            "layout": "IPY_MODEL_00204f383940481cb5397598e1b4fcf6",
            "placeholder": "​",
            "style": "IPY_MODEL_bd526673f1c64dadbfb64c3ef6d1e69e",
            "value": "Sanity Checking DataLoader 0: 100%"
          }
        },
        "4af2d138c71f42fb8014e6b66403954c": {
          "model_module": "@jupyter-widgets/controls",
          "model_module_version": "1.5.0",
          "model_name": "ProgressStyleModel",
          "state": {
            "_model_module": "@jupyter-widgets/controls",
            "_model_module_version": "1.5.0",
            "_model_name": "ProgressStyleModel",
            "_view_count": null,
            "_view_module": "@jupyter-widgets/base",
            "_view_module_version": "1.2.0",
            "_view_name": "StyleView",
            "bar_color": null,
            "description_width": ""
          }
        },
        "5511ccf6ecba492a824ed6b00ad0086a": {
          "model_module": "@jupyter-widgets/controls",
          "model_module_version": "1.5.0",
          "model_name": "HBoxModel",
          "state": {
            "_dom_classes": [],
            "_model_module": "@jupyter-widgets/controls",
            "_model_module_version": "1.5.0",
            "_model_name": "HBoxModel",
            "_view_count": null,
            "_view_module": "@jupyter-widgets/controls",
            "_view_module_version": "1.5.0",
            "_view_name": "HBoxView",
            "box_style": "",
            "children": [
              "IPY_MODEL_3a20964af1984fc29a34b4834fa1a035",
              "IPY_MODEL_d6b8c08e4fe6474fa28b89c58362fae5",
              "IPY_MODEL_d4e9cafafa6444afbbf0b0de5b170f6c"
            ],
            "layout": "IPY_MODEL_882ac7550ba94affb9dcf8565152575b"
          }
        },
        "6323fc6801704cdbb3323525f5ab6eb9": {
          "model_module": "@jupyter-widgets/controls",
          "model_module_version": "1.5.0",
          "model_name": "ProgressStyleModel",
          "state": {
            "_model_module": "@jupyter-widgets/controls",
            "_model_module_version": "1.5.0",
            "_model_name": "ProgressStyleModel",
            "_view_count": null,
            "_view_module": "@jupyter-widgets/base",
            "_view_module_version": "1.2.0",
            "_view_name": "StyleView",
            "bar_color": null,
            "description_width": ""
          }
        },
        "87cbad2b4a4d4eeb95ed44faf581be50": {
          "model_module": "@jupyter-widgets/base",
          "model_module_version": "1.2.0",
          "model_name": "LayoutModel",
          "state": {
            "_model_module": "@jupyter-widgets/base",
            "_model_module_version": "1.2.0",
            "_model_name": "LayoutModel",
            "_view_count": null,
            "_view_module": "@jupyter-widgets/base",
            "_view_module_version": "1.2.0",
            "_view_name": "LayoutView",
            "align_content": null,
            "align_items": null,
            "align_self": null,
            "border": null,
            "bottom": null,
            "display": null,
            "flex": "2",
            "flex_flow": null,
            "grid_area": null,
            "grid_auto_columns": null,
            "grid_auto_flow": null,
            "grid_auto_rows": null,
            "grid_column": null,
            "grid_gap": null,
            "grid_row": null,
            "grid_template_areas": null,
            "grid_template_columns": null,
            "grid_template_rows": null,
            "height": null,
            "justify_content": null,
            "justify_items": null,
            "left": null,
            "margin": null,
            "max_height": null,
            "max_width": null,
            "min_height": null,
            "min_width": null,
            "object_fit": null,
            "object_position": null,
            "order": null,
            "overflow": null,
            "overflow_x": null,
            "overflow_y": null,
            "padding": null,
            "right": null,
            "top": null,
            "visibility": null,
            "width": null
          }
        },
        "882ac7550ba94affb9dcf8565152575b": {
          "model_module": "@jupyter-widgets/base",
          "model_module_version": "1.2.0",
          "model_name": "LayoutModel",
          "state": {
            "_model_module": "@jupyter-widgets/base",
            "_model_module_version": "1.2.0",
            "_model_name": "LayoutModel",
            "_view_count": null,
            "_view_module": "@jupyter-widgets/base",
            "_view_module_version": "1.2.0",
            "_view_name": "LayoutView",
            "align_content": null,
            "align_items": null,
            "align_self": null,
            "border": null,
            "bottom": null,
            "display": "inline-flex",
            "flex": null,
            "flex_flow": "row wrap",
            "grid_area": null,
            "grid_auto_columns": null,
            "grid_auto_flow": null,
            "grid_auto_rows": null,
            "grid_column": null,
            "grid_gap": null,
            "grid_row": null,
            "grid_template_areas": null,
            "grid_template_columns": null,
            "grid_template_rows": null,
            "height": null,
            "justify_content": null,
            "justify_items": null,
            "left": null,
            "margin": null,
            "max_height": null,
            "max_width": null,
            "min_height": null,
            "min_width": null,
            "object_fit": null,
            "object_position": null,
            "order": null,
            "overflow": null,
            "overflow_x": null,
            "overflow_y": null,
            "padding": null,
            "right": null,
            "top": null,
            "visibility": null,
            "width": "100%"
          }
        },
        "950120b1e7a0438899c00fd3a63037b5": {
          "model_module": "@jupyter-widgets/controls",
          "model_module_version": "1.5.0",
          "model_name": "FloatProgressModel",
          "state": {
            "_dom_classes": [],
            "_model_module": "@jupyter-widgets/controls",
            "_model_module_version": "1.5.0",
            "_model_name": "FloatProgressModel",
            "_view_count": null,
            "_view_module": "@jupyter-widgets/controls",
            "_view_module_version": "1.5.0",
            "_view_name": "ProgressView",
            "bar_style": "",
            "description": "",
            "description_tooltip": null,
            "layout": "IPY_MODEL_dea20e33053c4e63b7fadac20a1362a5",
            "max": 2,
            "min": 0,
            "orientation": "horizontal",
            "style": "IPY_MODEL_6323fc6801704cdbb3323525f5ab6eb9",
            "value": 2
          }
        },
        "970ad8b51ddd4cc2a6c07d1550b557fc": {
          "model_module": "@jupyter-widgets/controls",
          "model_module_version": "1.5.0",
          "model_name": "DescriptionStyleModel",
          "state": {
            "_model_module": "@jupyter-widgets/controls",
            "_model_module_version": "1.5.0",
            "_model_name": "DescriptionStyleModel",
            "_view_count": null,
            "_view_module": "@jupyter-widgets/base",
            "_view_module_version": "1.2.0",
            "_view_name": "StyleView",
            "description_width": ""
          }
        },
        "b3019bc998ec4bc581bf81b3b6121516": {
          "model_module": "@jupyter-widgets/base",
          "model_module_version": "1.2.0",
          "model_name": "LayoutModel",
          "state": {
            "_model_module": "@jupyter-widgets/base",
            "_model_module_version": "1.2.0",
            "_model_name": "LayoutModel",
            "_view_count": null,
            "_view_module": "@jupyter-widgets/base",
            "_view_module_version": "1.2.0",
            "_view_name": "LayoutView",
            "align_content": null,
            "align_items": null,
            "align_self": null,
            "border": null,
            "bottom": null,
            "display": "inline-flex",
            "flex": null,
            "flex_flow": "row wrap",
            "grid_area": null,
            "grid_auto_columns": null,
            "grid_auto_flow": null,
            "grid_auto_rows": null,
            "grid_column": null,
            "grid_gap": null,
            "grid_row": null,
            "grid_template_areas": null,
            "grid_template_columns": null,
            "grid_template_rows": null,
            "height": null,
            "justify_content": null,
            "justify_items": null,
            "left": null,
            "margin": null,
            "max_height": null,
            "max_width": null,
            "min_height": null,
            "min_width": null,
            "object_fit": null,
            "object_position": null,
            "order": null,
            "overflow": null,
            "overflow_x": null,
            "overflow_y": null,
            "padding": null,
            "right": null,
            "top": null,
            "visibility": "hidden",
            "width": "100%"
          }
        },
        "bd526673f1c64dadbfb64c3ef6d1e69e": {
          "model_module": "@jupyter-widgets/controls",
          "model_module_version": "1.5.0",
          "model_name": "DescriptionStyleModel",
          "state": {
            "_model_module": "@jupyter-widgets/controls",
            "_model_module_version": "1.5.0",
            "_model_name": "DescriptionStyleModel",
            "_view_count": null,
            "_view_module": "@jupyter-widgets/base",
            "_view_module_version": "1.2.0",
            "_view_name": "StyleView",
            "description_width": ""
          }
        },
        "d4e9cafafa6444afbbf0b0de5b170f6c": {
          "model_module": "@jupyter-widgets/controls",
          "model_module_version": "1.5.0",
          "model_name": "HTMLModel",
          "state": {
            "_dom_classes": [],
            "_model_module": "@jupyter-widgets/controls",
            "_model_module_version": "1.5.0",
            "_model_name": "HTMLModel",
            "_view_count": null,
            "_view_module": "@jupyter-widgets/controls",
            "_view_module_version": "1.5.0",
            "_view_name": "HTMLView",
            "description": "",
            "description_tooltip": null,
            "layout": "IPY_MODEL_28a37ecadfc34c7c80b5e3de2ca141c9",
            "placeholder": "​",
            "style": "IPY_MODEL_0e8a6f1a99cd41f0bbd6a75e58f99743",
            "value": " 32/125 [02:36&lt;07:35,  0.20it/s, v_num=0]"
          }
        },
        "d6b8c08e4fe6474fa28b89c58362fae5": {
          "model_module": "@jupyter-widgets/controls",
          "model_module_version": "1.5.0",
          "model_name": "FloatProgressModel",
          "state": {
            "_dom_classes": [],
            "_model_module": "@jupyter-widgets/controls",
            "_model_module_version": "1.5.0",
            "_model_name": "FloatProgressModel",
            "_view_count": null,
            "_view_module": "@jupyter-widgets/controls",
            "_view_module_version": "1.5.0",
            "_view_name": "ProgressView",
            "bar_style": "",
            "description": "",
            "description_tooltip": null,
            "layout": "IPY_MODEL_87cbad2b4a4d4eeb95ed44faf581be50",
            "max": 125,
            "min": 0,
            "orientation": "horizontal",
            "style": "IPY_MODEL_4af2d138c71f42fb8014e6b66403954c",
            "value": 32
          }
        },
        "dc60c94972b64dc1a228e2f45a546fff": {
          "model_module": "@jupyter-widgets/base",
          "model_module_version": "1.2.0",
          "model_name": "LayoutModel",
          "state": {
            "_model_module": "@jupyter-widgets/base",
            "_model_module_version": "1.2.0",
            "_model_name": "LayoutModel",
            "_view_count": null,
            "_view_module": "@jupyter-widgets/base",
            "_view_module_version": "1.2.0",
            "_view_name": "LayoutView",
            "align_content": null,
            "align_items": null,
            "align_self": null,
            "border": null,
            "bottom": null,
            "display": null,
            "flex": null,
            "flex_flow": null,
            "grid_area": null,
            "grid_auto_columns": null,
            "grid_auto_flow": null,
            "grid_auto_rows": null,
            "grid_column": null,
            "grid_gap": null,
            "grid_row": null,
            "grid_template_areas": null,
            "grid_template_columns": null,
            "grid_template_rows": null,
            "height": null,
            "justify_content": null,
            "justify_items": null,
            "left": null,
            "margin": null,
            "max_height": null,
            "max_width": null,
            "min_height": null,
            "min_width": null,
            "object_fit": null,
            "object_position": null,
            "order": null,
            "overflow": null,
            "overflow_x": null,
            "overflow_y": null,
            "padding": null,
            "right": null,
            "top": null,
            "visibility": null,
            "width": null
          }
        },
        "dea20e33053c4e63b7fadac20a1362a5": {
          "model_module": "@jupyter-widgets/base",
          "model_module_version": "1.2.0",
          "model_name": "LayoutModel",
          "state": {
            "_model_module": "@jupyter-widgets/base",
            "_model_module_version": "1.2.0",
            "_model_name": "LayoutModel",
            "_view_count": null,
            "_view_module": "@jupyter-widgets/base",
            "_view_module_version": "1.2.0",
            "_view_name": "LayoutView",
            "align_content": null,
            "align_items": null,
            "align_self": null,
            "border": null,
            "bottom": null,
            "display": null,
            "flex": "2",
            "flex_flow": null,
            "grid_area": null,
            "grid_auto_columns": null,
            "grid_auto_flow": null,
            "grid_auto_rows": null,
            "grid_column": null,
            "grid_gap": null,
            "grid_row": null,
            "grid_template_areas": null,
            "grid_template_columns": null,
            "grid_template_rows": null,
            "height": null,
            "justify_content": null,
            "justify_items": null,
            "left": null,
            "margin": null,
            "max_height": null,
            "max_width": null,
            "min_height": null,
            "min_width": null,
            "object_fit": null,
            "object_position": null,
            "order": null,
            "overflow": null,
            "overflow_x": null,
            "overflow_y": null,
            "padding": null,
            "right": null,
            "top": null,
            "visibility": null,
            "width": null
          }
        },
        "e6c9f8e6394d4467830fef49448de26f": {
          "model_module": "@jupyter-widgets/controls",
          "model_module_version": "1.5.0",
          "model_name": "DescriptionStyleModel",
          "state": {
            "_model_module": "@jupyter-widgets/controls",
            "_model_module_version": "1.5.0",
            "_model_name": "DescriptionStyleModel",
            "_view_count": null,
            "_view_module": "@jupyter-widgets/base",
            "_view_module_version": "1.2.0",
            "_view_name": "StyleView",
            "description_width": ""
          }
        },
        "ecf806196b8d4129a6d9283132037c8c": {
          "model_module": "@jupyter-widgets/base",
          "model_module_version": "1.2.0",
          "model_name": "LayoutModel",
          "state": {
            "_model_module": "@jupyter-widgets/base",
            "_model_module_version": "1.2.0",
            "_model_name": "LayoutModel",
            "_view_count": null,
            "_view_module": "@jupyter-widgets/base",
            "_view_module_version": "1.2.0",
            "_view_name": "LayoutView",
            "align_content": null,
            "align_items": null,
            "align_self": null,
            "border": null,
            "bottom": null,
            "display": null,
            "flex": null,
            "flex_flow": null,
            "grid_area": null,
            "grid_auto_columns": null,
            "grid_auto_flow": null,
            "grid_auto_rows": null,
            "grid_column": null,
            "grid_gap": null,
            "grid_row": null,
            "grid_template_areas": null,
            "grid_template_columns": null,
            "grid_template_rows": null,
            "height": null,
            "justify_content": null,
            "justify_items": null,
            "left": null,
            "margin": null,
            "max_height": null,
            "max_width": null,
            "min_height": null,
            "min_width": null,
            "object_fit": null,
            "object_position": null,
            "order": null,
            "overflow": null,
            "overflow_x": null,
            "overflow_y": null,
            "padding": null,
            "right": null,
            "top": null,
            "visibility": null,
            "width": null
          }
        },
        "f82f8aa10ac44c62b950ee594b96a5e4": {
          "model_module": "@jupyter-widgets/controls",
          "model_module_version": "1.5.0",
          "model_name": "HTMLModel",
          "state": {
            "_dom_classes": [],
            "_model_module": "@jupyter-widgets/controls",
            "_model_module_version": "1.5.0",
            "_model_name": "HTMLModel",
            "_view_count": null,
            "_view_module": "@jupyter-widgets/controls",
            "_view_module_version": "1.5.0",
            "_view_name": "HTMLView",
            "description": "",
            "description_tooltip": null,
            "layout": "IPY_MODEL_ecf806196b8d4129a6d9283132037c8c",
            "placeholder": "​",
            "style": "IPY_MODEL_970ad8b51ddd4cc2a6c07d1550b557fc",
            "value": " 2/2 [00:02&lt;00:00,  0.72it/s]"
          }
        }
      }
    }
  },
  "nbformat": 4,
  "nbformat_minor": 0
}
